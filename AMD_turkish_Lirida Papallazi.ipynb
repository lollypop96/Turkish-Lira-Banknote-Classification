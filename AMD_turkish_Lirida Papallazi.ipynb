{
 "cells": [
  {
   "cell_type": "markdown",
   "metadata": {},
   "source": [
    "# Turkish Lira Dataset"
   ]
  },
  {
   "cell_type": "markdown",
   "metadata": {},
   "source": [
    "This project exploits the Turkish Lira Banknote Dataset available on Kaggle (https://www.kaggle.com/baltacifatih/turkish-lira-banknote-dataset) to implement from scratch an image classifier based on neural networks using Tensorflow.\n",
    "The trained classifier must take an image as input and provide as output the corresponding predictions w.r.t. the 5, 10, 20, 500, 100, and 200 lira classes."
   ]
  },
  {
   "cell_type": "markdown",
   "metadata": {},
   "source": [
    "The dataset has already been divided into 5550 images for training and 450 for validation, for a grand total of 6000 images whose original shape is of 1280x720x3 (width, height and 3 RGB channels)."
   ]
  },
  {
   "cell_type": "markdown",
   "metadata": {},
   "source": [
    "https://www.datacamp.com/community/tutorials/convolutional-neural-networks-python"
   ]
  },
  {
   "cell_type": "markdown",
   "metadata": {},
   "source": [
    "Download the dataset and unzip it."
   ]
  },
  {
   "cell_type": "code",
   "execution_count": 8,
   "metadata": {},
   "outputs": [],
   "source": [
    "import kaggle\n",
    "kaggle.api.authenticate()\n",
    "kaggle.api.dataset_download_files('baltacifatih/turkish-lira-banknote-dataset', unzip=True)"
   ]
  },
  {
   "cell_type": "code",
   "execution_count": 9,
   "metadata": {},
   "outputs": [],
   "source": [
    "import numpy as np\n",
    "import pandas as pd\n",
    "import pickle\n",
    "import seaborn\n",
    "import matplotlib\n",
    "import matplotlib.pyplot as plt\n",
    "from matplotlib import pyplot"
   ]
  },
  {
   "cell_type": "code",
   "execution_count": 10,
   "metadata": {},
   "outputs": [
    {
     "name": "stdout",
     "output_type": "stream",
     "text": [
      "Tensorflow version 2.3.0\n"
     ]
    }
   ],
   "source": [
    "import tensorflow as tf\n",
    "import os\n",
    "from tensorflow import keras\n",
    "\n",
    "print(\"Tensorflow version \" + tf.__version__)"
   ]
  },
  {
   "cell_type": "code",
   "execution_count": 11,
   "metadata": {},
   "outputs": [],
   "source": [
    "from skimage.io import imread\n",
    "import glob\n",
    "import re\n",
    "import skimage\n",
    "import cv2\n",
    "from PIL import Image\n",
    "%matplotlib inline"
   ]
  },
  {
   "cell_type": "code",
   "execution_count": 12,
   "metadata": {},
   "outputs": [],
   "source": [
    "# Importing the Keras libraries and packages\n",
    "from keras import backend as K\n",
    "from keras.utils import to_categorical\n",
    "from keras.layers import Dense, ZeroPadding2D, AveragePooling2D\n",
    "from keras.models import Sequential\n",
    "from keras.callbacks import EarlyStopping, ModelCheckpoint\n",
    "from keras.applications import InceptionResNetV2\n",
    "from keras.layers import Conv2D, MaxPooling2D, Flatten, Dropout, Activation\n",
    "from keras.preprocessing.image import ImageDataGenerator\n",
    "from keras.layers.normalization import BatchNormalization\n",
    "from keras.utils import to_categorical\n",
    "from sklearn.model_selection import train_test_split"
   ]
  },
  {
   "cell_type": "markdown",
   "metadata": {},
   "source": [
    "# Data analysis\n",
    "\n",
    "We import the data and analyze it.\n",
    "\n",
    "The original dataset comprehends a training and a test sets of images, therefore no further train/test split will be employed. The training set contains 5550 images, while the test set contains the remaining 450 images."
   ]
  },
  {
   "cell_type": "code",
   "execution_count": 13,
   "metadata": {
    "scrolled": true
   },
   "outputs": [],
   "source": [
    "raw_turkish=[]\n",
    "with open(\"train.txt\") as file:\n",
    "    raw_turkish=file.readlines()"
   ]
  },
  {
   "cell_type": "code",
   "execution_count": 14,
   "metadata": {},
   "outputs": [],
   "source": [
    "imageDir=''\n",
    "\n",
    "images_turkish={}\n",
    "turkish_labels, img_name=[], []\n",
    "for i in range(0, len(raw_turkish)):\n",
    "    #read each line as a string\n",
    "    s=raw_turkish[i]\n",
    "    s.rstrip(\"\\n\")\n",
    "    #split each line by the slash:\n",
    "    slashSplit=s.split(\"/\")\n",
    "    images={}\n",
    "    for x in slashSplit:\n",
    "        label=slashSplit[0]\n",
    "        imageName=slashSplit[1].rstrip(\"\\n\")\n",
    "        d={label:(imageDir+str(label)+'/'+imageName)}\n",
    "        images.update(d)\n",
    "    \n",
    "    turkish_labels.append(np.int32(label))\n",
    "    img_name.append(imageDir+str(label)+'/'+imageName)\n",
    "    raw_turkish[i]=images"
   ]
  },
  {
   "cell_type": "code",
   "execution_count": 15,
   "metadata": {
    "scrolled": false
   },
   "outputs": [],
   "source": [
    "df_turkish = pd.DataFrame.from_dict({'image':img_name,\n",
    "                                     'label':turkish_labels})"
   ]
  },
  {
   "cell_type": "code",
   "execution_count": 16,
   "metadata": {},
   "outputs": [
    {
     "data": {
      "text/html": [
       "<div>\n",
       "<style scoped>\n",
       "    .dataframe tbody tr th:only-of-type {\n",
       "        vertical-align: middle;\n",
       "    }\n",
       "\n",
       "    .dataframe tbody tr th {\n",
       "        vertical-align: top;\n",
       "    }\n",
       "\n",
       "    .dataframe thead th {\n",
       "        text-align: right;\n",
       "    }\n",
       "</style>\n",
       "<table border=\"1\" class=\"dataframe\">\n",
       "  <thead>\n",
       "    <tr style=\"text-align: right;\">\n",
       "      <th></th>\n",
       "      <th>image</th>\n",
       "      <th>label</th>\n",
       "    </tr>\n",
       "  </thead>\n",
       "  <tbody>\n",
       "    <tr>\n",
       "      <th>0</th>\n",
       "      <td>5/eminus_5_1_0062.png</td>\n",
       "      <td>5</td>\n",
       "    </tr>\n",
       "    <tr>\n",
       "      <th>1</th>\n",
       "      <td>5/eminus_5_2_0011.png</td>\n",
       "      <td>5</td>\n",
       "    </tr>\n",
       "    <tr>\n",
       "      <th>2</th>\n",
       "      <td>5/5_1_0147.png</td>\n",
       "      <td>5</td>\n",
       "    </tr>\n",
       "    <tr>\n",
       "      <th>3</th>\n",
       "      <td>5/5_1_0148.png</td>\n",
       "      <td>5</td>\n",
       "    </tr>\n",
       "    <tr>\n",
       "      <th>4</th>\n",
       "      <td>5/saltAndPeppered_5_1_0046.png</td>\n",
       "      <td>5</td>\n",
       "    </tr>\n",
       "    <tr>\n",
       "      <th>...</th>\n",
       "      <td>...</td>\n",
       "      <td>...</td>\n",
       "    </tr>\n",
       "    <tr>\n",
       "      <th>5545</th>\n",
       "      <td>200/200_1_0134.png</td>\n",
       "      <td>200</td>\n",
       "    </tr>\n",
       "    <tr>\n",
       "      <th>5546</th>\n",
       "      <td>200/200_1_0434.png</td>\n",
       "      <td>200</td>\n",
       "    </tr>\n",
       "    <tr>\n",
       "      <th>5547</th>\n",
       "      <td>200/eminus_200_1_0159.png</td>\n",
       "      <td>200</td>\n",
       "    </tr>\n",
       "    <tr>\n",
       "      <th>5548</th>\n",
       "      <td>200/eplus_200_1_0089.png</td>\n",
       "      <td>200</td>\n",
       "    </tr>\n",
       "    <tr>\n",
       "      <th>5549</th>\n",
       "      <td>200/flipped_200_1_0160.png</td>\n",
       "      <td>200</td>\n",
       "    </tr>\n",
       "  </tbody>\n",
       "</table>\n",
       "<p>5550 rows × 2 columns</p>\n",
       "</div>"
      ],
      "text/plain": [
       "                               image  label\n",
       "0              5/eminus_5_1_0062.png      5\n",
       "1              5/eminus_5_2_0011.png      5\n",
       "2                     5/5_1_0147.png      5\n",
       "3                     5/5_1_0148.png      5\n",
       "4     5/saltAndPeppered_5_1_0046.png      5\n",
       "...                              ...    ...\n",
       "5545              200/200_1_0134.png    200\n",
       "5546              200/200_1_0434.png    200\n",
       "5547       200/eminus_200_1_0159.png    200\n",
       "5548        200/eplus_200_1_0089.png    200\n",
       "5549      200/flipped_200_1_0160.png    200\n",
       "\n",
       "[5550 rows x 2 columns]"
      ]
     },
     "execution_count": 16,
     "metadata": {},
     "output_type": "execute_result"
    }
   ],
   "source": [
    "df_turkish"
   ]
  },
  {
   "cell_type": "code",
   "execution_count": 145,
   "metadata": {},
   "outputs": [],
   "source": [
    "raw_valid=[]\n",
    "with open(\"validation.txt\") as file_valid:\n",
    "    raw_valid=file_valid.readlines()"
   ]
  },
  {
   "cell_type": "code",
   "execution_count": 146,
   "metadata": {},
   "outputs": [],
   "source": [
    "images_valid={}\n",
    "valid_labels, img_name_valid=[], []\n",
    "for i in range(0, len(raw_valid)):\n",
    "    #read each line as a string\n",
    "    sValid=raw_valid[i]\n",
    "    sValid.rstrip(\"\\n\")\n",
    "    #split each line by the slash:\n",
    "    slashSplitValid=sValid.split(\"/\")\n",
    "    imagesValid={}\n",
    "    for x in slashSplitValid:\n",
    "        labelValid=slashSplitValid[0]\n",
    "        imageNameValid=slashSplitValid[1].rstrip(\"\\n\")\n",
    "        dValid={labelValid:(imageDir+str(labelValid)+'/'+imageNameValid)}\n",
    "        imagesValid.update(dValid)\n",
    "    \n",
    "    valid_labels.append(np.int32(labelValid))\n",
    "    img_name_valid.append(imageDir+str(labelValid)+'/'+imageNameValid)\n",
    "    raw_valid[i]=imagesValid"
   ]
  },
  {
   "cell_type": "code",
   "execution_count": 147,
   "metadata": {},
   "outputs": [
    {
     "data": {
      "text/html": [
       "<div>\n",
       "<style scoped>\n",
       "    .dataframe tbody tr th:only-of-type {\n",
       "        vertical-align: middle;\n",
       "    }\n",
       "\n",
       "    .dataframe tbody tr th {\n",
       "        vertical-align: top;\n",
       "    }\n",
       "\n",
       "    .dataframe thead th {\n",
       "        text-align: right;\n",
       "    }\n",
       "</style>\n",
       "<table border=\"1\" class=\"dataframe\">\n",
       "  <thead>\n",
       "    <tr style=\"text-align: right;\">\n",
       "      <th></th>\n",
       "      <th>image</th>\n",
       "      <th>label</th>\n",
       "    </tr>\n",
       "  </thead>\n",
       "  <tbody>\n",
       "    <tr>\n",
       "      <th>0</th>\n",
       "      <td>C:/Users/liry9/Desktop/Malchiodi/turkish/5/epl...</td>\n",
       "      <td>5</td>\n",
       "    </tr>\n",
       "    <tr>\n",
       "      <th>1</th>\n",
       "      <td>C:/Users/liry9/Desktop/Malchiodi/turkish/5/5_1...</td>\n",
       "      <td>5</td>\n",
       "    </tr>\n",
       "    <tr>\n",
       "      <th>2</th>\n",
       "      <td>C:/Users/liry9/Desktop/Malchiodi/turkish/5/5_1...</td>\n",
       "      <td>5</td>\n",
       "    </tr>\n",
       "    <tr>\n",
       "      <th>3</th>\n",
       "      <td>C:/Users/liry9/Desktop/Malchiodi/turkish/5/5_1...</td>\n",
       "      <td>5</td>\n",
       "    </tr>\n",
       "    <tr>\n",
       "      <th>4</th>\n",
       "      <td>C:/Users/liry9/Desktop/Malchiodi/turkish/5/emi...</td>\n",
       "      <td>5</td>\n",
       "    </tr>\n",
       "  </tbody>\n",
       "</table>\n",
       "</div>"
      ],
      "text/plain": [
       "                                               image  label\n",
       "0  C:/Users/liry9/Desktop/Malchiodi/turkish/5/epl...      5\n",
       "1  C:/Users/liry9/Desktop/Malchiodi/turkish/5/5_1...      5\n",
       "2  C:/Users/liry9/Desktop/Malchiodi/turkish/5/5_1...      5\n",
       "3  C:/Users/liry9/Desktop/Malchiodi/turkish/5/5_1...      5\n",
       "4  C:/Users/liry9/Desktop/Malchiodi/turkish/5/emi...      5"
      ]
     },
     "execution_count": 147,
     "metadata": {},
     "output_type": "execute_result"
    }
   ],
   "source": [
    "df_valid= pd.DataFrame.from_dict({'image':img_name_valid,\n",
    "                                  'label':valid_labels})\n",
    "df_valid.head(5)"
   ]
  },
  {
   "cell_type": "code",
   "execution_count": 148,
   "metadata": {},
   "outputs": [
    {
     "name": "stdout",
     "output_type": "stream",
     "text": [
      "image shape: width=1280, height=1280, channels=3\n"
     ]
    }
   ],
   "source": [
    "img=plt.imread(df_turkish.iloc[0]['image'])\n",
    "height=img.shape[0]\n",
    "width=img.shape[1]\n",
    "channels=img.shape[2]\n",
    "print('image shape: width={}, height={}, channels={}'.format(width, width, channels))"
   ]
  },
  {
   "cell_type": "code",
   "execution_count": 149,
   "metadata": {},
   "outputs": [
    {
     "data": {
      "text/plain": [
       "<matplotlib.image.AxesImage at 0x1bffa37d588>"
      ]
     },
     "execution_count": 149,
     "metadata": {},
     "output_type": "execute_result"
    },
    {
     "data": {
      "image/png": "[encoded data removed]",
      "text/plain": [
       "<Figure size 432x288 with 1 Axes>"
      ]
     },
     "metadata": {
      "needs_background": "light"
     },
     "output_type": "display_data"
    }
   ],
   "source": [
    "plt.imshow(img)"
   ]
  },
  {
   "cell_type": "markdown",
   "metadata": {},
   "source": [
    "Let's analyze the distribution of the labels in order to check whether we need to adjust the class distribution of our dataset using for example oversampling or undersampling."
   ]
  },
  {
   "cell_type": "code",
   "execution_count": 150,
   "metadata": {},
   "outputs": [
    {
     "data": {
      "text/plain": [
       "<matplotlib.axes._subplots.AxesSubplot at 0x1bfa86131c8>"
      ]
     },
     "execution_count": 150,
     "metadata": {},
     "output_type": "execute_result"
    },
    {
     "data": {
      "image/png": "[encoded data removed]",
      "text/plain": [
       "<Figure size 432x432 with 1 Axes>"
      ]
     },
     "metadata": {},
     "output_type": "display_data"
    }
   ],
   "source": [
    "seaborn.set(rc={'figure.figsize':(6,6)})\n",
    "seaborn.countplot(df_turkish['label'])"
   ]
  },
  {
   "cell_type": "code",
   "execution_count": 151,
   "metadata": {},
   "outputs": [
    {
     "data": {
      "text/plain": [
       "<matplotlib.axes._subplots.AxesSubplot at 0x1bfa86728c8>"
      ]
     },
     "execution_count": 151,
     "metadata": {},
     "output_type": "execute_result"
    },
    {
     "data": {
      "image/png": "[encoded data removed]",
      "text/plain": [
       "<Figure size 432x432 with 1 Axes>"
      ]
     },
     "metadata": {},
     "output_type": "display_data"
    }
   ],
   "source": [
    "# Let's analyze the distribution of the labels\n",
    "seaborn.set(rc={'figure.figsize':(6,6)})\n",
    "seaborn.countplot(df_valid['label'])"
   ]
  },
  {
   "cell_type": "markdown",
   "metadata": {},
   "source": [
    "As we can see the dataset is fully balanced therefore we do not need to implement any techniques of upsampling or downsampling."
   ]
  },
  {
   "cell_type": "markdown",
   "metadata": {},
   "source": [
    "# Preprocessing"
   ]
  },
  {
   "cell_type": "code",
   "execution_count": 152,
   "metadata": {},
   "outputs": [
    {
     "name": "stdout",
     "output_type": "stream",
     "text": [
      "2.304759140809377\n"
     ]
    }
   ],
   "source": [
    "import time\n",
    "# get the starting time\n",
    "startTime = time.time()\n",
    "\n",
    "# initialize the empty lists\n",
    "x_turkish=[]\n",
    "y_turkish1=[]\n",
    "dim=64\n",
    "\n",
    "# for loop\n",
    "for row in df_turkish.iterrows():\n",
    "    image = cv2.imread(row[1][0])\n",
    "    img_array = Image.fromarray(image, 'RGB')\n",
    "    img_resized = img_array.resize((dim,dim))\n",
    "    x_turkish.append(np.array(img_resized))\n",
    "    y_turkish1.append(row[1][1])\n",
    "    \n",
    "# get time taken to run the for loop\n",
    "elapsed_time_turkish = (time.time() - startTime)\n",
    "print(elapsed_time_turkish/60)"
   ]
  },
  {
   "cell_type": "code",
   "execution_count": 153,
   "metadata": {},
   "outputs": [
    {
     "name": "stdout",
     "output_type": "stream",
     "text": [
      "0.18502394358317056\n"
     ]
    }
   ],
   "source": [
    "# get the starting time\n",
    "startTime = time.time()\n",
    "\n",
    "# initialize the empty lists\n",
    "x_valid=[]\n",
    "y_valid1=[]\n",
    "dim=64\n",
    "\n",
    "# for loop\n",
    "for row in df_valid.iterrows():\n",
    "    image= cv2.imread(row[1][0])\n",
    "    img_array = Image.fromarray(image, 'RGB')\n",
    "    img_resized = img_array.resize((dim,dim))\n",
    "    x_valid.append(np.array(img_resized))\n",
    "    y_valid1.append(np.array(row[1][1]))\n",
    "    \n",
    "# get time taken to run the for loop\n",
    "elapsed_time_valid = (time.time() - startTime)\n",
    "print(elapsed_time_valid/60)"
   ]
  },
  {
   "cell_type": "code",
   "execution_count": 154,
   "metadata": {},
   "outputs": [],
   "source": [
    "x_turkish=np.array(x_turkish)\n",
    "y_turkish1=np.array(y_turkish1)\n",
    "x_valid=np.array(x_valid)\n",
    "y_valid1=np.array(y_valid1)"
   ]
  },
  {
   "cell_type": "code",
   "execution_count": 155,
   "metadata": {},
   "outputs": [
    {
     "data": {
      "text/plain": [
       "(5550, 64, 64, 3)"
      ]
     },
     "execution_count": 155,
     "metadata": {},
     "output_type": "execute_result"
    }
   ],
   "source": [
    "x_turkish.shape"
   ]
  },
  {
   "cell_type": "code",
   "execution_count": 156,
   "metadata": {},
   "outputs": [],
   "source": [
    "y_turkish=[]\n",
    "for i in y_turkish1:\n",
    "    if (i==5):\n",
    "        y_turkish.append([0])\n",
    "    elif (i==10):\n",
    "        y_turkish.append([1])\n",
    "    elif (i==20):\n",
    "        y_turkish.append([2])\n",
    "    elif (i==50):\n",
    "        y_turkish.append([3])\n",
    "    elif (i==100):\n",
    "        y_turkish.append([4])\n",
    "    elif (i==200):\n",
    "        y_turkish.append([5])"
   ]
  },
  {
   "cell_type": "code",
   "execution_count": 157,
   "metadata": {},
   "outputs": [],
   "source": [
    "y_valid=[]\n",
    "for i in y_valid1:\n",
    "    if (i==5):\n",
    "        y_valid.append([0])\n",
    "    elif (i==10):\n",
    "        y_valid.append([1])\n",
    "    elif (i==20):\n",
    "        y_valid.append([2])\n",
    "    elif (i==50):\n",
    "        y_valid.append([3])\n",
    "    elif (i==100):\n",
    "        y_valid.append([4])\n",
    "    elif (i==200):\n",
    "        y_valid.append([5])"
   ]
  },
  {
   "cell_type": "code",
   "execution_count": 158,
   "metadata": {},
   "outputs": [],
   "source": [
    "y_turkish=np.array(y_turkish)\n",
    "y_valid=np.array(y_valid)"
   ]
  },
  {
   "cell_type": "code",
   "execution_count": 159,
   "metadata": {},
   "outputs": [],
   "source": [
    "x_train, x_test, y_train, y_test = train_test_split(x_turkish, y_turkish, test_size=0.2, random_state=42)"
   ]
  },
  {
   "cell_type": "code",
   "execution_count": 160,
   "metadata": {},
   "outputs": [
    {
     "name": "stdout",
     "output_type": "stream",
     "text": [
      "(4440, 64, 64, 3) (1110, 64, 64, 3) (4440, 1) (1110, 1)\n"
     ]
    }
   ],
   "source": [
    "print(x_train.shape, x_test.shape, y_train.shape, y_test.shape)"
   ]
  },
  {
   "cell_type": "code",
   "execution_count": 161,
   "metadata": {},
   "outputs": [],
   "source": [
    "y_train = np.reshape(y_train, (y_train.shape[0], 1))\n",
    "y_test = np.reshape(y_test, (y_test.shape[0], 1))\n",
    "y_valid = np.reshape(y_valid, (y_valid.shape[0], 1))"
   ]
  },
  {
   "cell_type": "code",
   "execution_count": 162,
   "metadata": {},
   "outputs": [
    {
     "name": "stdout",
     "output_type": "stream",
     "text": [
      "(4440, 1)\n",
      "(1110, 1)\n",
      "(450, 1)\n"
     ]
    }
   ],
   "source": [
    "print(y_train.shape)\n",
    "print(y_test.shape)\n",
    "print(y_valid.shape)"
   ]
  },
  {
   "cell_type": "code",
   "execution_count": 163,
   "metadata": {},
   "outputs": [
    {
     "name": "stdout",
     "output_type": "stream",
     "text": [
      "[0]\n"
     ]
    },
    {
     "data": {
      "image/png": "[encoded data removed]",
      "text/plain": [
       "<Figure size 432x432 with 1 Axes>"
      ]
     },
     "metadata": {},
     "output_type": "display_data"
    }
   ],
   "source": [
    "plt.imshow(x_valid[0])\n",
    "print(y_valid[0])"
   ]
  },
  {
   "cell_type": "code",
   "execution_count": 164,
   "metadata": {},
   "outputs": [
    {
     "data": {
      "text/plain": [
       "array([3])"
      ]
     },
     "execution_count": 164,
     "metadata": {},
     "output_type": "execute_result"
    },
    {
     "data": {
      "image/png": "[encoded data removed]",
      "text/plain": [
       "<Figure size 432x432 with 1 Axes>"
      ]
     },
     "metadata": {},
     "output_type": "display_data"
    }
   ],
   "source": [
    "plt.imshow(x_train[0])\n",
    "y_train[0]"
   ]
  },
  {
   "cell_type": "code",
   "execution_count": 165,
   "metadata": {},
   "outputs": [
    {
     "data": {
      "text/plain": [
       "array([2])"
      ]
     },
     "execution_count": 165,
     "metadata": {},
     "output_type": "execute_result"
    },
    {
     "data": {
      "image/png": "[encoded data removed]",
      "text/plain": [
       "<Figure size 432x432 with 1 Axes>"
      ]
     },
     "metadata": {},
     "output_type": "display_data"
    }
   ],
   "source": [
    "plt.imshow(x_test[0])\n",
    "y_test[0]"
   ]
  },
  {
   "cell_type": "markdown",
   "metadata": {},
   "source": [
    "# Grayscale conversion of the images\n",
    "\n",
    "We will use the tf.image.rgb_to_grayscale function, which converts more efficiently one or more images from RGB to Grayscale."
   ]
  },
  {
   "cell_type": "code",
   "execution_count": 166,
   "metadata": {},
   "outputs": [],
   "source": [
    "x_train_gray = tf.image.rgb_to_grayscale(x_train)\n",
    "x_valid_gray = tf.image.rgb_to_grayscale(x_valid)\n",
    "x_test_gray = tf.image.rgb_to_grayscale(x_test)"
   ]
  },
  {
   "cell_type": "code",
   "execution_count": 167,
   "metadata": {},
   "outputs": [
    {
     "name": "stdout",
     "output_type": "stream",
     "text": [
      "(4440, 64, 64, 1) (1110, 64, 64, 1) (450, 64, 64, 1)\n"
     ]
    }
   ],
   "source": [
    "print(x_train_gray.shape, x_test_gray.shape, x_valid_gray.shape)"
   ]
  },
  {
   "cell_type": "code",
   "execution_count": 168,
   "metadata": {},
   "outputs": [
    {
     "data": {
      "text/plain": [
       "<matplotlib.image.AxesImage at 0x1bfa880d248>"
      ]
     },
     "execution_count": 168,
     "metadata": {},
     "output_type": "execute_result"
    },
    {
     "data": {
      "image/png": "[encoded data removed]",
      "text/plain": [
       "<Figure size 432x432 with 1 Axes>"
      ]
     },
     "metadata": {},
     "output_type": "display_data"
    }
   ],
   "source": [
    "dim = 64\n",
    "plt.imshow(tf.reshape(x_train_gray[0],[dim, dim]), cmap = \"gray\")"
   ]
  },
  {
   "cell_type": "markdown",
   "metadata": {},
   "source": [
    "# RGB color model\n",
    "\n",
    "It seems appropriate to briefly introduce the RGB color model. A color model is an abstract mathematical model describing the way colors can be represented as tuples of numbers, typically as three (as in our case) or four values or color components. The RGB model is an additive color model since the perceived color can be predicted by summing the numeric representations of the component colors which in this model are Red, Green and Blue."
   ]
  },
  {
   "cell_type": "markdown",
   "metadata": {},
   "source": [
    "We need to:\n",
    "- convert the labels to one hot encoding format;\n",
    "- rescale pixel intensity values in the interval [0,1]\n",
    "https://machinelearningmastery.com/how-to-manually-scale-image-pixel-data-for-deep-learning/"
   ]
  },
  {
   "cell_type": "code",
   "execution_count": 169,
   "metadata": {},
   "outputs": [],
   "source": [
    "# RGB scale version\n",
    "train_set_size=x_train.shape[0]\n",
    "valid_set_size=x_valid.shape[0]\n",
    "test_set_size=x_test.shape[0]\n",
    "img_dim=np.int32(64)\n",
    "dim=64\n",
    "rgb=3\n",
    "max_value=255.0\n",
    "\n",
    "# one hot encoding\n",
    "y_train_hot = to_categorical(y_train, 6)\n",
    "y_valid_hot = to_categorical(y_valid, 6)\n",
    "y_test_hot = to_categorical(y_test, 6)\n",
    "\n",
    "# rescale in [0,1]\n",
    "x_train = tf.cast(x_train, tf.float32) / max_value\n",
    "x_valid = tf.cast(x_valid, tf.float32) / max_value\n",
    "x_test = tf.cast(x_test, tf.float32) / max_value"
   ]
  },
  {
   "cell_type": "code",
   "execution_count": 170,
   "metadata": {},
   "outputs": [],
   "source": [
    "# RGB flatted images\n",
    "# flatten the images\n",
    "x_train_flat = tf.reshape(x_train, [train_set_size, img_dim * img_dim * 3])\n",
    "x_test_flat = tf.reshape(x_test, [test_set_size, img_dim * img_dim * 3])\n",
    "x_valid_flat = tf.reshape(x_valid, [valid_set_size, img_dim * img_dim * 3])\n",
    "\n",
    "# rescale in [0,1]\n",
    "x_train_flat = tf.cast(x_train_flat, tf.float32) / max_value\n",
    "x_valid_flat = tf.cast(x_valid_flat, tf.float32) / max_value\n",
    "x_test_flat = tf.cast(x_test_flat, tf.float32) / max_value"
   ]
  },
  {
   "cell_type": "code",
   "execution_count": 171,
   "metadata": {},
   "outputs": [
    {
     "data": {
      "text/plain": [
       "TensorShape([4440, 64, 64, 3])"
      ]
     },
     "execution_count": 171,
     "metadata": {},
     "output_type": "execute_result"
    }
   ],
   "source": [
    "x_train.shape"
   ]
  },
  {
   "cell_type": "code",
   "execution_count": 172,
   "metadata": {},
   "outputs": [],
   "source": [
    "# Gray scale version\n",
    "train_gray_size=x_train_gray.shape[0]\n",
    "valid_gray_size=x_valid_gray.shape[0]\n",
    "test_gray_size=x_test_gray.shape[0]\n",
    "img_dim=np.int32(64)\n",
    "max_value=np.float32(255.0)\n",
    "\n",
    "# rescale the flatted images in [0,1]\n",
    "x_train_gray = tf.cast(x_train_gray, tf.float32) / max_value\n",
    "x_valid_gray = tf.cast(x_valid_gray, tf.float32) / max_value\n",
    "x_test_gray = tf.cast(x_test_gray, tf.float32) / max_value"
   ]
  },
  {
   "cell_type": "code",
   "execution_count": 173,
   "metadata": {},
   "outputs": [],
   "source": [
    "# Grayscale flatted images\n",
    "# flatten the images\n",
    "x_train_gray_flat = tf.reshape(x_train_gray, [train_gray_size, img_dim * img_dim])\n",
    "x_test_gray_flat = tf.reshape(x_test_gray, [test_gray_size, img_dim * img_dim])\n",
    "x_valid_gray_flat = tf.reshape(x_valid_gray, [valid_gray_size, img_dim * img_dim])\n",
    "\n",
    "# rescale the flatted images in [0,1]\n",
    "x_train_gray_flat = tf.cast(x_train_gray_flat, tf.float32) / max_value\n",
    "x_valid_gray_flat = tf.cast(x_valid_gray_flat, tf.float32) / max_value\n",
    "x_test_gray_flat = tf.cast(x_test_gray_flat, tf.float32) / max_value"
   ]
  },
  {
   "cell_type": "code",
   "execution_count": 174,
   "metadata": {},
   "outputs": [
    {
     "name": "stdout",
     "output_type": "stream",
     "text": [
      "(4440, 4096) (4440, 6) (1110, 4096) (1110, 6)\n"
     ]
    }
   ],
   "source": [
    "print(x_train_gray_flat.shape, y_train_hot.shape, x_test_gray_flat.shape, y_test_hot.shape)"
   ]
  },
  {
   "cell_type": "markdown",
   "metadata": {},
   "source": [
    "# PCA"
   ]
  },
  {
   "cell_type": "code",
   "execution_count": 175,
   "metadata": {},
   "outputs": [],
   "source": [
    "from sklearn.metrics import confusion_matrix\n",
    "from sklearn.decomposition import PCA\n",
    "from sklearn.model_selection import train_test_split\n",
    "from sklearn.preprocessing import StandardScaler"
   ]
  },
  {
   "cell_type": "code",
   "execution_count": 176,
   "metadata": {},
   "outputs": [
    {
     "data": {
      "image/png": "[encoded data removed]",
      "text/plain": [
       "<Figure size 432x432 with 1 Axes>"
      ]
     },
     "metadata": {},
     "output_type": "display_data"
    }
   ],
   "source": [
    "x_pca=PCA().fit(x_train_flat)\n",
    "plt.plot(np.cumsum(x_pca.explained_variance_ratio_))\n",
    "plt.xlabel('number of components')\n",
    "plt.ylabel('cumulative explained variance');"
   ]
  },
  {
   "cell_type": "code",
   "execution_count": 177,
   "metadata": {},
   "outputs": [],
   "source": [
    "pca_rgb = PCA(0.9)"
   ]
  },
  {
   "cell_type": "code",
   "execution_count": 178,
   "metadata": {},
   "outputs": [],
   "source": [
    "train_rgb = pca_rgb.fit(x_train_flat)\n",
    "valid_rgb = pca_rgb.fit(x_valid_flat)\n",
    "test_rgb = pca_rgb.fit(x_test_flat)"
   ]
  },
  {
   "cell_type": "code",
   "execution_count": 179,
   "metadata": {},
   "outputs": [
    {
     "data": {
      "text/plain": [
       "62"
      ]
     },
     "execution_count": 179,
     "metadata": {},
     "output_type": "execute_result"
    }
   ],
   "source": [
    "pca_rgb.n_components_"
   ]
  },
  {
   "cell_type": "code",
   "execution_count": 186,
   "metadata": {},
   "outputs": [],
   "source": [
    "train_pca = pca_rgb.transform(x_train_flat)\n",
    "valid_pca = pca_rgb.transform(x_valid_flat)\n",
    "test_pca = pca_rgb.transform(x_test_flat)"
   ]
  },
  {
   "cell_type": "markdown",
   "metadata": {},
   "source": [
    "# Feed-forward neural networks"
   ]
  },
  {
   "cell_type": "markdown",
   "metadata": {},
   "source": [
    "To build an image classifier we proceed as follows:\n",
    "- convert RGB images in grayscale,\n",
    "- flatten the images;\n",
    "- build a feed-forward neural network;\n",
    "- tune the network to improve the accuracy.\n",
    "\n",
    "We also modify the visualization of the labels of the test set."
   ]
  },
  {
   "cell_type": "code",
   "execution_count": 60,
   "metadata": {},
   "outputs": [],
   "source": [
    "y_test_orig=[]\n",
    "for elem in y_test:\n",
    "    y_test_orig.append(elem[0])"
   ]
  },
  {
   "cell_type": "markdown",
   "metadata": {},
   "source": [
    "We then test a one layer feed-forward neural network with 64 neurons."
   ]
  },
  {
   "cell_type": "code",
   "execution_count": 54,
   "metadata": {},
   "outputs": [
    {
     "name": "stdout",
     "output_type": "stream",
     "text": [
      "Model: \"sequential_1\"\n",
      "_________________________________________________________________\n",
      "Layer (type)                 Output Shape              Param #   \n",
      "=================================================================\n",
      "flatten_1 (Flatten)          (None, 4096)              0         \n",
      "_________________________________________________________________\n",
      "dense_3 (Dense)              (None, 4096)              16781312  \n",
      "_________________________________________________________________\n",
      "dense_4 (Dense)              (None, 6)                 24582     \n",
      "=================================================================\n",
      "Total params: 16,805,894\n",
      "Trainable params: 16,805,894\n",
      "Non-trainable params: 0\n",
      "_________________________________________________________________\n"
     ]
    }
   ],
   "source": [
    "model_one_layer = tf.keras.Sequential([\n",
    "    tf.keras.layers.Flatten(input_shape=(4096,)),\n",
    "    tf.keras.layers.Dense(4096, activation='relu'),\n",
    "    tf.keras.layers.Dense(6, activation='softmax')\n",
    "])\n",
    "\n",
    "model_one_layer.compile(loss = 'binary_crossentropy',\n",
    "              optimizer = 'adam',\n",
    "              metrics = ['accuracy'])\n",
    "model_one_layer.summary()"
   ]
  },
  {
   "cell_type": "code",
   "execution_count": 55,
   "metadata": {},
   "outputs": [
    {
     "name": "stdout",
     "output_type": "stream",
     "text": [
      "Epoch 1/10\n",
      "70/70 [==============================] - 6s 90ms/step - loss: 0.4457 - accuracy: 0.2275 - val_loss: 0.4331 - val_accuracy: 0.2844\n",
      "Epoch 2/10\n",
      "70/70 [==============================] - 6s 88ms/step - loss: 0.4296 - accuracy: 0.2912 - val_loss: 0.4208 - val_accuracy: 0.3267\n",
      "Epoch 3/10\n",
      "70/70 [==============================] - 6s 91ms/step - loss: 0.4206 - accuracy: 0.3160 - val_loss: 0.4141 - val_accuracy: 0.3622\n",
      "Epoch 4/10\n",
      "70/70 [==============================] - 6s 89ms/step - loss: 0.4132 - accuracy: 0.3385 - val_loss: 0.4076 - val_accuracy: 0.3622\n",
      "Epoch 5/10\n",
      "70/70 [==============================] - 6s 90ms/step - loss: 0.4047 - accuracy: 0.3637 - val_loss: 0.4035 - val_accuracy: 0.3822\n",
      "Epoch 6/10\n",
      "70/70 [==============================] - 6s 90ms/step - loss: 0.4008 - accuracy: 0.3745 - val_loss: 0.4016 - val_accuracy: 0.4111\n",
      "Epoch 7/10\n",
      "70/70 [==============================] - 6s 89ms/step - loss: 0.3922 - accuracy: 0.4097 - val_loss: 0.3958 - val_accuracy: 0.4044\n",
      "Epoch 8/10\n",
      "70/70 [==============================] - 6s 90ms/step - loss: 0.3834 - accuracy: 0.4297 - val_loss: 0.3887 - val_accuracy: 0.4533\n",
      "Epoch 9/10\n",
      "70/70 [==============================] - 6s 90ms/step - loss: 0.3752 - accuracy: 0.4574 - val_loss: 0.3780 - val_accuracy: 0.4644\n",
      "Epoch 10/10\n",
      "70/70 [==============================] - 6s 92ms/step - loss: 0.3680 - accuracy: 0.4653 - val_loss: 0.3734 - val_accuracy: 0.4867\n"
     ]
    }
   ],
   "source": [
    "history_one_layer= model_one_layer.fit(x_train_gray_flat, y_train_hot,\n",
    "                                       batch_size=64,\n",
    "                                       epochs=10,\n",
    "                                       validation_data=(x_valid_gray_flat, y_valid_hot))       "
   ]
  },
  {
   "cell_type": "code",
   "execution_count": 56,
   "metadata": {},
   "outputs": [
    {
     "name": "stdout",
     "output_type": "stream",
     "text": [
      "12/12 [==============================] - 0s 21ms/step - loss: 0.3672 - accuracy: 0.4955\n"
     ]
    }
   ],
   "source": [
    "model_predict_one_layer = model_one_layer.evaluate(x_test_gray_flat, y_test_hot, batch_size=100)"
   ]
  },
  {
   "cell_type": "code",
   "execution_count": 57,
   "metadata": {},
   "outputs": [],
   "source": [
    "pred_labels_one_layer=model_one_layer.predict_classes(x_test_gray_flat)"
   ]
  },
  {
   "cell_type": "code",
   "execution_count": 58,
   "metadata": {},
   "outputs": [],
   "source": [
    "y_pred_one_layer=[]\n",
    "for elem in pred_labels_one_layer:\n",
    "    y_pred_one_layer.append(elem)"
   ]
  },
  {
   "cell_type": "code",
   "execution_count": 61,
   "metadata": {},
   "outputs": [
    {
     "data": {
      "text/html": [
       "<div>\n",
       "<style scoped>\n",
       "    .dataframe tbody tr th:only-of-type {\n",
       "        vertical-align: middle;\n",
       "    }\n",
       "\n",
       "    .dataframe tbody tr th {\n",
       "        vertical-align: top;\n",
       "    }\n",
       "\n",
       "    .dataframe thead th {\n",
       "        text-align: right;\n",
       "    }\n",
       "</style>\n",
       "<table border=\"1\" class=\"dataframe\">\n",
       "  <thead>\n",
       "    <tr style=\"text-align: right;\">\n",
       "      <th></th>\n",
       "      <th>Original labels</th>\n",
       "      <th>Predicted labels</th>\n",
       "    </tr>\n",
       "  </thead>\n",
       "  <tbody>\n",
       "    <tr>\n",
       "      <th>0</th>\n",
       "      <td>2</td>\n",
       "      <td>0</td>\n",
       "    </tr>\n",
       "    <tr>\n",
       "      <th>1</th>\n",
       "      <td>5</td>\n",
       "      <td>1</td>\n",
       "    </tr>\n",
       "    <tr>\n",
       "      <th>2</th>\n",
       "      <td>4</td>\n",
       "      <td>1</td>\n",
       "    </tr>\n",
       "    <tr>\n",
       "      <th>3</th>\n",
       "      <td>0</td>\n",
       "      <td>4</td>\n",
       "    </tr>\n",
       "    <tr>\n",
       "      <th>4</th>\n",
       "      <td>3</td>\n",
       "      <td>1</td>\n",
       "    </tr>\n",
       "    <tr>\n",
       "      <th>...</th>\n",
       "      <td>...</td>\n",
       "      <td>...</td>\n",
       "    </tr>\n",
       "    <tr>\n",
       "      <th>1105</th>\n",
       "      <td>5</td>\n",
       "      <td>1</td>\n",
       "    </tr>\n",
       "    <tr>\n",
       "      <th>1106</th>\n",
       "      <td>1</td>\n",
       "      <td>5</td>\n",
       "    </tr>\n",
       "    <tr>\n",
       "      <th>1107</th>\n",
       "      <td>1</td>\n",
       "      <td>1</td>\n",
       "    </tr>\n",
       "    <tr>\n",
       "      <th>1108</th>\n",
       "      <td>3</td>\n",
       "      <td>0</td>\n",
       "    </tr>\n",
       "    <tr>\n",
       "      <th>1109</th>\n",
       "      <td>0</td>\n",
       "      <td>5</td>\n",
       "    </tr>\n",
       "  </tbody>\n",
       "</table>\n",
       "<p>1110 rows × 2 columns</p>\n",
       "</div>"
      ],
      "text/plain": [
       "      Original labels  Predicted labels\n",
       "0                   2                 0\n",
       "1                   5                 1\n",
       "2                   4                 1\n",
       "3                   0                 4\n",
       "4                   3                 1\n",
       "...               ...               ...\n",
       "1105                5                 1\n",
       "1106                1                 5\n",
       "1107                1                 1\n",
       "1108                3                 0\n",
       "1109                0                 5\n",
       "\n",
       "[1110 rows x 2 columns]"
      ]
     },
     "execution_count": 61,
     "metadata": {},
     "output_type": "execute_result"
    }
   ],
   "source": [
    "df_one_layer=pd.DataFrame({'Original labels':y_test_orig,\n",
    "                           'Predicted labels':y_pred_one_layer})\n",
    "df_one_layer"
   ]
  },
  {
   "cell_type": "code",
   "execution_count": 79,
   "metadata": {},
   "outputs": [
    {
     "data": {
      "text/plain": [
       "<matplotlib.legend.Legend at 0x1bfb9866248>"
      ]
     },
     "execution_count": 79,
     "metadata": {},
     "output_type": "execute_result"
    },
    {
     "data": {
      "image/png": "[encoded data removed]",
      "text/plain": [
       "<Figure size 432x432 with 1 Axes>"
      ]
     },
     "metadata": {},
     "output_type": "display_data"
    }
   ],
   "source": [
    "plt.plot(history_one_layer.history['loss'], label='loss')\n",
    "plt.plot(history_one_layer.history['val_loss'], label = 'val_loss')\n",
    "plt.xlabel('Epoch')\n",
    "plt.ylabel('loss')\n",
    "plt.ylim([0.3, 0.6])\n",
    "plt.legend(loc='lower right')"
   ]
  },
  {
   "cell_type": "markdown",
   "metadata": {},
   "source": [
    "Two layer Network"
   ]
  },
  {
   "cell_type": "code",
   "execution_count": 63,
   "metadata": {},
   "outputs": [
    {
     "name": "stdout",
     "output_type": "stream",
     "text": [
      "Model: \"sequential_2\"\n",
      "_________________________________________________________________\n",
      "Layer (type)                 Output Shape              Param #   \n",
      "=================================================================\n",
      "flatten_2 (Flatten)          (None, 4096)              0         \n",
      "_________________________________________________________________\n",
      "dense_5 (Dense)              (None, 64)                262208    \n",
      "_________________________________________________________________\n",
      "dense_6 (Dense)              (None, 16)                1040      \n",
      "_________________________________________________________________\n",
      "dense_7 (Dense)              (None, 6)                 102       \n",
      "=================================================================\n",
      "Total params: 263,350\n",
      "Trainable params: 263,350\n",
      "Non-trainable params: 0\n",
      "_________________________________________________________________\n"
     ]
    }
   ],
   "source": [
    "model_two_layer = tf.keras.Sequential([\n",
    "    tf.keras.layers.Flatten(input_shape=(4096,)),\n",
    "    tf.keras.layers.Dense(64, activation='relu'),\n",
    "    tf.keras.layers.Dense(16, activation='relu'),\n",
    "    tf.keras.layers.Dense(6, activation='softmax')\n",
    "])\n",
    "\n",
    "model_two_layer.compile(loss = 'binary_crossentropy',\n",
    "              optimizer = 'adam',\n",
    "              metrics = ['accuracy'])\n",
    "model_two_layer.summary()"
   ]
  },
  {
   "cell_type": "code",
   "execution_count": 80,
   "metadata": {},
   "outputs": [
    {
     "name": "stdout",
     "output_type": "stream",
     "text": [
      "Epoch 1/20\n",
      "70/70 [==============================] - 0s 4ms/step - loss: 0.4002 - accuracy: 0.3849 - val_loss: 0.3994 - val_accuracy: 0.3933\n",
      "Epoch 2/20\n",
      "70/70 [==============================] - 0s 4ms/step - loss: 0.3984 - accuracy: 0.3899 - val_loss: 0.4007 - val_accuracy: 0.3644\n",
      "Epoch 3/20\n",
      "70/70 [==============================] - 0s 4ms/step - loss: 0.3973 - accuracy: 0.3896 - val_loss: 0.3985 - val_accuracy: 0.3822\n",
      "Epoch 4/20\n",
      "70/70 [==============================] - 0s 4ms/step - loss: 0.3949 - accuracy: 0.3980 - val_loss: 0.3959 - val_accuracy: 0.3867\n",
      "Epoch 5/20\n",
      "70/70 [==============================] - 0s 4ms/step - loss: 0.3930 - accuracy: 0.4043 - val_loss: 0.3939 - val_accuracy: 0.4089\n",
      "Epoch 6/20\n",
      "70/70 [==============================] - 0s 4ms/step - loss: 0.3909 - accuracy: 0.4063 - val_loss: 0.3968 - val_accuracy: 0.3889\n",
      "Epoch 7/20\n",
      "70/70 [==============================] - 0s 4ms/step - loss: 0.3890 - accuracy: 0.4151 - val_loss: 0.3917 - val_accuracy: 0.4000\n",
      "Epoch 8/20\n",
      "70/70 [==============================] - 0s 4ms/step - loss: 0.3874 - accuracy: 0.4171 - val_loss: 0.3937 - val_accuracy: 0.4067\n",
      "Epoch 9/20\n",
      "70/70 [==============================] - 0s 4ms/step - loss: 0.3876 - accuracy: 0.4205 - val_loss: 0.3908 - val_accuracy: 0.3956\n",
      "Epoch 10/20\n",
      "70/70 [==============================] - 0s 4ms/step - loss: 0.3851 - accuracy: 0.4264 - val_loss: 0.3893 - val_accuracy: 0.4133\n",
      "Epoch 11/20\n",
      "70/70 [==============================] - 0s 4ms/step - loss: 0.3830 - accuracy: 0.4349 - val_loss: 0.3892 - val_accuracy: 0.4111\n",
      "Epoch 12/20\n",
      "70/70 [==============================] - 0s 4ms/step - loss: 0.3811 - accuracy: 0.4383 - val_loss: 0.3858 - val_accuracy: 0.4244\n",
      "Epoch 13/20\n",
      "70/70 [==============================] - 0s 4ms/step - loss: 0.3795 - accuracy: 0.4383 - val_loss: 0.3856 - val_accuracy: 0.4178\n",
      "Epoch 14/20\n",
      "70/70 [==============================] - 0s 4ms/step - loss: 0.3786 - accuracy: 0.4399 - val_loss: 0.3844 - val_accuracy: 0.4111\n",
      "Epoch 15/20\n",
      "70/70 [==============================] - 0s 4ms/step - loss: 0.3767 - accuracy: 0.4457 - val_loss: 0.3848 - val_accuracy: 0.4289\n",
      "Epoch 16/20\n",
      "70/70 [==============================] - 0s 4ms/step - loss: 0.3754 - accuracy: 0.4529 - val_loss: 0.3862 - val_accuracy: 0.4400\n",
      "Epoch 17/20\n",
      "70/70 [==============================] - 0s 4ms/step - loss: 0.3752 - accuracy: 0.4523 - val_loss: 0.3833 - val_accuracy: 0.4311\n",
      "Epoch 18/20\n",
      "70/70 [==============================] - 0s 3ms/step - loss: 0.3733 - accuracy: 0.4583 - val_loss: 0.3810 - val_accuracy: 0.4244\n",
      "Epoch 19/20\n",
      "70/70 [==============================] - 0s 4ms/step - loss: 0.3713 - accuracy: 0.4592 - val_loss: 0.3789 - val_accuracy: 0.4311\n",
      "Epoch 20/20\n",
      "70/70 [==============================] - 0s 4ms/step - loss: 0.3698 - accuracy: 0.4660 - val_loss: 0.3788 - val_accuracy: 0.4556\n"
     ]
    }
   ],
   "source": [
    "history_two_layer= model_two_layer.fit(x_train_gray_flat, y_train_hot,\n",
    "                                       epochs=20,\n",
    "                                       batch_size=64,\n",
    "                                       validation_data=(x_valid_gray_flat, y_valid_hot))      "
   ]
  },
  {
   "cell_type": "code",
   "execution_count": 81,
   "metadata": {},
   "outputs": [
    {
     "name": "stdout",
     "output_type": "stream",
     "text": [
      "12/12 [==============================] - 0s 2ms/step - loss: 0.3695 - accuracy: 0.4811\n"
     ]
    }
   ],
   "source": [
    "model_predict_two_layer = model_two_layer.evaluate(x_test_gray_flat,\n",
    "                                                   y_test_hot,\n",
    "                                                   batch_size=100)"
   ]
  },
  {
   "cell_type": "code",
   "execution_count": 82,
   "metadata": {},
   "outputs": [],
   "source": [
    "pred_labels_two_layer=model_two_layer.predict_classes(x_test_gray_flat)"
   ]
  },
  {
   "cell_type": "code",
   "execution_count": 83,
   "metadata": {},
   "outputs": [],
   "source": [
    "y_pred_two_layer=[]\n",
    "for elem in pred_labels_two_layer:\n",
    "    y_pred_two_layer.append(elem)"
   ]
  },
  {
   "cell_type": "code",
   "execution_count": 84,
   "metadata": {},
   "outputs": [
    {
     "data": {
      "text/html": [
       "<div>\n",
       "<style scoped>\n",
       "    .dataframe tbody tr th:only-of-type {\n",
       "        vertical-align: middle;\n",
       "    }\n",
       "\n",
       "    .dataframe tbody tr th {\n",
       "        vertical-align: top;\n",
       "    }\n",
       "\n",
       "    .dataframe thead th {\n",
       "        text-align: right;\n",
       "    }\n",
       "</style>\n",
       "<table border=\"1\" class=\"dataframe\">\n",
       "  <thead>\n",
       "    <tr style=\"text-align: right;\">\n",
       "      <th></th>\n",
       "      <th>Original labels</th>\n",
       "      <th>Predicted labels</th>\n",
       "    </tr>\n",
       "  </thead>\n",
       "  <tbody>\n",
       "    <tr>\n",
       "      <th>0</th>\n",
       "      <td>2</td>\n",
       "      <td>0</td>\n",
       "    </tr>\n",
       "    <tr>\n",
       "      <th>1</th>\n",
       "      <td>5</td>\n",
       "      <td>4</td>\n",
       "    </tr>\n",
       "    <tr>\n",
       "      <th>2</th>\n",
       "      <td>4</td>\n",
       "      <td>4</td>\n",
       "    </tr>\n",
       "    <tr>\n",
       "      <th>3</th>\n",
       "      <td>0</td>\n",
       "      <td>4</td>\n",
       "    </tr>\n",
       "    <tr>\n",
       "      <th>4</th>\n",
       "      <td>3</td>\n",
       "      <td>2</td>\n",
       "    </tr>\n",
       "    <tr>\n",
       "      <th>...</th>\n",
       "      <td>...</td>\n",
       "      <td>...</td>\n",
       "    </tr>\n",
       "    <tr>\n",
       "      <th>1105</th>\n",
       "      <td>5</td>\n",
       "      <td>5</td>\n",
       "    </tr>\n",
       "    <tr>\n",
       "      <th>1106</th>\n",
       "      <td>1</td>\n",
       "      <td>4</td>\n",
       "    </tr>\n",
       "    <tr>\n",
       "      <th>1107</th>\n",
       "      <td>1</td>\n",
       "      <td>1</td>\n",
       "    </tr>\n",
       "    <tr>\n",
       "      <th>1108</th>\n",
       "      <td>3</td>\n",
       "      <td>0</td>\n",
       "    </tr>\n",
       "    <tr>\n",
       "      <th>1109</th>\n",
       "      <td>0</td>\n",
       "      <td>4</td>\n",
       "    </tr>\n",
       "  </tbody>\n",
       "</table>\n",
       "<p>1110 rows × 2 columns</p>\n",
       "</div>"
      ],
      "text/plain": [
       "      Original labels  Predicted labels\n",
       "0                   2                 0\n",
       "1                   5                 4\n",
       "2                   4                 4\n",
       "3                   0                 4\n",
       "4                   3                 2\n",
       "...               ...               ...\n",
       "1105                5                 5\n",
       "1106                1                 4\n",
       "1107                1                 1\n",
       "1108                3                 0\n",
       "1109                0                 4\n",
       "\n",
       "[1110 rows x 2 columns]"
      ]
     },
     "execution_count": 84,
     "metadata": {},
     "output_type": "execute_result"
    }
   ],
   "source": [
    "df_two_layer=pd.DataFrame({'Original labels':y_test_orig,\n",
    "                           'Predicted labels':y_pred_two_layer})\n",
    "df_two_layer"
   ]
  },
  {
   "cell_type": "code",
   "execution_count": 96,
   "metadata": {},
   "outputs": [
    {
     "data": {
      "text/plain": [
       "<matplotlib.legend.Legend at 0x1bfcd2c9048>"
      ]
     },
     "execution_count": 96,
     "metadata": {},
     "output_type": "execute_result"
    },
    {
     "data": {
      "image/png": "[encoded data removed]",
      "text/plain": [
       "<Figure size 432x432 with 1 Axes>"
      ]
     },
     "metadata": {},
     "output_type": "display_data"
    }
   ],
   "source": [
    "plt.plot(history_two_layer.history['loss'], label='loss')\n",
    "plt.plot(history_two_layer.history['val_loss'], label = 'val_loss')\n",
    "plt.xlabel('Epoch')\n",
    "plt.ylabel('loss')\n",
    "plt.ylim([0.3, 0.5])\n",
    "plt.legend(loc='lower right')"
   ]
  },
  {
   "cell_type": "markdown",
   "metadata": {},
   "source": [
    "Three layer network"
   ]
  },
  {
   "cell_type": "code",
   "execution_count": 86,
   "metadata": {},
   "outputs": [
    {
     "name": "stdout",
     "output_type": "stream",
     "text": [
      "Model: \"sequential_4\"\n",
      "_________________________________________________________________\n",
      "Layer (type)                 Output Shape              Param #   \n",
      "=================================================================\n",
      "flatten_4 (Flatten)          (None, 4096)              0         \n",
      "_________________________________________________________________\n",
      "dense_12 (Dense)             (None, 64)                262208    \n",
      "_________________________________________________________________\n",
      "dense_13 (Dense)             (None, 16)                1040      \n",
      "_________________________________________________________________\n",
      "dense_14 (Dense)             (None, 8)                 136       \n",
      "_________________________________________________________________\n",
      "dense_15 (Dense)             (None, 6)                 54        \n",
      "=================================================================\n",
      "Total params: 263,438\n",
      "Trainable params: 263,438\n",
      "Non-trainable params: 0\n",
      "_________________________________________________________________\n"
     ]
    }
   ],
   "source": [
    "model_three_layer = tf.keras.Sequential([\n",
    "    tf.keras.layers.Flatten(input_shape=(4096,)),\n",
    "    tf.keras.layers.Dense(64, activation='relu'),\n",
    "    tf.keras.layers.Dense(16, activation='relu'),\n",
    "    tf.keras.layers.Dense(8, activation='relu'),\n",
    "    tf.keras.layers.Dense(6, activation='softmax')\n",
    "])\n",
    "\n",
    "model_three_layer.compile(loss = 'binary_crossentropy',\n",
    "              optimizer = 'adam',\n",
    "              metrics = ['accuracy'])\n",
    "model_three_layer.summary()"
   ]
  },
  {
   "cell_type": "code",
   "execution_count": 87,
   "metadata": {},
   "outputs": [
    {
     "name": "stdout",
     "output_type": "stream",
     "text": [
      "Epoch 1/20\n",
      "70/70 [==============================] - 0s 5ms/step - loss: 0.4501 - accuracy: 0.1813 - val_loss: 0.4490 - val_accuracy: 0.1956\n",
      "Epoch 2/20\n",
      "70/70 [==============================] - 0s 3ms/step - loss: 0.4479 - accuracy: 0.1991 - val_loss: 0.4445 - val_accuracy: 0.2556\n",
      "Epoch 3/20\n",
      "70/70 [==============================] - 0s 3ms/step - loss: 0.4434 - accuracy: 0.2356 - val_loss: 0.4400 - val_accuracy: 0.2400\n",
      "Epoch 4/20\n",
      "70/70 [==============================] - 0s 3ms/step - loss: 0.4388 - accuracy: 0.2351 - val_loss: 0.4343 - val_accuracy: 0.2422\n",
      "Epoch 5/20\n",
      "70/70 [==============================] - 0s 4ms/step - loss: 0.4347 - accuracy: 0.2491 - val_loss: 0.4303 - val_accuracy: 0.2556\n",
      "Epoch 6/20\n",
      "70/70 [==============================] - 0s 3ms/step - loss: 0.4311 - accuracy: 0.2599 - val_loss: 0.4276 - val_accuracy: 0.2667\n",
      "Epoch 7/20\n",
      "70/70 [==============================] - 0s 4ms/step - loss: 0.4286 - accuracy: 0.2640 - val_loss: 0.4268 - val_accuracy: 0.2711\n",
      "Epoch 8/20\n",
      "70/70 [==============================] - 0s 4ms/step - loss: 0.4265 - accuracy: 0.2644 - val_loss: 0.4254 - val_accuracy: 0.2733\n",
      "Epoch 9/20\n",
      "70/70 [==============================] - 0s 4ms/step - loss: 0.4248 - accuracy: 0.2745 - val_loss: 0.4202 - val_accuracy: 0.2622\n",
      "Epoch 10/20\n",
      "70/70 [==============================] - 0s 4ms/step - loss: 0.4223 - accuracy: 0.2802 - val_loss: 0.4179 - val_accuracy: 0.2778\n",
      "Epoch 11/20\n",
      "70/70 [==============================] - 0s 4ms/step - loss: 0.4204 - accuracy: 0.2923 - val_loss: 0.4164 - val_accuracy: 0.3178\n",
      "Epoch 12/20\n",
      "70/70 [==============================] - 0s 4ms/step - loss: 0.4197 - accuracy: 0.3113 - val_loss: 0.4144 - val_accuracy: 0.3133\n",
      "Epoch 13/20\n",
      "70/70 [==============================] - 0s 4ms/step - loss: 0.4168 - accuracy: 0.3187 - val_loss: 0.4119 - val_accuracy: 0.3244\n",
      "Epoch 14/20\n",
      "70/70 [==============================] - 0s 3ms/step - loss: 0.4151 - accuracy: 0.3399 - val_loss: 0.4099 - val_accuracy: 0.3467\n",
      "Epoch 15/20\n",
      "70/70 [==============================] - 0s 4ms/step - loss: 0.4125 - accuracy: 0.3459 - val_loss: 0.4081 - val_accuracy: 0.3556\n",
      "Epoch 16/20\n",
      "70/70 [==============================] - 0s 3ms/step - loss: 0.4103 - accuracy: 0.3527 - val_loss: 0.4065 - val_accuracy: 0.3467\n",
      "Epoch 17/20\n",
      "70/70 [==============================] - 0s 3ms/step - loss: 0.4082 - accuracy: 0.3563 - val_loss: 0.4050 - val_accuracy: 0.3600\n",
      "Epoch 18/20\n",
      "70/70 [==============================] - 0s 4ms/step - loss: 0.4065 - accuracy: 0.3651 - val_loss: 0.4044 - val_accuracy: 0.3578\n",
      "Epoch 19/20\n",
      "70/70 [==============================] - 0s 4ms/step - loss: 0.4038 - accuracy: 0.3743 - val_loss: 0.4006 - val_accuracy: 0.3733\n",
      "Epoch 20/20\n",
      "70/70 [==============================] - 0s 3ms/step - loss: 0.4023 - accuracy: 0.3768 - val_loss: 0.4019 - val_accuracy: 0.3733\n"
     ]
    }
   ],
   "source": [
    "history_three_layer= model_three_layer.fit(x_train_gray_flat, y_train_hot,\n",
    "                                       epochs=20,\n",
    "                                       batch_size=64,\n",
    "                                       validation_data=(x_valid_gray_flat, y_valid_hot))       "
   ]
  },
  {
   "cell_type": "code",
   "execution_count": 88,
   "metadata": {},
   "outputs": [
    {
     "name": "stdout",
     "output_type": "stream",
     "text": [
      "12/12 [==============================] - 0s 2ms/step - loss: 0.4012 - accuracy: 0.3820\n"
     ]
    }
   ],
   "source": [
    "model_predict_three_layer = model_three_layer.evaluate(x_test_gray_flat,\n",
    "                                                       y_test_hot,\n",
    "                                                       batch_size=100)"
   ]
  },
  {
   "cell_type": "code",
   "execution_count": 89,
   "metadata": {},
   "outputs": [],
   "source": [
    "pred_labels_three_layer = model_three_layer.predict_classes(x_test_gray_flat)"
   ]
  },
  {
   "cell_type": "code",
   "execution_count": 90,
   "metadata": {},
   "outputs": [],
   "source": [
    "y_pred_three_layer=[]\n",
    "for elem in pred_labels_three_layer:\n",
    "    y_pred_three_layer.append(elem)"
   ]
  },
  {
   "cell_type": "code",
   "execution_count": 91,
   "metadata": {},
   "outputs": [
    {
     "data": {
      "text/html": [
       "<div>\n",
       "<style scoped>\n",
       "    .dataframe tbody tr th:only-of-type {\n",
       "        vertical-align: middle;\n",
       "    }\n",
       "\n",
       "    .dataframe tbody tr th {\n",
       "        vertical-align: top;\n",
       "    }\n",
       "\n",
       "    .dataframe thead th {\n",
       "        text-align: right;\n",
       "    }\n",
       "</style>\n",
       "<table border=\"1\" class=\"dataframe\">\n",
       "  <thead>\n",
       "    <tr style=\"text-align: right;\">\n",
       "      <th></th>\n",
       "      <th>Original labels</th>\n",
       "      <th>Predicted labels</th>\n",
       "    </tr>\n",
       "  </thead>\n",
       "  <tbody>\n",
       "    <tr>\n",
       "      <th>0</th>\n",
       "      <td>2</td>\n",
       "      <td>5</td>\n",
       "    </tr>\n",
       "    <tr>\n",
       "      <th>1</th>\n",
       "      <td>5</td>\n",
       "      <td>5</td>\n",
       "    </tr>\n",
       "    <tr>\n",
       "      <th>2</th>\n",
       "      <td>4</td>\n",
       "      <td>4</td>\n",
       "    </tr>\n",
       "    <tr>\n",
       "      <th>3</th>\n",
       "      <td>0</td>\n",
       "      <td>4</td>\n",
       "    </tr>\n",
       "    <tr>\n",
       "      <th>4</th>\n",
       "      <td>3</td>\n",
       "      <td>2</td>\n",
       "    </tr>\n",
       "    <tr>\n",
       "      <th>...</th>\n",
       "      <td>...</td>\n",
       "      <td>...</td>\n",
       "    </tr>\n",
       "    <tr>\n",
       "      <th>1105</th>\n",
       "      <td>5</td>\n",
       "      <td>5</td>\n",
       "    </tr>\n",
       "    <tr>\n",
       "      <th>1106</th>\n",
       "      <td>1</td>\n",
       "      <td>5</td>\n",
       "    </tr>\n",
       "    <tr>\n",
       "      <th>1107</th>\n",
       "      <td>1</td>\n",
       "      <td>4</td>\n",
       "    </tr>\n",
       "    <tr>\n",
       "      <th>1108</th>\n",
       "      <td>3</td>\n",
       "      <td>4</td>\n",
       "    </tr>\n",
       "    <tr>\n",
       "      <th>1109</th>\n",
       "      <td>0</td>\n",
       "      <td>5</td>\n",
       "    </tr>\n",
       "  </tbody>\n",
       "</table>\n",
       "<p>1110 rows × 2 columns</p>\n",
       "</div>"
      ],
      "text/plain": [
       "      Original labels  Predicted labels\n",
       "0                   2                 5\n",
       "1                   5                 5\n",
       "2                   4                 4\n",
       "3                   0                 4\n",
       "4                   3                 2\n",
       "...               ...               ...\n",
       "1105                5                 5\n",
       "1106                1                 5\n",
       "1107                1                 4\n",
       "1108                3                 4\n",
       "1109                0                 5\n",
       "\n",
       "[1110 rows x 2 columns]"
      ]
     },
     "execution_count": 91,
     "metadata": {},
     "output_type": "execute_result"
    }
   ],
   "source": [
    "df_three_layer=pd.DataFrame({'Original labels':y_test_orig,\n",
    "                             'Predicted labels':y_pred_three_layer})\n",
    "df_three_layer"
   ]
  },
  {
   "cell_type": "code",
   "execution_count": 94,
   "metadata": {},
   "outputs": [
    {
     "data": {
      "text/plain": [
       "<matplotlib.legend.Legend at 0x1bfcd045f48>"
      ]
     },
     "execution_count": 94,
     "metadata": {},
     "output_type": "execute_result"
    },
    {
     "data": {
      "image/png": "[encoded data removed]",
      "text/plain": [
       "<Figure size 432x432 with 1 Axes>"
      ]
     },
     "metadata": {},
     "output_type": "display_data"
    }
   ],
   "source": [
    "plt.plot(history_three_layer.history['loss'], label='loss')\n",
    "plt.plot(history_three_layer.history['val_loss'], label = 'val_loss')\n",
    "plt.xlabel('Epoch')\n",
    "plt.ylabel('loss')\n",
    "plt.ylim([0.35, 0.5])\n",
    "plt.legend(loc='lower right')"
   ]
  },
  {
   "cell_type": "markdown",
   "metadata": {},
   "source": [
    "# CNN\n",
    "\n",
    "In order to avoid the loss of shape information especially important with image classification we try with convolutional neural network."
   ]
  },
  {
   "cell_type": "markdown",
   "metadata": {},
   "source": [
    "One VGG block"
   ]
  },
  {
   "cell_type": "code",
   "execution_count": 98,
   "metadata": {},
   "outputs": [
    {
     "name": "stdout",
     "output_type": "stream",
     "text": [
      "Model: \"sequential_5\"\n",
      "_________________________________________________________________\n",
      "Layer (type)                 Output Shape              Param #   \n",
      "=================================================================\n",
      "conv2d (Conv2D)              (None, 64, 64, 64)        1792      \n",
      "_________________________________________________________________\n",
      "conv2d_1 (Conv2D)            (None, 64, 64, 32)        18464     \n",
      "_________________________________________________________________\n",
      "max_pooling2d (MaxPooling2D) (None, 32, 32, 32)        0         \n",
      "_________________________________________________________________\n",
      "flatten_5 (Flatten)          (None, 32768)             0         \n",
      "_________________________________________________________________\n",
      "dense_16 (Dense)             (None, 64)                2097216   \n",
      "_________________________________________________________________\n",
      "dense_17 (Dense)             (None, 6)                 390       \n",
      "=================================================================\n",
      "Total params: 2,117,862\n",
      "Trainable params: 2,117,862\n",
      "Non-trainable params: 0\n",
      "_________________________________________________________________\n"
     ]
    }
   ],
   "source": [
    "model_one_vgg = tf.keras.Sequential([\n",
    "    tf.keras.layers.Conv2D(64, (3, 3), padding = \"same\", activation='relu', input_shape = (64, 64, 3)),\n",
    "    tf.keras.layers.Conv2D(32, (3, 3), padding = \"same\", activation='relu'),\n",
    "    tf.keras.layers.MaxPooling2D(pool_size = (2, 2)),\n",
    "    tf.keras.layers.Flatten(),\n",
    "    tf.keras.layers.Dense(64, activation = 'relu'),\n",
    "    tf.keras.layers.Dense(6, activation = 'softmax')\n",
    "])\n",
    "\n",
    "model_one_vgg.compile(optimizer = \"adam\",\n",
    "                      loss='binary_crossentropy',\n",
    "                      metrics=['accuracy'])\n",
    "\n",
    "model_one_vgg.summary()"
   ]
  },
  {
   "cell_type": "code",
   "execution_count": 99,
   "metadata": {},
   "outputs": [
    {
     "name": "stdout",
     "output_type": "stream",
     "text": [
      "Epoch 1/10\n",
      "444/444 [==============================] - 40s 91ms/step - loss: 0.2388 - accuracy: 0.6554 - val_loss: 0.1201 - val_accuracy: 0.8511\n",
      "Epoch 2/10\n",
      "444/444 [==============================] - 40s 90ms/step - loss: 0.0704 - accuracy: 0.9205 - val_loss: 0.0648 - val_accuracy: 0.9289\n",
      "Epoch 3/10\n",
      "444/444 [==============================] - 41s 92ms/step - loss: 0.0347 - accuracy: 0.9592 - val_loss: 0.0323 - val_accuracy: 0.9622\n",
      "Epoch 4/10\n",
      "444/444 [==============================] - 41s 92ms/step - loss: 0.0328 - accuracy: 0.9635 - val_loss: 0.0402 - val_accuracy: 0.9667\n",
      "Epoch 5/10\n",
      "444/444 [==============================] - 41s 92ms/step - loss: 0.0160 - accuracy: 0.9836 - val_loss: 0.0206 - val_accuracy: 0.9800\n",
      "Epoch 6/10\n",
      "444/444 [==============================] - 41s 93ms/step - loss: 0.0292 - accuracy: 0.9698 - val_loss: 0.0226 - val_accuracy: 0.9822\n",
      "Epoch 7/10\n",
      "444/444 [==============================] - 42s 95ms/step - loss: 0.0152 - accuracy: 0.9856 - val_loss: 0.0461 - val_accuracy: 0.9556\n",
      "Epoch 8/10\n",
      "444/444 [==============================] - 41s 93ms/step - loss: 0.0123 - accuracy: 0.9867 - val_loss: 0.0325 - val_accuracy: 0.9644\n",
      "Epoch 9/10\n",
      "444/444 [==============================] - 43s 96ms/step - loss: 0.0091 - accuracy: 0.9908 - val_loss: 0.0627 - val_accuracy: 0.9489\n",
      "Epoch 10/10\n",
      "444/444 [==============================] - 42s 95ms/step - loss: 0.0133 - accuracy: 0.9865 - val_loss: 0.0409 - val_accuracy: 0.9644\n"
     ]
    }
   ],
   "source": [
    "train_one_vgg = model_one_vgg.fit(x_train, y_train_hot,\n",
    "                                  epochs=10,\n",
    "                                  batch_size=10,\n",
    "                                  validation_data=(x_valid, y_valid_hot))\n",
    "\n",
    "test_one_vgg = model_one_vgg.evaluate(x_test,\n",
    "                                      y_test_hot,\n",
    "                                      verbose=0)       "
   ]
  },
  {
   "cell_type": "code",
   "execution_count": 100,
   "metadata": {},
   "outputs": [],
   "source": [
    "pred_labels_one_vgg = model_one_vgg.predict_classes(x_test)"
   ]
  },
  {
   "cell_type": "code",
   "execution_count": 101,
   "metadata": {},
   "outputs": [],
   "source": [
    "y_pred_one_vgg=[]\n",
    "for elem in pred_labels_one_vgg:\n",
    "    y_pred_one_vgg.append(elem)"
   ]
  },
  {
   "cell_type": "code",
   "execution_count": 102,
   "metadata": {},
   "outputs": [
    {
     "data": {
      "text/html": [
       "<div>\n",
       "<style scoped>\n",
       "    .dataframe tbody tr th:only-of-type {\n",
       "        vertical-align: middle;\n",
       "    }\n",
       "\n",
       "    .dataframe tbody tr th {\n",
       "        vertical-align: top;\n",
       "    }\n",
       "\n",
       "    .dataframe thead th {\n",
       "        text-align: right;\n",
       "    }\n",
       "</style>\n",
       "<table border=\"1\" class=\"dataframe\">\n",
       "  <thead>\n",
       "    <tr style=\"text-align: right;\">\n",
       "      <th></th>\n",
       "      <th>Original labels</th>\n",
       "      <th>Predicted labels</th>\n",
       "    </tr>\n",
       "  </thead>\n",
       "  <tbody>\n",
       "    <tr>\n",
       "      <th>0</th>\n",
       "      <td>2</td>\n",
       "      <td>2</td>\n",
       "    </tr>\n",
       "    <tr>\n",
       "      <th>1</th>\n",
       "      <td>5</td>\n",
       "      <td>5</td>\n",
       "    </tr>\n",
       "    <tr>\n",
       "      <th>2</th>\n",
       "      <td>4</td>\n",
       "      <td>4</td>\n",
       "    </tr>\n",
       "    <tr>\n",
       "      <th>3</th>\n",
       "      <td>0</td>\n",
       "      <td>0</td>\n",
       "    </tr>\n",
       "    <tr>\n",
       "      <th>4</th>\n",
       "      <td>3</td>\n",
       "      <td>3</td>\n",
       "    </tr>\n",
       "    <tr>\n",
       "      <th>...</th>\n",
       "      <td>...</td>\n",
       "      <td>...</td>\n",
       "    </tr>\n",
       "    <tr>\n",
       "      <th>1105</th>\n",
       "      <td>5</td>\n",
       "      <td>5</td>\n",
       "    </tr>\n",
       "    <tr>\n",
       "      <th>1106</th>\n",
       "      <td>1</td>\n",
       "      <td>1</td>\n",
       "    </tr>\n",
       "    <tr>\n",
       "      <th>1107</th>\n",
       "      <td>1</td>\n",
       "      <td>1</td>\n",
       "    </tr>\n",
       "    <tr>\n",
       "      <th>1108</th>\n",
       "      <td>3</td>\n",
       "      <td>3</td>\n",
       "    </tr>\n",
       "    <tr>\n",
       "      <th>1109</th>\n",
       "      <td>0</td>\n",
       "      <td>0</td>\n",
       "    </tr>\n",
       "  </tbody>\n",
       "</table>\n",
       "<p>1110 rows × 2 columns</p>\n",
       "</div>"
      ],
      "text/plain": [
       "      Original labels  Predicted labels\n",
       "0                   2                 2\n",
       "1                   5                 5\n",
       "2                   4                 4\n",
       "3                   0                 0\n",
       "4                   3                 3\n",
       "...               ...               ...\n",
       "1105                5                 5\n",
       "1106                1                 1\n",
       "1107                1                 1\n",
       "1108                3                 3\n",
       "1109                0                 0\n",
       "\n",
       "[1110 rows x 2 columns]"
      ]
     },
     "execution_count": 102,
     "metadata": {},
     "output_type": "execute_result"
    }
   ],
   "source": [
    "df_one_vgg=pd.DataFrame({'Original labels':y_test_orig,\n",
    "                         'Predicted labels':y_pred_one_vgg})\n",
    "df_one_vgg"
   ]
  },
  {
   "cell_type": "code",
   "execution_count": 103,
   "metadata": {},
   "outputs": [
    {
     "data": {
      "text/plain": [
       "<matplotlib.legend.Legend at 0x1bfcd57ed48>"
      ]
     },
     "execution_count": 103,
     "metadata": {},
     "output_type": "execute_result"
    },
    {
     "data": {
      "image/png": "[encoded data removed]",
      "text/plain": [
       "<Figure size 432x432 with 1 Axes>"
      ]
     },
     "metadata": {},
     "output_type": "display_data"
    }
   ],
   "source": [
    "plt.plot(train_one_vgg.history['loss'], label='loss')\n",
    "plt.plot(train_one_vgg.history['val_loss'], label = 'val_loss')\n",
    "plt.xlabel('Epoch')\n",
    "plt.ylabel('loss')\n",
    "plt.ylim([-0.1, 0.5])\n",
    "plt.legend(loc='lower right')"
   ]
  },
  {
   "cell_type": "markdown",
   "metadata": {},
   "source": [
    "VGG with two layers"
   ]
  },
  {
   "cell_type": "code",
   "execution_count": 104,
   "metadata": {},
   "outputs": [
    {
     "name": "stdout",
     "output_type": "stream",
     "text": [
      "Model: \"sequential_6\"\n",
      "_________________________________________________________________\n",
      "Layer (type)                 Output Shape              Param #   \n",
      "=================================================================\n",
      "conv2d_2 (Conv2D)            (None, 64, 64, 64)        1792      \n",
      "_________________________________________________________________\n",
      "conv2d_3 (Conv2D)            (None, 64, 64, 64)        36928     \n",
      "_________________________________________________________________\n",
      "max_pooling2d_1 (MaxPooling2 (None, 32, 32, 64)        0         \n",
      "_________________________________________________________________\n",
      "conv2d_4 (Conv2D)            (None, 32, 32, 128)       73856     \n",
      "_________________________________________________________________\n",
      "conv2d_5 (Conv2D)            (None, 32, 32, 128)       147584    \n",
      "_________________________________________________________________\n",
      "max_pooling2d_2 (MaxPooling2 (None, 16, 16, 128)       0         \n",
      "_________________________________________________________________\n",
      "flatten_6 (Flatten)          (None, 32768)             0         \n",
      "_________________________________________________________________\n",
      "dense_18 (Dense)             (None, 128)               4194432   \n",
      "_________________________________________________________________\n",
      "dense_19 (Dense)             (None, 6)                 774       \n",
      "=================================================================\n",
      "Total params: 4,455,366\n",
      "Trainable params: 4,455,366\n",
      "Non-trainable params: 0\n",
      "_________________________________________________________________\n"
     ]
    }
   ],
   "source": [
    "model_two_vgg = tf.keras.Sequential([\n",
    "    tf.keras.layers.Conv2D(64, (3, 3), padding = \"same\", activation='relu', input_shape = (64, 64, 3)),\n",
    "    tf.keras.layers.Conv2D(64, (3, 3), padding = \"same\", activation='relu'),\n",
    "    tf.keras.layers.MaxPooling2D(pool_size = (2, 2)),\n",
    "    tf.keras.layers.Conv2D(128, (3, 3), padding = \"same\", activation='relu'),\n",
    "    tf.keras.layers.Conv2D(128, (3, 3), padding = \"same\", activation='relu'),\n",
    "    tf.keras.layers.MaxPooling2D(pool_size = (2, 2)),\n",
    "    tf.keras.layers.Flatten(),\n",
    "    tf.keras.layers.Dense(128, activation = 'relu'),\n",
    "    tf.keras.layers.Dense(6, activation = 'softmax')\n",
    "])\n",
    "\n",
    "model_two_vgg.compile(optimizer = \"adam\",\n",
    "                      loss='binary_crossentropy',\n",
    "                      metrics=['accuracy'])\n",
    "\n",
    "model_two_vgg.summary()"
   ]
  },
  {
   "cell_type": "code",
   "execution_count": 105,
   "metadata": {},
   "outputs": [
    {
     "name": "stdout",
     "output_type": "stream",
     "text": [
      "Epoch 1/10\n",
      "444/444 [==============================] - 96s 216ms/step - loss: 0.4326 - accuracy: 0.2644 - val_loss: 0.4158 - val_accuracy: 0.3400\n",
      "Epoch 2/10\n",
      "444/444 [==============================] - 99s 224ms/step - loss: 0.2177 - accuracy: 0.7135 - val_loss: 0.1232 - val_accuracy: 0.8400\n",
      "Epoch 3/10\n",
      "444/444 [==============================] - 100s 226ms/step - loss: 0.0679 - accuracy: 0.9245 - val_loss: 0.0435 - val_accuracy: 0.9489\n",
      "Epoch 4/10\n",
      "444/444 [==============================] - 102s 229ms/step - loss: 0.0334 - accuracy: 0.9649 - val_loss: 0.0290 - val_accuracy: 0.9667\n",
      "Epoch 5/10\n",
      "444/444 [==============================] - 98s 221ms/step - loss: 0.0172 - accuracy: 0.9827 - val_loss: 0.0202 - val_accuracy: 0.9800\n",
      "Epoch 6/10\n",
      "444/444 [==============================] - 98s 222ms/step - loss: 0.0076 - accuracy: 0.9926 - val_loss: 0.0463 - val_accuracy: 0.9644\n",
      "Epoch 7/10\n",
      "444/444 [==============================] - 98s 221ms/step - loss: 0.0202 - accuracy: 0.9809 - val_loss: 0.0403 - val_accuracy: 0.9689\n",
      "Epoch 8/10\n",
      "444/444 [==============================] - 98s 221ms/step - loss: 0.0076 - accuracy: 0.9944 - val_loss: 0.0174 - val_accuracy: 0.9911\n",
      "Epoch 9/10\n",
      "444/444 [==============================] - 99s 223ms/step - loss: 0.0135 - accuracy: 0.9856 - val_loss: 0.0410 - val_accuracy: 0.9689\n",
      "Epoch 10/10\n",
      "444/444 [==============================] - 98s 222ms/step - loss: 0.0177 - accuracy: 0.9840 - val_loss: 0.0522 - val_accuracy: 0.9600\n"
     ]
    }
   ],
   "source": [
    "train_two_vgg = model_two_vgg.fit(x_train, y_train_hot,\n",
    "                                  epochs=10,\n",
    "                                  batch_size=10,\n",
    "                                  validation_data=(x_valid,\n",
    "                                                   y_valid_hot))\n",
    "\n",
    "test_two_vgg = model_two_vgg.evaluate(x_test,\n",
    "                                      y_test_hot,\n",
    "                                      verbose=0)       "
   ]
  },
  {
   "cell_type": "code",
   "execution_count": 106,
   "metadata": {},
   "outputs": [],
   "source": [
    "pred_labels_two_vgg = model_two_vgg.predict_classes(x_test)"
   ]
  },
  {
   "cell_type": "code",
   "execution_count": 107,
   "metadata": {},
   "outputs": [],
   "source": [
    "y_pred_two_vgg=[]\n",
    "for elem in pred_labels_two_vgg:\n",
    "    y_pred_two_vgg.append(elem)"
   ]
  },
  {
   "cell_type": "code",
   "execution_count": 108,
   "metadata": {},
   "outputs": [
    {
     "data": {
      "text/html": [
       "<div>\n",
       "<style scoped>\n",
       "    .dataframe tbody tr th:only-of-type {\n",
       "        vertical-align: middle;\n",
       "    }\n",
       "\n",
       "    .dataframe tbody tr th {\n",
       "        vertical-align: top;\n",
       "    }\n",
       "\n",
       "    .dataframe thead th {\n",
       "        text-align: right;\n",
       "    }\n",
       "</style>\n",
       "<table border=\"1\" class=\"dataframe\">\n",
       "  <thead>\n",
       "    <tr style=\"text-align: right;\">\n",
       "      <th></th>\n",
       "      <th>Original labels</th>\n",
       "      <th>Predicted labels</th>\n",
       "    </tr>\n",
       "  </thead>\n",
       "  <tbody>\n",
       "    <tr>\n",
       "      <th>0</th>\n",
       "      <td>2</td>\n",
       "      <td>2</td>\n",
       "    </tr>\n",
       "    <tr>\n",
       "      <th>1</th>\n",
       "      <td>5</td>\n",
       "      <td>5</td>\n",
       "    </tr>\n",
       "    <tr>\n",
       "      <th>2</th>\n",
       "      <td>4</td>\n",
       "      <td>4</td>\n",
       "    </tr>\n",
       "    <tr>\n",
       "      <th>3</th>\n",
       "      <td>0</td>\n",
       "      <td>0</td>\n",
       "    </tr>\n",
       "    <tr>\n",
       "      <th>4</th>\n",
       "      <td>3</td>\n",
       "      <td>3</td>\n",
       "    </tr>\n",
       "    <tr>\n",
       "      <th>...</th>\n",
       "      <td>...</td>\n",
       "      <td>...</td>\n",
       "    </tr>\n",
       "    <tr>\n",
       "      <th>1105</th>\n",
       "      <td>5</td>\n",
       "      <td>5</td>\n",
       "    </tr>\n",
       "    <tr>\n",
       "      <th>1106</th>\n",
       "      <td>1</td>\n",
       "      <td>1</td>\n",
       "    </tr>\n",
       "    <tr>\n",
       "      <th>1107</th>\n",
       "      <td>1</td>\n",
       "      <td>1</td>\n",
       "    </tr>\n",
       "    <tr>\n",
       "      <th>1108</th>\n",
       "      <td>3</td>\n",
       "      <td>3</td>\n",
       "    </tr>\n",
       "    <tr>\n",
       "      <th>1109</th>\n",
       "      <td>0</td>\n",
       "      <td>0</td>\n",
       "    </tr>\n",
       "  </tbody>\n",
       "</table>\n",
       "<p>1110 rows × 2 columns</p>\n",
       "</div>"
      ],
      "text/plain": [
       "      Original labels  Predicted labels\n",
       "0                   2                 2\n",
       "1                   5                 5\n",
       "2                   4                 4\n",
       "3                   0                 0\n",
       "4                   3                 3\n",
       "...               ...               ...\n",
       "1105                5                 5\n",
       "1106                1                 1\n",
       "1107                1                 1\n",
       "1108                3                 3\n",
       "1109                0                 0\n",
       "\n",
       "[1110 rows x 2 columns]"
      ]
     },
     "execution_count": 108,
     "metadata": {},
     "output_type": "execute_result"
    }
   ],
   "source": [
    "df_two_vgg=pd.DataFrame({'Original labels':y_test_orig,\n",
    "                         'Predicted labels':y_pred_two_vgg})\n",
    "df_two_vgg"
   ]
  },
  {
   "cell_type": "code",
   "execution_count": 111,
   "metadata": {},
   "outputs": [
    {
     "data": {
      "text/plain": [
       "<matplotlib.legend.Legend at 0x1bfcd615748>"
      ]
     },
     "execution_count": 111,
     "metadata": {},
     "output_type": "execute_result"
    },
    {
     "data": {
      "image/png": "[encoded data removed]",
      "text/plain": [
       "<Figure size 432x432 with 1 Axes>"
      ]
     },
     "metadata": {},
     "output_type": "display_data"
    }
   ],
   "source": [
    "plt.plot(train_two_vgg.history['loss'], label='loss')\n",
    "plt.plot(train_two_vgg.history['val_loss'], label = 'val_loss')\n",
    "plt.xlabel('Epoch')\n",
    "plt.ylabel('loss')\n",
    "plt.ylim([-0.2, 0.5])\n",
    "plt.legend(loc='lower right')"
   ]
  },
  {
   "cell_type": "markdown",
   "metadata": {},
   "source": [
    "VGG with 3 layers"
   ]
  },
  {
   "cell_type": "code",
   "execution_count": 112,
   "metadata": {},
   "outputs": [],
   "source": [
    "model_three_vgg = tf.keras.Sequential([\n",
    "    tf.keras.layers.Conv2D(64, (3, 3), padding = \"same\", activation='relu', input_shape = (64, 64, 3)),\n",
    "    tf.keras.layers.Conv2D(64, (3, 3), padding = \"same\", activation='relu'),\n",
    "    tf.keras.layers.MaxPooling2D(pool_size = (2, 2)),\n",
    "    tf.keras.layers.Conv2D(128, (3, 3), padding = \"same\", activation='relu'),\n",
    "    tf.keras.layers.Conv2D(128, (3, 3), padding = \"same\", activation='relu'),\n",
    "    tf.keras.layers.MaxPooling2D(pool_size = (2, 2)),\n",
    "    tf.keras.layers.Conv2D(256, (3, 3), padding = \"same\", activation='relu'),\n",
    "    tf.keras.layers.Conv2D(256, (3, 3), padding = \"same\", activation='relu'),\n",
    "    tf.keras.layers.MaxPooling2D(pool_size = (2, 2)),\n",
    "    tf.keras.layers.Flatten(),\n",
    "    tf.keras.layers.Dense(256, activation = 'relu'),\n",
    "    tf.keras.layers.Dense(6, activation = 'softmax')\n",
    "])\n",
    "\n",
    "model_three_vgg.compile(optimizer = \"adam\",\n",
    "              loss='binary_crossentropy',\n",
    "              metrics=['accuracy'])"
   ]
  },
  {
   "cell_type": "code",
   "execution_count": 113,
   "metadata": {},
   "outputs": [
    {
     "name": "stdout",
     "output_type": "stream",
     "text": [
      "Epoch 1/10\n",
      "444/444 [==============================] - 141s 318ms/step - loss: 0.4510 - accuracy: 0.1640 - val_loss: 0.4506 - val_accuracy: 0.1667\n",
      "Epoch 2/10\n",
      "444/444 [==============================] - 140s 315ms/step - loss: 0.4506 - accuracy: 0.1707 - val_loss: 0.4506 - val_accuracy: 0.1667\n",
      "Epoch 3/10\n",
      "444/444 [==============================] - 141s 317ms/step - loss: 0.4506 - accuracy: 0.1689 - val_loss: 0.4506 - val_accuracy: 0.1667\n",
      "Epoch 4/10\n",
      "444/444 [==============================] - 142s 320ms/step - loss: 0.4506 - accuracy: 0.1716 - val_loss: 0.4506 - val_accuracy: 0.1667\n",
      "Epoch 5/10\n",
      "444/444 [==============================] - 148s 334ms/step - loss: 0.4506 - accuracy: 0.1716 - val_loss: 0.4506 - val_accuracy: 0.1667\n",
      "Epoch 6/10\n",
      "444/444 [==============================] - 148s 334ms/step - loss: 0.4506 - accuracy: 0.1700 - val_loss: 0.4506 - val_accuracy: 0.1667\n",
      "Epoch 7/10\n",
      "444/444 [==============================] - 148s 332ms/step - loss: 0.4506 - accuracy: 0.1678 - val_loss: 0.4506 - val_accuracy: 0.1667\n",
      "Epoch 8/10\n",
      "444/444 [==============================] - 150s 339ms/step - loss: 0.4506 - accuracy: 0.1716 - val_loss: 0.4506 - val_accuracy: 0.1667\n",
      "Epoch 9/10\n",
      "444/444 [==============================] - 146s 329ms/step - loss: 0.4506 - accuracy: 0.1716 - val_loss: 0.4506 - val_accuracy: 0.1667\n",
      "Epoch 10/10\n",
      "444/444 [==============================] - 144s 325ms/step - loss: 0.4506 - accuracy: 0.1716 - val_loss: 0.4506 - val_accuracy: 0.1667\n"
     ]
    }
   ],
   "source": [
    "train_three_vgg = model_three_vgg.fit(x_train, y_train_hot,\n",
    "                                    epochs=10,\n",
    "                                    batch_size=10,\n",
    "                                    validation_data=(x_valid,\n",
    "                                                     y_valid_hot))\n",
    "\n",
    "test_three_vgg = model_three_vgg.evaluate(x_test,\n",
    "                                          y_test_hot,\n",
    "                                          verbose=0)  \n",
    "\n",
    "pred_labels_three_vgg = model_three_vgg.predict_classes(x_test)"
   ]
  },
  {
   "cell_type": "code",
   "execution_count": 114,
   "metadata": {},
   "outputs": [],
   "source": [
    "y_pred_three_vgg=[]\n",
    "for elem in pred_labels_three_vgg:\n",
    "    y_pred_three_vgg.append(elem)"
   ]
  },
  {
   "cell_type": "code",
   "execution_count": 115,
   "metadata": {},
   "outputs": [
    {
     "data": {
      "text/html": [
       "<div>\n",
       "<style scoped>\n",
       "    .dataframe tbody tr th:only-of-type {\n",
       "        vertical-align: middle;\n",
       "    }\n",
       "\n",
       "    .dataframe tbody tr th {\n",
       "        vertical-align: top;\n",
       "    }\n",
       "\n",
       "    .dataframe thead th {\n",
       "        text-align: right;\n",
       "    }\n",
       "</style>\n",
       "<table border=\"1\" class=\"dataframe\">\n",
       "  <thead>\n",
       "    <tr style=\"text-align: right;\">\n",
       "      <th></th>\n",
       "      <th>Original labels</th>\n",
       "      <th>Predicted labels</th>\n",
       "    </tr>\n",
       "  </thead>\n",
       "  <tbody>\n",
       "    <tr>\n",
       "      <th>0</th>\n",
       "      <td>2</td>\n",
       "      <td>4</td>\n",
       "    </tr>\n",
       "    <tr>\n",
       "      <th>1</th>\n",
       "      <td>5</td>\n",
       "      <td>4</td>\n",
       "    </tr>\n",
       "    <tr>\n",
       "      <th>2</th>\n",
       "      <td>4</td>\n",
       "      <td>4</td>\n",
       "    </tr>\n",
       "    <tr>\n",
       "      <th>3</th>\n",
       "      <td>0</td>\n",
       "      <td>4</td>\n",
       "    </tr>\n",
       "    <tr>\n",
       "      <th>4</th>\n",
       "      <td>3</td>\n",
       "      <td>4</td>\n",
       "    </tr>\n",
       "    <tr>\n",
       "      <th>...</th>\n",
       "      <td>...</td>\n",
       "      <td>...</td>\n",
       "    </tr>\n",
       "    <tr>\n",
       "      <th>1105</th>\n",
       "      <td>5</td>\n",
       "      <td>4</td>\n",
       "    </tr>\n",
       "    <tr>\n",
       "      <th>1106</th>\n",
       "      <td>1</td>\n",
       "      <td>4</td>\n",
       "    </tr>\n",
       "    <tr>\n",
       "      <th>1107</th>\n",
       "      <td>1</td>\n",
       "      <td>4</td>\n",
       "    </tr>\n",
       "    <tr>\n",
       "      <th>1108</th>\n",
       "      <td>3</td>\n",
       "      <td>4</td>\n",
       "    </tr>\n",
       "    <tr>\n",
       "      <th>1109</th>\n",
       "      <td>0</td>\n",
       "      <td>4</td>\n",
       "    </tr>\n",
       "  </tbody>\n",
       "</table>\n",
       "<p>1110 rows × 2 columns</p>\n",
       "</div>"
      ],
      "text/plain": [
       "      Original labels  Predicted labels\n",
       "0                   2                 4\n",
       "1                   5                 4\n",
       "2                   4                 4\n",
       "3                   0                 4\n",
       "4                   3                 4\n",
       "...               ...               ...\n",
       "1105                5                 4\n",
       "1106                1                 4\n",
       "1107                1                 4\n",
       "1108                3                 4\n",
       "1109                0                 4\n",
       "\n",
       "[1110 rows x 2 columns]"
      ]
     },
     "execution_count": 115,
     "metadata": {},
     "output_type": "execute_result"
    }
   ],
   "source": [
    "df_three_vgg=pd.DataFrame({'Original labels':y_test_orig,\n",
    "                         'Predicted labels':y_pred_three_vgg})\n",
    "df_three_vgg"
   ]
  },
  {
   "cell_type": "code",
   "execution_count": 116,
   "metadata": {},
   "outputs": [
    {
     "data": {
      "text/plain": [
       "<matplotlib.legend.Legend at 0x1bfba0cf708>"
      ]
     },
     "execution_count": 116,
     "metadata": {},
     "output_type": "execute_result"
    },
    {
     "data": {
      "image/png": "[encoded data removed]",
      "text/plain": [
       "<Figure size 432x432 with 1 Axes>"
      ]
     },
     "metadata": {},
     "output_type": "display_data"
    }
   ],
   "source": [
    "plt.plot(train_three_vgg.history['loss'], label='loss')\n",
    "plt.plot(train_three_vgg.history['val_loss'], label = 'val_loss')\n",
    "plt.xlabel('Epoch')\n",
    "plt.ylabel('loss')\n",
    "plt.ylim([-1, 2])\n",
    "plt.legend(loc='lower right')"
   ]
  },
  {
   "cell_type": "markdown",
   "metadata": {},
   "source": [
    "2 VGG blocks with Dropout"
   ]
  },
  {
   "cell_type": "code",
   "execution_count": 117,
   "metadata": {},
   "outputs": [
    {
     "name": "stdout",
     "output_type": "stream",
     "text": [
      "Model: \"sequential_8\"\n",
      "_________________________________________________________________\n",
      "Layer (type)                 Output Shape              Param #   \n",
      "=================================================================\n",
      "conv2d_12 (Conv2D)           (None, 64, 64, 64)        1792      \n",
      "_________________________________________________________________\n",
      "conv2d_13 (Conv2D)           (None, 64, 64, 64)        36928     \n",
      "_________________________________________________________________\n",
      "max_pooling2d_6 (MaxPooling2 (None, 32, 32, 64)        0         \n",
      "_________________________________________________________________\n",
      "dropout (Dropout)            (None, 32, 32, 64)        0         \n",
      "_________________________________________________________________\n",
      "conv2d_14 (Conv2D)           (None, 32, 32, 128)       73856     \n",
      "_________________________________________________________________\n",
      "conv2d_15 (Conv2D)           (None, 32, 32, 128)       147584    \n",
      "_________________________________________________________________\n",
      "max_pooling2d_7 (MaxPooling2 (None, 16, 16, 128)       0         \n",
      "_________________________________________________________________\n",
      "dropout_1 (Dropout)          (None, 16, 16, 128)       0         \n",
      "_________________________________________________________________\n",
      "flatten_8 (Flatten)          (None, 32768)             0         \n",
      "_________________________________________________________________\n",
      "dense_22 (Dense)             (None, 128)               4194432   \n",
      "_________________________________________________________________\n",
      "dropout_2 (Dropout)          (None, 128)               0         \n",
      "_________________________________________________________________\n",
      "dense_23 (Dense)             (None, 6)                 774       \n",
      "=================================================================\n",
      "Total params: 4,455,366\n",
      "Trainable params: 4,455,366\n",
      "Non-trainable params: 0\n",
      "_________________________________________________________________\n"
     ]
    }
   ],
   "source": [
    "model_two_vgg_drop = tf.keras.Sequential([\n",
    "    tf.keras.layers.Conv2D(64, (3, 3), padding = \"same\", activation='relu', input_shape = (64, 64, 3)),\n",
    "    tf.keras.layers.Conv2D(64, (3, 3), padding = \"same\", activation='relu'),\n",
    "    tf.keras.layers.MaxPooling2D(pool_size = (2, 2)),\n",
    "    tf.keras.layers.Dropout(0.2),\n",
    "    tf.keras.layers.Conv2D(128, (3, 3), padding = \"same\", activation='relu'),\n",
    "    tf.keras.layers.Conv2D(128, (3, 3), padding = \"same\", activation='relu'),\n",
    "    tf.keras.layers.MaxPooling2D(pool_size = (2, 2)),\n",
    "    tf.keras.layers.Dropout(0.2),\n",
    "    tf.keras.layers.Flatten(),\n",
    "    tf.keras.layers.Dense(128, activation = 'relu'),\n",
    "    tf.keras.layers.Dropout(0.2),\n",
    "    tf.keras.layers.Dense(6, activation = 'softmax')\n",
    "])\n",
    "\n",
    "model_two_vgg_drop.compile(optimizer = \"adam\",\n",
    "                      loss='binary_crossentropy',\n",
    "                      metrics=['accuracy'])\n",
    "\n",
    "model_two_vgg_drop.summary()"
   ]
  },
  {
   "cell_type": "code",
   "execution_count": 118,
   "metadata": {},
   "outputs": [
    {
     "name": "stdout",
     "output_type": "stream",
     "text": [
      "Epoch 1/10\n",
      "444/444 [==============================] - 98s 220ms/step - loss: 0.4497 - accuracy: 0.2086 - val_loss: 0.4297 - val_accuracy: 0.2956\n",
      "Epoch 2/10\n",
      "444/444 [==============================] - 98s 221ms/step - loss: 0.4027 - accuracy: 0.3689 - val_loss: 0.3415 - val_accuracy: 0.5044\n",
      "Epoch 3/10\n",
      "444/444 [==============================] - 101s 227ms/step - loss: 0.2731 - accuracy: 0.6252 - val_loss: 0.1887 - val_accuracy: 0.7644\n",
      "Epoch 4/10\n",
      "444/444 [==============================] - 102s 229ms/step - loss: 0.1457 - accuracy: 0.8268 - val_loss: 0.0943 - val_accuracy: 0.8911\n",
      "Epoch 5/10\n",
      "444/444 [==============================] - 104s 234ms/step - loss: 0.0845 - accuracy: 0.9025 - val_loss: 0.0590 - val_accuracy: 0.9444\n",
      "Epoch 6/10\n",
      "444/444 [==============================] - 105s 236ms/step - loss: 0.0464 - accuracy: 0.9502 - val_loss: 0.0902 - val_accuracy: 0.8933\n",
      "Epoch 7/10\n",
      "444/444 [==============================] - 102s 230ms/step - loss: 0.0363 - accuracy: 0.9588 - val_loss: 0.0373 - val_accuracy: 0.9533\n",
      "Epoch 8/10\n",
      "444/444 [==============================] - 102s 229ms/step - loss: 0.0521 - accuracy: 0.9385 - val_loss: 0.0411 - val_accuracy: 0.9622\n",
      "Epoch 9/10\n",
      "444/444 [==============================] - 102s 230ms/step - loss: 0.0329 - accuracy: 0.9671 - val_loss: 0.0222 - val_accuracy: 0.9756\n",
      "Epoch 10/10\n",
      "444/444 [==============================] - 109s 244ms/step - loss: 0.0202 - accuracy: 0.9788 - val_loss: 0.0232 - val_accuracy: 0.9756\n"
     ]
    }
   ],
   "source": [
    "train_two_vgg_drop = model_two_vgg_drop.fit(x_train, y_train_hot,\n",
    "                                    epochs=10,\n",
    "                                    batch_size=10,\n",
    "                                    validation_data=(x_valid, y_valid_hot))\n",
    "\n",
    "test_two_vgg_drop = model_two_vgg_drop.evaluate(x_test,\n",
    "                                                y_test_hot,\n",
    "                                                verbose=0)  \n",
    "\n",
    "pred_labels_two_vgg_drop = model_two_vgg_drop.predict_classes(x_test)"
   ]
  },
  {
   "cell_type": "code",
   "execution_count": 119,
   "metadata": {},
   "outputs": [],
   "source": [
    "y_pred_two_vgg_drop = []\n",
    "for elem in pred_labels_two_vgg_drop:\n",
    "    y_pred_two_vgg_drop.append(elem)"
   ]
  },
  {
   "cell_type": "code",
   "execution_count": 120,
   "metadata": {},
   "outputs": [
    {
     "data": {
      "text/html": [
       "<div>\n",
       "<style scoped>\n",
       "    .dataframe tbody tr th:only-of-type {\n",
       "        vertical-align: middle;\n",
       "    }\n",
       "\n",
       "    .dataframe tbody tr th {\n",
       "        vertical-align: top;\n",
       "    }\n",
       "\n",
       "    .dataframe thead th {\n",
       "        text-align: right;\n",
       "    }\n",
       "</style>\n",
       "<table border=\"1\" class=\"dataframe\">\n",
       "  <thead>\n",
       "    <tr style=\"text-align: right;\">\n",
       "      <th></th>\n",
       "      <th>Original labels</th>\n",
       "      <th>Predicted labels</th>\n",
       "    </tr>\n",
       "  </thead>\n",
       "  <tbody>\n",
       "    <tr>\n",
       "      <th>0</th>\n",
       "      <td>2</td>\n",
       "      <td>2</td>\n",
       "    </tr>\n",
       "    <tr>\n",
       "      <th>1</th>\n",
       "      <td>5</td>\n",
       "      <td>5</td>\n",
       "    </tr>\n",
       "    <tr>\n",
       "      <th>2</th>\n",
       "      <td>4</td>\n",
       "      <td>4</td>\n",
       "    </tr>\n",
       "    <tr>\n",
       "      <th>3</th>\n",
       "      <td>0</td>\n",
       "      <td>0</td>\n",
       "    </tr>\n",
       "    <tr>\n",
       "      <th>4</th>\n",
       "      <td>3</td>\n",
       "      <td>3</td>\n",
       "    </tr>\n",
       "    <tr>\n",
       "      <th>...</th>\n",
       "      <td>...</td>\n",
       "      <td>...</td>\n",
       "    </tr>\n",
       "    <tr>\n",
       "      <th>1105</th>\n",
       "      <td>5</td>\n",
       "      <td>5</td>\n",
       "    </tr>\n",
       "    <tr>\n",
       "      <th>1106</th>\n",
       "      <td>1</td>\n",
       "      <td>1</td>\n",
       "    </tr>\n",
       "    <tr>\n",
       "      <th>1107</th>\n",
       "      <td>1</td>\n",
       "      <td>1</td>\n",
       "    </tr>\n",
       "    <tr>\n",
       "      <th>1108</th>\n",
       "      <td>3</td>\n",
       "      <td>3</td>\n",
       "    </tr>\n",
       "    <tr>\n",
       "      <th>1109</th>\n",
       "      <td>0</td>\n",
       "      <td>0</td>\n",
       "    </tr>\n",
       "  </tbody>\n",
       "</table>\n",
       "<p>1110 rows × 2 columns</p>\n",
       "</div>"
      ],
      "text/plain": [
       "      Original labels  Predicted labels\n",
       "0                   2                 2\n",
       "1                   5                 5\n",
       "2                   4                 4\n",
       "3                   0                 0\n",
       "4                   3                 3\n",
       "...               ...               ...\n",
       "1105                5                 5\n",
       "1106                1                 1\n",
       "1107                1                 1\n",
       "1108                3                 3\n",
       "1109                0                 0\n",
       "\n",
       "[1110 rows x 2 columns]"
      ]
     },
     "execution_count": 120,
     "metadata": {},
     "output_type": "execute_result"
    }
   ],
   "source": [
    "df_two_vgg_drop=pd.DataFrame({'Original labels':y_test_orig,\n",
    "                              'Predicted labels':y_pred_two_vgg_drop})\n",
    "df_two_vgg_drop"
   ]
  },
  {
   "cell_type": "code",
   "execution_count": 127,
   "metadata": {},
   "outputs": [
    {
     "data": {
      "text/plain": [
       "<matplotlib.legend.Legend at 0x1bfaaaa0348>"
      ]
     },
     "execution_count": 127,
     "metadata": {},
     "output_type": "execute_result"
    },
    {
     "data": {
      "image/png": "[encoded data removed]",
      "text/plain": [
       "<Figure size 432x432 with 1 Axes>"
      ]
     },
     "metadata": {},
     "output_type": "display_data"
    }
   ],
   "source": [
    "plt.plot(train_two_vgg_drop.history['loss'], label='loss')\n",
    "plt.plot(train_two_vgg_drop.history['val_loss'], label = 'val_loss')\n",
    "plt.xlabel('Epoch')\n",
    "plt.ylabel('loss')\n",
    "plt.ylim([-0.5, 0.5])\n",
    "plt.legend(loc='lower right')"
   ]
  },
  {
   "cell_type": "markdown",
   "metadata": {},
   "source": [
    "Two VGG blocks with Dropout and BatchNormalization"
   ]
  },
  {
   "cell_type": "code",
   "execution_count": 122,
   "metadata": {},
   "outputs": [
    {
     "name": "stdout",
     "output_type": "stream",
     "text": [
      "Model: \"sequential_9\"\n",
      "_________________________________________________________________\n",
      "Layer (type)                 Output Shape              Param #   \n",
      "=================================================================\n",
      "conv2d_16 (Conv2D)           (None, 64, 64, 64)        1792      \n",
      "_________________________________________________________________\n",
      "batch_normalization (BatchNo (None, 64, 64, 64)        256       \n",
      "_________________________________________________________________\n",
      "conv2d_17 (Conv2D)           (None, 64, 64, 64)        36928     \n",
      "_________________________________________________________________\n",
      "batch_normalization_1 (Batch (None, 64, 64, 64)        256       \n",
      "_________________________________________________________________\n",
      "max_pooling2d_8 (MaxPooling2 (None, 32, 32, 64)        0         \n",
      "_________________________________________________________________\n",
      "dropout_3 (Dropout)          (None, 32, 32, 64)        0         \n",
      "_________________________________________________________________\n",
      "conv2d_18 (Conv2D)           (None, 32, 32, 128)       73856     \n",
      "_________________________________________________________________\n",
      "batch_normalization_2 (Batch (None, 32, 32, 128)       512       \n",
      "_________________________________________________________________\n",
      "conv2d_19 (Conv2D)           (None, 32, 32, 128)       147584    \n",
      "_________________________________________________________________\n",
      "batch_normalization_3 (Batch (None, 32, 32, 128)       512       \n",
      "_________________________________________________________________\n",
      "max_pooling2d_9 (MaxPooling2 (None, 16, 16, 128)       0         \n",
      "_________________________________________________________________\n",
      "dropout_4 (Dropout)          (None, 16, 16, 128)       0         \n",
      "_________________________________________________________________\n",
      "flatten_9 (Flatten)          (None, 32768)             0         \n",
      "_________________________________________________________________\n",
      "dense_24 (Dense)             (None, 128)               4194432   \n",
      "_________________________________________________________________\n",
      "batch_normalization_4 (Batch (None, 128)               512       \n",
      "_________________________________________________________________\n",
      "dropout_5 (Dropout)          (None, 128)               0         \n",
      "_________________________________________________________________\n",
      "dense_25 (Dense)             (None, 6)                 774       \n",
      "=================================================================\n",
      "Total params: 4,457,414\n",
      "Trainable params: 4,456,390\n",
      "Non-trainable params: 1,024\n",
      "_________________________________________________________________\n"
     ]
    }
   ],
   "source": [
    "model_two_vgg_drop_batch = tf.keras.Sequential([\n",
    "    tf.keras.layers.Conv2D(64, (3, 3), padding = \"same\", activation='relu', input_shape = (64, 64, 3)),\n",
    "    tf.keras.layers.BatchNormalization(),\n",
    "    tf.keras.layers.Conv2D(64, (3, 3), padding = \"same\", activation='relu'),\n",
    "    tf.keras.layers.BatchNormalization(),\n",
    "    tf.keras.layers.MaxPooling2D(pool_size = (2, 2)),\n",
    "    tf.keras.layers.Dropout(0.2),\n",
    "    tf.keras.layers.Conv2D(128, (3, 3), padding = \"same\", activation='relu'),\n",
    "    tf.keras.layers.BatchNormalization(),\n",
    "    tf.keras.layers.Conv2D(128, (3, 3), padding = \"same\", activation='relu'),\n",
    "    tf.keras.layers.BatchNormalization(),\n",
    "    tf.keras.layers.MaxPooling2D(pool_size = (2, 2)),\n",
    "    tf.keras.layers.Dropout(0.2),\n",
    "    tf.keras.layers.Flatten(),\n",
    "    tf.keras.layers.Dense(128, activation = 'relu'),\n",
    "    tf.keras.layers.BatchNormalization(),\n",
    "    tf.keras.layers.Dropout(0.2),\n",
    "    tf.keras.layers.Dense(6, activation = 'softmax')\n",
    "])\n",
    "\n",
    "model_two_vgg_drop_batch.compile(optimizer = \"adam\",\n",
    "                      loss='binary_crossentropy',\n",
    "                      metrics=['accuracy'])\n",
    "\n",
    "model_two_vgg_drop_batch.summary()"
   ]
  },
  {
   "cell_type": "code",
   "execution_count": 123,
   "metadata": {},
   "outputs": [
    {
     "name": "stdout",
     "output_type": "stream",
     "text": [
      "Epoch 1/10\n",
      "444/444 [==============================] - 168s 378ms/step - loss: 0.2528 - accuracy: 0.6635 - val_loss: 0.3727 - val_accuracy: 0.5000\n",
      "Epoch 2/10\n",
      "444/444 [==============================] - 164s 370ms/step - loss: 0.0922 - accuracy: 0.8939 - val_loss: 3.1588 - val_accuracy: 0.1800\n",
      "Epoch 3/10\n",
      "444/444 [==============================] - 165s 371ms/step - loss: 0.0918 - accuracy: 0.8989 - val_loss: 2.7725 - val_accuracy: 0.2044\n",
      "Epoch 4/10\n",
      "444/444 [==============================] - 166s 375ms/step - loss: 0.0916 - accuracy: 0.8968 - val_loss: 0.1133 - val_accuracy: 0.8578\n",
      "Epoch 5/10\n",
      "444/444 [==============================] - 173s 390ms/step - loss: 0.0466 - accuracy: 0.9511 - val_loss: 0.0236 - val_accuracy: 0.9778\n",
      "Epoch 6/10\n",
      "444/444 [==============================] - 171s 386ms/step - loss: 0.0438 - accuracy: 0.9559 - val_loss: 0.0132 - val_accuracy: 0.9911\n",
      "Epoch 7/10\n",
      "444/444 [==============================] - 166s 374ms/step - loss: 0.0290 - accuracy: 0.9716 - val_loss: 0.2692 - val_accuracy: 0.8022\n",
      "Epoch 8/10\n",
      "444/444 [==============================] - 166s 375ms/step - loss: 0.0278 - accuracy: 0.9723 - val_loss: 0.0180 - val_accuracy: 0.9822\n",
      "Epoch 9/10\n",
      "444/444 [==============================] - 168s 379ms/step - loss: 0.0212 - accuracy: 0.9779 - val_loss: 0.0981 - val_accuracy: 0.9111\n",
      "Epoch 10/10\n",
      "444/444 [==============================] - 166s 375ms/step - loss: 0.0271 - accuracy: 0.9703 - val_loss: 0.0083 - val_accuracy: 0.9933\n"
     ]
    }
   ],
   "source": [
    "train_two_vgg_drop_batch = model_two_vgg_drop_batch.fit(x_train, y_train_hot,\n",
    "                                    epochs=10,\n",
    "                                    batch_size=10,\n",
    "                                    validation_data=(x_valid, y_valid_hot))\n",
    "\n",
    "test_two_vgg_drop_batch = model_two_vgg_drop_batch.evaluate(x_test, y_test_hot, verbose=0)  \n",
    "\n",
    "pred_labels_two_vgg_drop_batch = model_two_vgg_drop_batch.predict_classes(x_test)"
   ]
  },
  {
   "cell_type": "code",
   "execution_count": 124,
   "metadata": {},
   "outputs": [],
   "source": [
    "y_pred_two_vgg_drop_batch = []\n",
    "for elem in pred_labels_two_vgg_drop_batch:\n",
    "    y_pred_two_vgg_drop_batch.append(elem)"
   ]
  },
  {
   "cell_type": "code",
   "execution_count": 125,
   "metadata": {},
   "outputs": [
    {
     "data": {
      "text/html": [
       "<div>\n",
       "<style scoped>\n",
       "    .dataframe tbody tr th:only-of-type {\n",
       "        vertical-align: middle;\n",
       "    }\n",
       "\n",
       "    .dataframe tbody tr th {\n",
       "        vertical-align: top;\n",
       "    }\n",
       "\n",
       "    .dataframe thead th {\n",
       "        text-align: right;\n",
       "    }\n",
       "</style>\n",
       "<table border=\"1\" class=\"dataframe\">\n",
       "  <thead>\n",
       "    <tr style=\"text-align: right;\">\n",
       "      <th></th>\n",
       "      <th>Original labels</th>\n",
       "      <th>Predicted labels</th>\n",
       "    </tr>\n",
       "  </thead>\n",
       "  <tbody>\n",
       "    <tr>\n",
       "      <th>0</th>\n",
       "      <td>2</td>\n",
       "      <td>2</td>\n",
       "    </tr>\n",
       "    <tr>\n",
       "      <th>1</th>\n",
       "      <td>5</td>\n",
       "      <td>5</td>\n",
       "    </tr>\n",
       "    <tr>\n",
       "      <th>2</th>\n",
       "      <td>4</td>\n",
       "      <td>4</td>\n",
       "    </tr>\n",
       "    <tr>\n",
       "      <th>3</th>\n",
       "      <td>0</td>\n",
       "      <td>0</td>\n",
       "    </tr>\n",
       "    <tr>\n",
       "      <th>4</th>\n",
       "      <td>3</td>\n",
       "      <td>3</td>\n",
       "    </tr>\n",
       "    <tr>\n",
       "      <th>...</th>\n",
       "      <td>...</td>\n",
       "      <td>...</td>\n",
       "    </tr>\n",
       "    <tr>\n",
       "      <th>1105</th>\n",
       "      <td>5</td>\n",
       "      <td>5</td>\n",
       "    </tr>\n",
       "    <tr>\n",
       "      <th>1106</th>\n",
       "      <td>1</td>\n",
       "      <td>1</td>\n",
       "    </tr>\n",
       "    <tr>\n",
       "      <th>1107</th>\n",
       "      <td>1</td>\n",
       "      <td>1</td>\n",
       "    </tr>\n",
       "    <tr>\n",
       "      <th>1108</th>\n",
       "      <td>3</td>\n",
       "      <td>3</td>\n",
       "    </tr>\n",
       "    <tr>\n",
       "      <th>1109</th>\n",
       "      <td>0</td>\n",
       "      <td>0</td>\n",
       "    </tr>\n",
       "  </tbody>\n",
       "</table>\n",
       "<p>1110 rows × 2 columns</p>\n",
       "</div>"
      ],
      "text/plain": [
       "      Original labels  Predicted labels\n",
       "0                   2                 2\n",
       "1                   5                 5\n",
       "2                   4                 4\n",
       "3                   0                 0\n",
       "4                   3                 3\n",
       "...               ...               ...\n",
       "1105                5                 5\n",
       "1106                1                 1\n",
       "1107                1                 1\n",
       "1108                3                 3\n",
       "1109                0                 0\n",
       "\n",
       "[1110 rows x 2 columns]"
      ]
     },
     "execution_count": 125,
     "metadata": {},
     "output_type": "execute_result"
    }
   ],
   "source": [
    "df_two_vgg_drop_batch=pd.DataFrame({'Original labels':y_test_orig,\n",
    "                                    'Predicted labels':y_pred_two_vgg_drop_batch})\n",
    "df_two_vgg_drop_batch"
   ]
  },
  {
   "cell_type": "code",
   "execution_count": 129,
   "metadata": {},
   "outputs": [
    {
     "data": {
      "text/plain": [
       "<matplotlib.legend.Legend at 0x1bfba05f808>"
      ]
     },
     "execution_count": 129,
     "metadata": {},
     "output_type": "execute_result"
    },
    {
     "data": {
      "image/png": "[encoded data removed]",
      "text/plain": [
       "<Figure size 432x432 with 1 Axes>"
      ]
     },
     "metadata": {},
     "output_type": "display_data"
    }
   ],
   "source": [
    "plt.plot(train_two_vgg_drop_batch.history['loss'], label='loss')\n",
    "plt.plot(train_two_vgg_drop_batch.history['val_loss'], label = 'val_loss')\n",
    "plt.xlabel('Epoch')\n",
    "plt.ylabel('loss')\n",
    "plt.ylim([-1, 4])\n",
    "plt.legend(loc='lower right')"
   ]
  },
  {
   "cell_type": "markdown",
   "metadata": {},
   "source": [
    "Grayscale images"
   ]
  },
  {
   "cell_type": "code",
   "execution_count": 130,
   "metadata": {},
   "outputs": [
    {
     "name": "stdout",
     "output_type": "stream",
     "text": [
      "Model: \"sequential_10\"\n",
      "_________________________________________________________________\n",
      "Layer (type)                 Output Shape              Param #   \n",
      "=================================================================\n",
      "conv2d_20 (Conv2D)           (None, 64, 64, 64)        640       \n",
      "_________________________________________________________________\n",
      "batch_normalization_5 (Batch (None, 64, 64, 64)        256       \n",
      "_________________________________________________________________\n",
      "conv2d_21 (Conv2D)           (None, 64, 64, 64)        36928     \n",
      "_________________________________________________________________\n",
      "batch_normalization_6 (Batch (None, 64, 64, 64)        256       \n",
      "_________________________________________________________________\n",
      "max_pooling2d_10 (MaxPooling (None, 32, 32, 64)        0         \n",
      "_________________________________________________________________\n",
      "dropout_6 (Dropout)          (None, 32, 32, 64)        0         \n",
      "_________________________________________________________________\n",
      "conv2d_22 (Conv2D)           (None, 32, 32, 128)       73856     \n",
      "_________________________________________________________________\n",
      "batch_normalization_7 (Batch (None, 32, 32, 128)       512       \n",
      "_________________________________________________________________\n",
      "conv2d_23 (Conv2D)           (None, 32, 32, 128)       147584    \n",
      "_________________________________________________________________\n",
      "batch_normalization_8 (Batch (None, 32, 32, 128)       512       \n",
      "_________________________________________________________________\n",
      "max_pooling2d_11 (MaxPooling (None, 16, 16, 128)       0         \n",
      "_________________________________________________________________\n",
      "dropout_7 (Dropout)          (None, 16, 16, 128)       0         \n",
      "_________________________________________________________________\n",
      "flatten_10 (Flatten)         (None, 32768)             0         \n",
      "_________________________________________________________________\n",
      "dense_26 (Dense)             (None, 128)               4194432   \n",
      "_________________________________________________________________\n",
      "batch_normalization_9 (Batch (None, 128)               512       \n",
      "_________________________________________________________________\n",
      "dropout_8 (Dropout)          (None, 128)               0         \n",
      "_________________________________________________________________\n",
      "dense_27 (Dense)             (None, 6)                 774       \n",
      "=================================================================\n",
      "Total params: 4,456,262\n",
      "Trainable params: 4,455,238\n",
      "Non-trainable params: 1,024\n",
      "_________________________________________________________________\n"
     ]
    }
   ],
   "source": [
    "model_gray = tf.keras.Sequential([\n",
    "    tf.keras.layers.Conv2D(64, (3, 3), padding = \"same\", activation='relu', input_shape = (64, 64, 1)),\n",
    "    tf.keras.layers.BatchNormalization(),\n",
    "    tf.keras.layers.Conv2D(64, (3, 3), padding = \"same\", activation='relu'),\n",
    "    tf.keras.layers.BatchNormalization(),\n",
    "    tf.keras.layers.MaxPooling2D(pool_size = (2, 2)),\n",
    "    tf.keras.layers.Dropout(0.2),\n",
    "    tf.keras.layers.Conv2D(128, (3, 3), padding = \"same\", activation='relu'),\n",
    "    tf.keras.layers.BatchNormalization(),\n",
    "    tf.keras.layers.Conv2D(128, (3, 3), padding = \"same\", activation='relu'),\n",
    "    tf.keras.layers.BatchNormalization(),\n",
    "    tf.keras.layers.MaxPooling2D(pool_size = (2, 2)),\n",
    "    tf.keras.layers.Dropout(0.2),\n",
    "    tf.keras.layers.Flatten(),\n",
    "    tf.keras.layers.Dense(128, activation = 'relu'),\n",
    "    tf.keras.layers.BatchNormalization(),\n",
    "    tf.keras.layers.Dropout(0.2),\n",
    "    tf.keras.layers.Dense(6, activation = 'softmax')\n",
    "])\n",
    "\n",
    "model_gray.compile(optimizer = \"adam\",\n",
    "                      loss='binary_crossentropy',\n",
    "                      metrics=['accuracy'])\n",
    "\n",
    "model_gray.summary()"
   ]
  },
  {
   "cell_type": "code",
   "execution_count": 131,
   "metadata": {},
   "outputs": [
    {
     "name": "stdout",
     "output_type": "stream",
     "text": [
      "Epoch 1/10\n",
      "444/444 [==============================] - 148s 333ms/step - loss: 0.4345 - accuracy: 0.3732 - val_loss: 0.4567 - val_accuracy: 0.3089\n",
      "Epoch 2/10\n",
      "444/444 [==============================] - 161s 363ms/step - loss: 0.3255 - accuracy: 0.5480 - val_loss: 0.2738 - val_accuracy: 0.6511\n",
      "Epoch 3/10\n",
      "444/444 [==============================] - 163s 367ms/step - loss: 0.2412 - accuracy: 0.6903 - val_loss: 0.2691 - val_accuracy: 0.6267\n",
      "Epoch 4/10\n",
      "444/444 [==============================] - 173s 390ms/step - loss: 0.2168 - accuracy: 0.7257 - val_loss: 0.2743 - val_accuracy: 0.6222\n",
      "Epoch 5/10\n",
      "444/444 [==============================] - 163s 366ms/step - loss: 0.1625 - accuracy: 0.8052 - val_loss: 0.1490 - val_accuracy: 0.8000\n",
      "Epoch 6/10\n",
      "444/444 [==============================] - 162s 364ms/step - loss: 0.1283 - accuracy: 0.8520 - val_loss: 0.3152 - val_accuracy: 0.6556\n",
      "Epoch 7/10\n",
      "444/444 [==============================] - 159s 358ms/step - loss: 0.1370 - accuracy: 0.8396 - val_loss: 0.1062 - val_accuracy: 0.8800\n",
      "Epoch 8/10\n",
      "444/444 [==============================] - 157s 353ms/step - loss: 0.0905 - accuracy: 0.9007 - val_loss: 0.4073 - val_accuracy: 0.5467\n",
      "Epoch 9/10\n",
      "444/444 [==============================] - 155s 350ms/step - loss: 0.1146 - accuracy: 0.8667 - val_loss: 0.1151 - val_accuracy: 0.8644\n",
      "Epoch 10/10\n",
      "444/444 [==============================] - 157s 354ms/step - loss: 0.0813 - accuracy: 0.9126 - val_loss: 1.3283 - val_accuracy: 0.3511\n"
     ]
    }
   ],
   "source": [
    "train_gray = model_gray.fit(x_train_gray, y_train_hot,\n",
    "                                    epochs=10,\n",
    "                                    batch_size=10,\n",
    "                                    validation_data=(x_valid_gray, y_valid_hot))\n",
    "\n",
    "test_gray = model_gray.evaluate(x_test_gray, y_test_hot, verbose=0)  \n",
    "\n",
    "pred_labels_gray = model_gray.predict_classes(x_test_gray)"
   ]
  },
  {
   "cell_type": "code",
   "execution_count": 132,
   "metadata": {},
   "outputs": [],
   "source": [
    "y_pred_gray = []\n",
    "for elem in pred_labels_gray:\n",
    "    y_pred_gray.append(elem)"
   ]
  },
  {
   "cell_type": "code",
   "execution_count": 133,
   "metadata": {},
   "outputs": [
    {
     "data": {
      "text/html": [
       "<div>\n",
       "<style scoped>\n",
       "    .dataframe tbody tr th:only-of-type {\n",
       "        vertical-align: middle;\n",
       "    }\n",
       "\n",
       "    .dataframe tbody tr th {\n",
       "        vertical-align: top;\n",
       "    }\n",
       "\n",
       "    .dataframe thead th {\n",
       "        text-align: right;\n",
       "    }\n",
       "</style>\n",
       "<table border=\"1\" class=\"dataframe\">\n",
       "  <thead>\n",
       "    <tr style=\"text-align: right;\">\n",
       "      <th></th>\n",
       "      <th>Original labels</th>\n",
       "      <th>Predicted labels</th>\n",
       "    </tr>\n",
       "  </thead>\n",
       "  <tbody>\n",
       "    <tr>\n",
       "      <th>0</th>\n",
       "      <td>2</td>\n",
       "      <td>2</td>\n",
       "    </tr>\n",
       "    <tr>\n",
       "      <th>1</th>\n",
       "      <td>5</td>\n",
       "      <td>2</td>\n",
       "    </tr>\n",
       "    <tr>\n",
       "      <th>2</th>\n",
       "      <td>4</td>\n",
       "      <td>2</td>\n",
       "    </tr>\n",
       "    <tr>\n",
       "      <th>3</th>\n",
       "      <td>0</td>\n",
       "      <td>2</td>\n",
       "    </tr>\n",
       "    <tr>\n",
       "      <th>4</th>\n",
       "      <td>3</td>\n",
       "      <td>2</td>\n",
       "    </tr>\n",
       "    <tr>\n",
       "      <th>...</th>\n",
       "      <td>...</td>\n",
       "      <td>...</td>\n",
       "    </tr>\n",
       "    <tr>\n",
       "      <th>1105</th>\n",
       "      <td>5</td>\n",
       "      <td>1</td>\n",
       "    </tr>\n",
       "    <tr>\n",
       "      <th>1106</th>\n",
       "      <td>1</td>\n",
       "      <td>0</td>\n",
       "    </tr>\n",
       "    <tr>\n",
       "      <th>1107</th>\n",
       "      <td>1</td>\n",
       "      <td>2</td>\n",
       "    </tr>\n",
       "    <tr>\n",
       "      <th>1108</th>\n",
       "      <td>3</td>\n",
       "      <td>2</td>\n",
       "    </tr>\n",
       "    <tr>\n",
       "      <th>1109</th>\n",
       "      <td>0</td>\n",
       "      <td>4</td>\n",
       "    </tr>\n",
       "  </tbody>\n",
       "</table>\n",
       "<p>1110 rows × 2 columns</p>\n",
       "</div>"
      ],
      "text/plain": [
       "      Original labels  Predicted labels\n",
       "0                   2                 2\n",
       "1                   5                 2\n",
       "2                   4                 2\n",
       "3                   0                 2\n",
       "4                   3                 2\n",
       "...               ...               ...\n",
       "1105                5                 1\n",
       "1106                1                 0\n",
       "1107                1                 2\n",
       "1108                3                 2\n",
       "1109                0                 4\n",
       "\n",
       "[1110 rows x 2 columns]"
      ]
     },
     "execution_count": 133,
     "metadata": {},
     "output_type": "execute_result"
    }
   ],
   "source": [
    "df_gray=pd.DataFrame({'Original labels':y_test_orig,\n",
    "                      'Predicted labels':y_pred_gray})\n",
    "df_gray"
   ]
  },
  {
   "cell_type": "code",
   "execution_count": 134,
   "metadata": {},
   "outputs": [
    {
     "data": {
      "text/plain": [
       "<matplotlib.legend.Legend at 0x1bff58fcfc8>"
      ]
     },
     "execution_count": 134,
     "metadata": {},
     "output_type": "execute_result"
    },
    {
     "data": {
      "image/png": "[encoded data removed]",
      "text/plain": [
       "<Figure size 432x432 with 1 Axes>"
      ]
     },
     "metadata": {},
     "output_type": "display_data"
    }
   ],
   "source": [
    "plt.plot(train_gray.history['accuracy'], label='accuracy')\n",
    "plt.plot(train_gray.history['val_accuracy'], label = 'val_accuracy')\n",
    "plt.xlabel('Epoch')\n",
    "plt.ylabel('Accuracy')\n",
    "plt.ylim([-1, 2])\n",
    "plt.legend(loc='lower right')"
   ]
  },
  {
   "cell_type": "markdown",
   "metadata": {},
   "source": [
    "2 VGG with Dropout and BatchNormalization using the features of the PCA.\n",
    "- rgb scale first,\n",
    "- grayscale second."
   ]
  },
  {
   "cell_type": "code",
   "execution_count": 184,
   "metadata": {},
   "outputs": [
    {
     "name": "stdout",
     "output_type": "stream",
     "text": [
      "PCA(n_components=0.9)\n"
     ]
    }
   ],
   "source": [
    "print(train_rgb)"
   ]
  },
  {
   "cell_type": "code",
   "execution_count": 190,
   "metadata": {},
   "outputs": [],
   "source": [
    "model_pca = Sequential()\n",
    "model_pca.add(Dense(1024, activation='relu', input_shape=(62,)))\n",
    "model_pca.add(Dense(1024, activation='relu'))\n",
    "model_pca.add(Dense(512, activation='relu'))\n",
    "model_pca.add(Dense(256, activation='relu'))\n",
    "model_pca.add(Dense(6, activation='softmax'))\n",
    "\n",
    "model_pca.compile(loss='categorical_crossentropy',\n",
    "              optimizer='adam',\n",
    "              metrics=['accuracy'])"
   ]
  },
  {
   "cell_type": "code",
   "execution_count": 191,
   "metadata": {},
   "outputs": [
    {
     "name": "stdout",
     "output_type": "stream",
     "text": [
      "Epoch 1/10\n",
      "444/444 [==============================] - 5s 12ms/step - loss: 1.3456 - accuracy: 0.4115 - val_loss: 0.8880 - val_accuracy: 0.6289\n",
      "Epoch 2/10\n",
      "444/444 [==============================] - 5s 11ms/step - loss: 0.7449 - accuracy: 0.7189 - val_loss: 0.6017 - val_accuracy: 0.7733\n",
      "Epoch 3/10\n",
      "444/444 [==============================] - 5s 12ms/step - loss: 0.5340 - accuracy: 0.8061 - val_loss: 0.4551 - val_accuracy: 0.8267\n",
      "Epoch 4/10\n",
      "444/444 [==============================] - 5s 12ms/step - loss: 0.4027 - accuracy: 0.8592 - val_loss: 0.3312 - val_accuracy: 0.8733\n",
      "Epoch 5/10\n",
      "444/444 [==============================] - 5s 11ms/step - loss: 0.3224 - accuracy: 0.8908 - val_loss: 0.3051 - val_accuracy: 0.8978\n",
      "Epoch 6/10\n",
      "444/444 [==============================] - 5s 12ms/step - loss: 0.2958 - accuracy: 0.9027 - val_loss: 0.3411 - val_accuracy: 0.8756\n",
      "Epoch 7/10\n",
      "444/444 [==============================] - 5s 12ms/step - loss: 0.2397 - accuracy: 0.9227 - val_loss: 0.2355 - val_accuracy: 0.9289\n",
      "Epoch 8/10\n",
      "444/444 [==============================] - 5s 12ms/step - loss: 0.1937 - accuracy: 0.9338 - val_loss: 0.2035 - val_accuracy: 0.9222\n",
      "Epoch 9/10\n",
      "444/444 [==============================] - 5s 12ms/step - loss: 0.1898 - accuracy: 0.9378 - val_loss: 0.2298 - val_accuracy: 0.9178\n",
      "Epoch 10/10\n",
      "444/444 [==============================] - 5s 12ms/step - loss: 0.1657 - accuracy: 0.9459 - val_loss: 0.3646 - val_accuracy: 0.8956\n"
     ]
    }
   ],
   "source": [
    "history_pca = model_pca.fit(train_pca, y_train_hot,\n",
    "                                    epochs=10,\n",
    "                                    batch_size=10,\n",
    "                                    validation_data=(valid_pca, y_valid_hot))\n",
    "\n",
    "history_test_pca = model_pca.evaluate(test_pca, y_test_hot, verbose=0)  \n",
    "\n",
    "pred_labels_pca = model_pca.predict_classes(test_pca)"
   ]
  },
  {
   "cell_type": "code",
   "execution_count": 192,
   "metadata": {},
   "outputs": [],
   "source": [
    "y_pred_pca = []\n",
    "for elem in pred_labels_pca:\n",
    "    y_pred_pca.append(elem)"
   ]
  },
  {
   "cell_type": "code",
   "execution_count": 195,
   "metadata": {},
   "outputs": [
    {
     "data": {
      "text/html": [
       "<div>\n",
       "<style scoped>\n",
       "    .dataframe tbody tr th:only-of-type {\n",
       "        vertical-align: middle;\n",
       "    }\n",
       "\n",
       "    .dataframe tbody tr th {\n",
       "        vertical-align: top;\n",
       "    }\n",
       "\n",
       "    .dataframe thead th {\n",
       "        text-align: right;\n",
       "    }\n",
       "</style>\n",
       "<table border=\"1\" class=\"dataframe\">\n",
       "  <thead>\n",
       "    <tr style=\"text-align: right;\">\n",
       "      <th></th>\n",
       "      <th>Original labels</th>\n",
       "      <th>Predicted labels</th>\n",
       "    </tr>\n",
       "  </thead>\n",
       "  <tbody>\n",
       "    <tr>\n",
       "      <th>0</th>\n",
       "      <td>2</td>\n",
       "      <td>0</td>\n",
       "    </tr>\n",
       "    <tr>\n",
       "      <th>1</th>\n",
       "      <td>5</td>\n",
       "      <td>5</td>\n",
       "    </tr>\n",
       "    <tr>\n",
       "      <th>2</th>\n",
       "      <td>4</td>\n",
       "      <td>4</td>\n",
       "    </tr>\n",
       "    <tr>\n",
       "      <th>3</th>\n",
       "      <td>0</td>\n",
       "      <td>0</td>\n",
       "    </tr>\n",
       "    <tr>\n",
       "      <th>4</th>\n",
       "      <td>3</td>\n",
       "      <td>3</td>\n",
       "    </tr>\n",
       "    <tr>\n",
       "      <th>...</th>\n",
       "      <td>...</td>\n",
       "      <td>...</td>\n",
       "    </tr>\n",
       "    <tr>\n",
       "      <th>1105</th>\n",
       "      <td>5</td>\n",
       "      <td>5</td>\n",
       "    </tr>\n",
       "    <tr>\n",
       "      <th>1106</th>\n",
       "      <td>1</td>\n",
       "      <td>1</td>\n",
       "    </tr>\n",
       "    <tr>\n",
       "      <th>1107</th>\n",
       "      <td>1</td>\n",
       "      <td>1</td>\n",
       "    </tr>\n",
       "    <tr>\n",
       "      <th>1108</th>\n",
       "      <td>3</td>\n",
       "      <td>3</td>\n",
       "    </tr>\n",
       "    <tr>\n",
       "      <th>1109</th>\n",
       "      <td>0</td>\n",
       "      <td>0</td>\n",
       "    </tr>\n",
       "  </tbody>\n",
       "</table>\n",
       "<p>1110 rows × 2 columns</p>\n",
       "</div>"
      ],
      "text/plain": [
       "      Original labels  Predicted labels\n",
       "0                   2                 0\n",
       "1                   5                 5\n",
       "2                   4                 4\n",
       "3                   0                 0\n",
       "4                   3                 3\n",
       "...               ...               ...\n",
       "1105                5                 5\n",
       "1106                1                 1\n",
       "1107                1                 1\n",
       "1108                3                 3\n",
       "1109                0                 0\n",
       "\n",
       "[1110 rows x 2 columns]"
      ]
     },
     "execution_count": 195,
     "metadata": {},
     "output_type": "execute_result"
    }
   ],
   "source": [
    "df_pca=pd.DataFrame({'Original labels':y_test_orig,\n",
    "                     'Predicted labels':y_pred_pca})\n",
    "df_pca"
   ]
  },
  {
   "cell_type": "code",
   "execution_count": 198,
   "metadata": {},
   "outputs": [
    {
     "data": {
      "text/plain": [
       "<matplotlib.legend.Legend at 0x1bfaede2908>"
      ]
     },
     "execution_count": 198,
     "metadata": {},
     "output_type": "execute_result"
    },
    {
     "data": {
      "image/png": "[encoded data removed]",
      "text/plain": [
       "<Figure size 432x432 with 1 Axes>"
      ]
     },
     "metadata": {},
     "output_type": "display_data"
    }
   ],
   "source": [
    "plt.plot(history_pca.history['loss'], label='loss')\n",
    "plt.plot(history_pca.history['val_loss'], label = 'val_loss')\n",
    "plt.xlabel('Epoch')\n",
    "plt.ylabel('loss')\n",
    "plt.ylim([0, 1])\n",
    "plt.legend(loc='lower right')"
   ]
  },
  {
   "cell_type": "code",
   "execution_count": null,
   "metadata": {},
   "outputs": [],
   "source": []
  }
 ],
 "metadata": {
  "kernelspec": {
   "display_name": "Python 3",
   "language": "python",
   "name": "python3"
  },
  "language_info": {
   "codemirror_mode": {
    "name": "ipython",
    "version": 3
   },
   "file_extension": ".py",
   "mimetype": "text/x-python",
   "name": "python",
   "nbconvert_exporter": "python",
   "pygments_lexer": "ipython3",
   "version": "3.7.7"
  }
 },
 "nbformat": 4,
 "nbformat_minor": 4
}
