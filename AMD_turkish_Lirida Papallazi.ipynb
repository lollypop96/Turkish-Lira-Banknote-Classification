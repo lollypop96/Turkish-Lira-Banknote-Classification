{
 "cells": [
  {
   "cell_type": "markdown",
   "metadata": {},
   "source": [
    "# Turkish Lira Dataset"
   ]
  },
  {
   "cell_type": "markdown",
   "metadata": {},
   "source": [
    "This project exploits the Turkish Lira Banknote Dataset available on Kaggle (https://www.kaggle.com/baltacifatih/turkish-lira-banknote-dataset) to implement from scratch an image classifier based on neural networks using Tensorflow.\n",
    "The trained classifier must take an image as input and provide as output the corresponding predictions w.r.t. the 5, 10, 20, 500, 100, and 200 lira classes."
   ]
  },
  {
   "cell_type": "markdown",
   "metadata": {},
   "source": [
    "The dataset has already been divided into 5550 images for training and 450 for validation, for a grand total of 6000 images whose original shape is of 1280x720x3 (width, height and 3 RGB channels)."
   ]
  },
  {
   "cell_type": "markdown",
   "metadata": {},
   "source": [
    "https://www.datacamp.com/community/tutorials/convolutional-neural-networks-python"
   ]
  },
  {
   "cell_type": "markdown",
   "metadata": {},
   "source": [
    "Download the dataset and unzip it."
   ]
  },
  {
   "cell_type": "code",
   "execution_count": null,
   "metadata": {},
   "outputs": [],
   "source": [
    "#import kaggle\n",
    "#kaggle.api.authenticate()\n",
    "#kaggle.api.dataset_download_files('baltacifatih/turkish-lira-banknote-dataset', unzip=True)"
   ]
  },
  {
   "cell_type": "code",
   "execution_count": 1,
   "metadata": {},
   "outputs": [],
   "source": [
    "import numpy as np\n",
    "import pandas as pd\n",
    "import pickle\n",
    "import seaborn\n",
    "import matplotlib\n",
    "import matplotlib.pyplot as plt\n",
    "from matplotlib import pyplot"
   ]
  },
  {
   "cell_type": "code",
   "execution_count": 2,
   "metadata": {},
   "outputs": [
    {
     "name": "stdout",
     "output_type": "stream",
     "text": [
      "Tensorflow version 2.3.0\n"
     ]
    }
   ],
   "source": [
    "import tensorflow as tf\n",
    "import os\n",
    "from tensorflow import keras\n",
    "\n",
    "print(\"Tensorflow version \" + tf.__version__)"
   ]
  },
  {
   "cell_type": "code",
   "execution_count": 3,
   "metadata": {},
   "outputs": [],
   "source": [
    "from skimage.io import imread\n",
    "import glob\n",
    "import re\n",
    "import skimage\n",
    "import cv2\n",
    "from PIL import Image\n",
    "%matplotlib inline"
   ]
  },
  {
   "cell_type": "code",
   "execution_count": 4,
   "metadata": {},
   "outputs": [],
   "source": [
    "# Importing the Keras libraries and packages\n",
    "from keras import backend as K\n",
    "from keras.utils import to_categorical\n",
    "from keras.layers import Dense, ZeroPadding2D, AveragePooling2D\n",
    "from keras.models import Sequential\n",
    "from keras.callbacks import EarlyStopping, ModelCheckpoint\n",
    "from keras.applications import InceptionResNetV2\n",
    "from keras.layers import Conv2D, MaxPooling2D, Flatten, Dropout, Activation\n",
    "from keras.preprocessing.image import ImageDataGenerator\n",
    "from keras.layers.normalization import BatchNormalization\n",
    "from keras.utils import to_categorical\n",
    "from sklearn.model_selection import train_test_split"
   ]
  },
  {
   "cell_type": "markdown",
   "metadata": {},
   "source": [
    "# Data analysis\n",
    "\n",
    "We import the data and analyze it.\n",
    "\n",
    "The original dataset comprehends a training and a test sets of images, therefore no further train/test split will be employed. The training set contains 5550 images, while the test set contains the remaining 450 images."
   ]
  },
  {
   "cell_type": "code",
   "execution_count": 5,
   "metadata": {
    "scrolled": true
   },
   "outputs": [],
   "source": [
    "raw_turkish=[]\n",
    "with open(\"train.txt\") as file:\n",
    "    raw_turkish=file.readlines()"
   ]
  },
  {
   "cell_type": "code",
   "execution_count": 6,
   "metadata": {},
   "outputs": [],
   "source": [
    "imageDir=''\n",
    "\n",
    "images_turkish={}\n",
    "turkish_labels, img_name=[], []\n",
    "for i in range(0, len(raw_turkish)):\n",
    "    #read each line as a string\n",
    "    s=raw_turkish[i]\n",
    "    s.rstrip(\"\\n\")\n",
    "    #split each line by the slash:\n",
    "    slashSplit=s.split(\"/\")\n",
    "    images={}\n",
    "    for x in slashSplit:\n",
    "        label=slashSplit[0]\n",
    "        imageName=slashSplit[1].rstrip(\"\\n\")\n",
    "        d={label:(imageDir+str(label)+'/'+imageName)}\n",
    "        images.update(d)\n",
    "    \n",
    "    turkish_labels.append(np.int32(label))\n",
    "    img_name.append(imageDir+str(label)+'/'+imageName)\n",
    "    raw_turkish[i]=images"
   ]
  },
  {
   "cell_type": "code",
   "execution_count": 7,
   "metadata": {
    "scrolled": false
   },
   "outputs": [],
   "source": [
    "df_turkish = pd.DataFrame.from_dict({'image':img_name,\n",
    "                                     'label':turkish_labels})"
   ]
  },
  {
   "cell_type": "code",
   "execution_count": 8,
   "metadata": {},
   "outputs": [],
   "source": [
    "df_turkish = df_turkish.sample(frac=1)"
   ]
  },
  {
   "cell_type": "code",
   "execution_count": 9,
   "metadata": {},
   "outputs": [
    {
     "data": {
      "text/html": [
       "<div>\n",
       "<style scoped>\n",
       "    .dataframe tbody tr th:only-of-type {\n",
       "        vertical-align: middle;\n",
       "    }\n",
       "\n",
       "    .dataframe tbody tr th {\n",
       "        vertical-align: top;\n",
       "    }\n",
       "\n",
       "    .dataframe thead th {\n",
       "        text-align: right;\n",
       "    }\n",
       "</style>\n",
       "<table border=\"1\" class=\"dataframe\">\n",
       "  <thead>\n",
       "    <tr style=\"text-align: right;\">\n",
       "      <th></th>\n",
       "      <th>image</th>\n",
       "      <th>label</th>\n",
       "    </tr>\n",
       "  </thead>\n",
       "  <tbody>\n",
       "    <tr>\n",
       "      <th>4724</th>\n",
       "      <td>200/eminus_200_1_0169.png</td>\n",
       "      <td>200</td>\n",
       "    </tr>\n",
       "    <tr>\n",
       "      <th>2331</th>\n",
       "      <td>20/20_2_0063.png</td>\n",
       "      <td>20</td>\n",
       "    </tr>\n",
       "    <tr>\n",
       "      <th>2658</th>\n",
       "      <td>20/flipped_20_1_0062.png</td>\n",
       "      <td>20</td>\n",
       "    </tr>\n",
       "    <tr>\n",
       "      <th>1025</th>\n",
       "      <td>10/eminus_10_1_0030.png</td>\n",
       "      <td>10</td>\n",
       "    </tr>\n",
       "    <tr>\n",
       "      <th>1629</th>\n",
       "      <td>10/saltAndPeppered_10_2_0034.png</td>\n",
       "      <td>10</td>\n",
       "    </tr>\n",
       "    <tr>\n",
       "      <th>...</th>\n",
       "      <td>...</td>\n",
       "      <td>...</td>\n",
       "    </tr>\n",
       "    <tr>\n",
       "      <th>4836</th>\n",
       "      <td>200/200_1_0079.png</td>\n",
       "      <td>200</td>\n",
       "    </tr>\n",
       "    <tr>\n",
       "      <th>1216</th>\n",
       "      <td>10/flipped_10_3_0064.png</td>\n",
       "      <td>10</td>\n",
       "    </tr>\n",
       "    <tr>\n",
       "      <th>1624</th>\n",
       "      <td>10/flipped_10_3_0054.png</td>\n",
       "      <td>10</td>\n",
       "    </tr>\n",
       "    <tr>\n",
       "      <th>3034</th>\n",
       "      <td>50/50_1_0022.png</td>\n",
       "      <td>50</td>\n",
       "    </tr>\n",
       "    <tr>\n",
       "      <th>452</th>\n",
       "      <td>5/saltAndPeppered_5_1_0165.png</td>\n",
       "      <td>5</td>\n",
       "    </tr>\n",
       "  </tbody>\n",
       "</table>\n",
       "<p>5550 rows × 2 columns</p>\n",
       "</div>"
      ],
      "text/plain": [
       "                                 image  label\n",
       "4724         200/eminus_200_1_0169.png    200\n",
       "2331                  20/20_2_0063.png     20\n",
       "2658          20/flipped_20_1_0062.png     20\n",
       "1025           10/eminus_10_1_0030.png     10\n",
       "1629  10/saltAndPeppered_10_2_0034.png     10\n",
       "...                                ...    ...\n",
       "4836                200/200_1_0079.png    200\n",
       "1216          10/flipped_10_3_0064.png     10\n",
       "1624          10/flipped_10_3_0054.png     10\n",
       "3034                  50/50_1_0022.png     50\n",
       "452     5/saltAndPeppered_5_1_0165.png      5\n",
       "\n",
       "[5550 rows x 2 columns]"
      ]
     },
     "execution_count": 9,
     "metadata": {},
     "output_type": "execute_result"
    }
   ],
   "source": [
    "df_turkish"
   ]
  },
  {
   "cell_type": "code",
   "execution_count": 10,
   "metadata": {},
   "outputs": [],
   "source": [
    "raw_valid=[]\n",
    "with open(\"validation.txt\") as file_valid:\n",
    "    raw_valid=file_valid.readlines()"
   ]
  },
  {
   "cell_type": "code",
   "execution_count": 11,
   "metadata": {},
   "outputs": [],
   "source": [
    "images_valid={}\n",
    "valid_labels, img_name_valid=[], []\n",
    "for i in range(0, len(raw_valid)):\n",
    "    #read each line as a string\n",
    "    sValid=raw_valid[i]\n",
    "    sValid.rstrip(\"\\n\")\n",
    "    #split each line by the slash:\n",
    "    slashSplitValid=sValid.split(\"/\")\n",
    "    imagesValid={}\n",
    "    for x in slashSplitValid:\n",
    "        labelValid=slashSplitValid[0]\n",
    "        imageNameValid=slashSplitValid[1].rstrip(\"\\n\")\n",
    "        dValid={labelValid:(imageDir+str(labelValid)+'/'+imageNameValid)}\n",
    "        imagesValid.update(dValid)\n",
    "    \n",
    "    valid_labels.append(np.int32(labelValid))\n",
    "    img_name_valid.append(imageDir+str(labelValid)+'/'+imageNameValid)\n",
    "    raw_valid[i]=imagesValid"
   ]
  },
  {
   "cell_type": "code",
   "execution_count": 12,
   "metadata": {},
   "outputs": [],
   "source": [
    "df_valid= pd.DataFrame.from_dict({'image':img_name_valid,\n",
    "                                  'label':valid_labels})\n",
    "df_valid = df_valid.sample(frac=1)"
   ]
  },
  {
   "cell_type": "code",
   "execution_count": 13,
   "metadata": {},
   "outputs": [
    {
     "name": "stdout",
     "output_type": "stream",
     "text": [
      "image shape: width=1280, height=1280, channels=3\n"
     ]
    }
   ],
   "source": [
    "img=plt.imread(df_turkish.iloc[0]['image'])\n",
    "height=img.shape[0]\n",
    "width=img.shape[1]\n",
    "channels=img.shape[2]\n",
    "lab=df_turkish.iloc[0]['label']\n",
    "print('image shape: width={}, height={}, channels={}'.format(width, width, channels))"
   ]
  },
  {
   "cell_type": "code",
   "execution_count": 14,
   "metadata": {},
   "outputs": [
    {
     "name": "stdout",
     "output_type": "stream",
     "text": [
      "200\n"
     ]
    },
    {
     "data": {
      "image/png": "[encoded data removed]",
      "text/plain": [
       "<Figure size 432x288 with 1 Axes>"
      ]
     },
     "metadata": {
      "needs_background": "light"
     },
     "output_type": "display_data"
    }
   ],
   "source": [
    "plt.imshow(img)\n",
    "print(lab)"
   ]
  },
  {
   "cell_type": "markdown",
   "metadata": {},
   "source": [
    "Let's analyze the distribution of the labels in order to check whether we need to adjust the class distribution of our dataset using for example oversampling or undersampling."
   ]
  },
  {
   "cell_type": "code",
   "execution_count": 15,
   "metadata": {},
   "outputs": [
    {
     "data": {
      "text/plain": [
       "<matplotlib.axes._subplots.AxesSubplot at 0x18018969548>"
      ]
     },
     "execution_count": 15,
     "metadata": {},
     "output_type": "execute_result"
    },
    {
     "data": {
      "image/png": "[encoded data removed]",
      "text/plain": [
       "<Figure size 432x432 with 1 Axes>"
      ]
     },
     "metadata": {},
     "output_type": "display_data"
    }
   ],
   "source": [
    "seaborn.set(rc={'figure.figsize':(6,6)})\n",
    "seaborn.countplot(df_turkish['label'])"
   ]
  },
  {
   "cell_type": "code",
   "execution_count": 16,
   "metadata": {},
   "outputs": [
    {
     "data": {
      "text/plain": [
       "<matplotlib.axes._subplots.AxesSubplot at 0x1801b370a88>"
      ]
     },
     "execution_count": 16,
     "metadata": {},
     "output_type": "execute_result"
    },
    {
     "data": {
      "image/png": "[encoded data removed]",
      "text/plain": [
       "<Figure size 432x432 with 1 Axes>"
      ]
     },
     "metadata": {},
     "output_type": "display_data"
    }
   ],
   "source": [
    "# Let's analyze the distribution of the labels\n",
    "seaborn.set(rc={'figure.figsize':(6,6)})\n",
    "seaborn.countplot(df_valid['label'])"
   ]
  },
  {
   "cell_type": "markdown",
   "metadata": {},
   "source": [
    "As we can see the dataset is fully balanced therefore we do not need to implement any techniques of upsampling or downsampling."
   ]
  },
  {
   "cell_type": "markdown",
   "metadata": {},
   "source": [
    "# Preprocessing"
   ]
  },
  {
   "cell_type": "code",
   "execution_count": 17,
   "metadata": {},
   "outputs": [],
   "source": [
    "from timeit import default_timer as timer\n",
    "\n",
    "# get the starting time\n",
    "startTime = timer()\n",
    "\n",
    "# initialize the empty lists\n",
    "x_turkish=[]\n",
    "y_turkish1=[]\n",
    "dim=64\n",
    "\n",
    "# for loop to resize the images into 64x64 pictures\n",
    "for row in df_turkish.iterrows():\n",
    "    image = cv2.imread(row[1][0])\n",
    "    img_array = Image.fromarray(image, 'RGB')\n",
    "    img_resized = img_array.resize((dim,dim))\n",
    "    x_turkish.append(np.array(img_resized))\n",
    "    y_turkish1.append(row[1][1])\n",
    "endTime = timer()"
   ]
  },
  {
   "cell_type": "code",
   "execution_count": 18,
   "metadata": {},
   "outputs": [
    {
     "name": "stdout",
     "output_type": "stream",
     "text": [
      "Time needed to perform the conversion is: 5.0 minutes and 21.2 seconds\n"
     ]
    }
   ],
   "source": [
    "# get time taken to run the for loop\n",
    "print(\"Time needed to perform the conversion is: {} minutes and {:.1f} seconds\".format((endTime - startTime)//60, (endTime - startTime)%60))"
   ]
  },
  {
   "cell_type": "code",
   "execution_count": 19,
   "metadata": {},
   "outputs": [],
   "source": [
    "# get the starting time\n",
    "startTimeValid = timer()\n",
    "\n",
    "# initialize the empty lists\n",
    "x_valid=[]\n",
    "y_valid1=[]\n",
    "dim=64\n",
    "\n",
    "# for loop\n",
    "for row in df_valid.iterrows():\n",
    "    image= cv2.imread(row[1][0])\n",
    "    img_array = Image.fromarray(image, 'RGB')\n",
    "    img_resized = img_array.resize((dim,dim))\n",
    "    x_valid.append(np.array(img_resized))\n",
    "    y_valid1.append(np.array(row[1][1]))\n",
    "endTimeValid = timer()"
   ]
  },
  {
   "cell_type": "code",
   "execution_count": 20,
   "metadata": {},
   "outputs": [
    {
     "name": "stdout",
     "output_type": "stream",
     "text": [
      "Time needed to perform the conversion of the validation set is: 0.0 minutes and 22.3 seconds\n"
     ]
    }
   ],
   "source": [
    "# get time taken to run the for loop\n",
    "print(\"Time needed to perform the conversion of the validation set is: {} minutes and {:.1f} seconds\".format((endTimeValid - startTimeValid)//60, (endTimeValid - startTimeValid)%60))"
   ]
  },
  {
   "cell_type": "code",
   "execution_count": 21,
   "metadata": {},
   "outputs": [],
   "source": [
    "x_turkish=np.array(x_turkish)\n",
    "y_turkish1=np.array(y_turkish1)\n",
    "x_valid=np.array(x_valid)\n",
    "y_valid1=np.array(y_valid1)"
   ]
  },
  {
   "cell_type": "code",
   "execution_count": 22,
   "metadata": {},
   "outputs": [
    {
     "data": {
      "text/plain": [
       "(5550, 64, 64, 3)"
      ]
     },
     "execution_count": 22,
     "metadata": {},
     "output_type": "execute_result"
    }
   ],
   "source": [
    "x_turkish.shape"
   ]
  },
  {
   "cell_type": "code",
   "execution_count": 23,
   "metadata": {},
   "outputs": [],
   "source": [
    "y_turkish=[]\n",
    "for i in y_turkish1:\n",
    "    if (i==5):\n",
    "        y_turkish.append([0])\n",
    "    elif (i==10):\n",
    "        y_turkish.append([1])\n",
    "    elif (i==20):\n",
    "        y_turkish.append([2])\n",
    "    elif (i==50):\n",
    "        y_turkish.append([3])\n",
    "    elif (i==100):\n",
    "        y_turkish.append([4])\n",
    "    elif (i==200):\n",
    "        y_turkish.append([5])"
   ]
  },
  {
   "cell_type": "code",
   "execution_count": 24,
   "metadata": {},
   "outputs": [],
   "source": [
    "y_valid=[]\n",
    "for i in y_valid1:\n",
    "    if (i==5):\n",
    "        y_valid.append([0])\n",
    "    elif (i==10):\n",
    "        y_valid.append([1])\n",
    "    elif (i==20):\n",
    "        y_valid.append([2])\n",
    "    elif (i==50):\n",
    "        y_valid.append([3])\n",
    "    elif (i==100):\n",
    "        y_valid.append([4])\n",
    "    elif (i==200):\n",
    "        y_valid.append([5])"
   ]
  },
  {
   "cell_type": "code",
   "execution_count": 25,
   "metadata": {},
   "outputs": [],
   "source": [
    "y_turkish=np.array(y_turkish)\n",
    "y_valid=np.array(y_valid)"
   ]
  },
  {
   "cell_type": "code",
   "execution_count": 26,
   "metadata": {},
   "outputs": [],
   "source": [
    "x_train, x_test, y_train, y_test = train_test_split(x_turkish, y_turkish, test_size=0.2, random_state=42)"
   ]
  },
  {
   "cell_type": "code",
   "execution_count": 27,
   "metadata": {},
   "outputs": [
    {
     "name": "stdout",
     "output_type": "stream",
     "text": [
      "(4440, 64, 64, 3) (1110, 64, 64, 3) (4440, 1) (1110, 1)\n"
     ]
    }
   ],
   "source": [
    "print(x_train.shape, x_test.shape, y_train.shape, y_test.shape)"
   ]
  },
  {
   "cell_type": "code",
   "execution_count": 28,
   "metadata": {},
   "outputs": [],
   "source": [
    "y_train = np.reshape(y_train, (y_train.shape[0], 1))\n",
    "y_test = np.reshape(y_test, (y_test.shape[0], 1))\n",
    "y_valid = np.reshape(y_valid, (y_valid.shape[0], 1))"
   ]
  },
  {
   "cell_type": "code",
   "execution_count": 29,
   "metadata": {},
   "outputs": [
    {
     "name": "stdout",
     "output_type": "stream",
     "text": [
      "(4440, 1)\n",
      "(1110, 1)\n",
      "(450, 1)\n"
     ]
    }
   ],
   "source": [
    "print(y_train.shape)\n",
    "print(y_test.shape)\n",
    "print(y_valid.shape)"
   ]
  },
  {
   "cell_type": "code",
   "execution_count": 30,
   "metadata": {},
   "outputs": [
    {
     "name": "stdout",
     "output_type": "stream",
     "text": [
      "2\n"
     ]
    },
    {
     "data": {
      "image/png": "[encoded data removed]",
      "text/plain": [
       "<Figure size 432x432 with 1 Axes>"
      ]
     },
     "metadata": {},
     "output_type": "display_data"
    }
   ],
   "source": [
    "plt.imshow(x_valid[0])\n",
    "print(y_valid[0][0])"
   ]
  },
  {
   "cell_type": "code",
   "execution_count": 31,
   "metadata": {},
   "outputs": [
    {
     "data": {
      "text/plain": [
       "3"
      ]
     },
     "execution_count": 31,
     "metadata": {},
     "output_type": "execute_result"
    },
    {
     "data": {
      "image/png": "[encoded data removed]",
      "text/plain": [
       "<Figure size 432x432 with 1 Axes>"
      ]
     },
     "metadata": {},
     "output_type": "display_data"
    }
   ],
   "source": [
    "plt.imshow(x_train[0])\n",
    "y_train[0][0]"
   ]
  },
  {
   "cell_type": "code",
   "execution_count": 32,
   "metadata": {},
   "outputs": [
    {
     "data": {
      "text/plain": [
       "5"
      ]
     },
     "execution_count": 32,
     "metadata": {},
     "output_type": "execute_result"
    },
    {
     "data": {
      "image/png": "[encoded data removed]",
      "text/plain": [
       "<Figure size 432x432 with 1 Axes>"
      ]
     },
     "metadata": {},
     "output_type": "display_data"
    }
   ],
   "source": [
    "plt.imshow(x_test[0])\n",
    "y_test[0][0]"
   ]
  },
  {
   "cell_type": "markdown",
   "metadata": {},
   "source": [
    "# Grayscale conversion of the images\n",
    "\n",
    "We will use the tf.image.rgb_to_grayscale function, which converts more efficiently one or more images from RGB to Grayscale."
   ]
  },
  {
   "cell_type": "code",
   "execution_count": 33,
   "metadata": {},
   "outputs": [],
   "source": [
    "x_train_gray = tf.image.rgb_to_grayscale(x_train)\n",
    "x_valid_gray = tf.image.rgb_to_grayscale(x_valid)\n",
    "x_test_gray = tf.image.rgb_to_grayscale(x_test)"
   ]
  },
  {
   "cell_type": "code",
   "execution_count": 34,
   "metadata": {},
   "outputs": [
    {
     "name": "stdout",
     "output_type": "stream",
     "text": [
      "(4440, 64, 64, 1) (1110, 64, 64, 1) (450, 64, 64, 1)\n"
     ]
    }
   ],
   "source": [
    "print(x_train_gray.shape, x_test_gray.shape, x_valid_gray.shape)"
   ]
  },
  {
   "cell_type": "code",
   "execution_count": 35,
   "metadata": {},
   "outputs": [
    {
     "data": {
      "text/plain": [
       "<matplotlib.image.AxesImage at 0x1801b84da48>"
      ]
     },
     "execution_count": 35,
     "metadata": {},
     "output_type": "execute_result"
    },
    {
     "data": {
      "image/png": "[encoded data removed]",
      "text/plain": [
       "<Figure size 432x432 with 1 Axes>"
      ]
     },
     "metadata": {},
     "output_type": "display_data"
    }
   ],
   "source": [
    "dim = 64\n",
    "plt.imshow(tf.reshape(x_train_gray[0],[dim, dim]), cmap = \"gray\")"
   ]
  },
  {
   "cell_type": "markdown",
   "metadata": {},
   "source": [
    "# RGB color model\n",
    "\n",
    "It seems appropriate to briefly introduce the RGB color model. A color model is an abstract mathematical model describing the way colors can be represented as tuples of numbers, typically as three (as in our case) or four values or color components. The RGB model is an additive color model since the perceived color can be predicted by summing the numeric representations of the component colors which in this model are Red, Green and Blue."
   ]
  },
  {
   "cell_type": "markdown",
   "metadata": {},
   "source": [
    "We need to:\n",
    "- convert the labels to one hot encoding format;\n",
    "- rescale pixel intensity values in the interval [0,1]\n",
    "https://machinelearningmastery.com/how-to-manually-scale-image-pixel-data-for-deep-learning/"
   ]
  },
  {
   "cell_type": "code",
   "execution_count": 36,
   "metadata": {},
   "outputs": [],
   "source": [
    "# RGB scale version\n",
    "train_set_size=x_train.shape[0]\n",
    "valid_set_size=x_valid.shape[0]\n",
    "test_set_size=x_test.shape[0]\n",
    "img_dim=np.int32(64)\n",
    "dim=64\n",
    "rgb=3\n",
    "max_value=255.0\n",
    "\n",
    "# one hot encoding\n",
    "y_train_hot = to_categorical(y_train, 6)\n",
    "y_valid_hot = to_categorical(y_valid, 6)\n",
    "y_test_hot = to_categorical(y_test, 6)\n",
    "\n",
    "# rescale in [0,1]\n",
    "x_train = tf.cast(x_train, tf.float32) / max_value\n",
    "x_valid = tf.cast(x_valid, tf.float32) / max_value\n",
    "x_test = tf.cast(x_test, tf.float32) / max_value"
   ]
  },
  {
   "cell_type": "code",
   "execution_count": 37,
   "metadata": {},
   "outputs": [],
   "source": [
    "# RGB flatted images\n",
    "# flatten the images\n",
    "x_train_flat = tf.reshape(x_train, [train_set_size, img_dim * img_dim * 3])\n",
    "x_test_flat = tf.reshape(x_test, [test_set_size, img_dim * img_dim * 3])\n",
    "x_valid_flat = tf.reshape(x_valid, [valid_set_size, img_dim * img_dim * 3])\n",
    "\n",
    "# rescale in [0,1]\n",
    "x_train_flat = tf.cast(x_train_flat, tf.float32) / max_value\n",
    "x_valid_flat = tf.cast(x_valid_flat, tf.float32) / max_value\n",
    "x_test_flat = tf.cast(x_test_flat, tf.float32) / max_value"
   ]
  },
  {
   "cell_type": "code",
   "execution_count": 38,
   "metadata": {},
   "outputs": [
    {
     "data": {
      "text/plain": [
       "TensorShape([4440, 64, 64, 3])"
      ]
     },
     "execution_count": 38,
     "metadata": {},
     "output_type": "execute_result"
    }
   ],
   "source": [
    "x_train.shape"
   ]
  },
  {
   "cell_type": "code",
   "execution_count": 39,
   "metadata": {},
   "outputs": [],
   "source": [
    "# Gray scale version\n",
    "train_gray_size=x_train_gray.shape[0]\n",
    "valid_gray_size=x_valid_gray.shape[0]\n",
    "test_gray_size=x_test_gray.shape[0]\n",
    "img_dim=np.int32(64)\n",
    "max_value=np.float32(255.0)\n",
    "\n",
    "# rescale the flatted images in [0,1]\n",
    "x_train_gray = tf.cast(x_train_gray, tf.float32) / max_value\n",
    "x_valid_gray = tf.cast(x_valid_gray, tf.float32) / max_value\n",
    "x_test_gray = tf.cast(x_test_gray, tf.float32) / max_value"
   ]
  },
  {
   "cell_type": "code",
   "execution_count": 40,
   "metadata": {},
   "outputs": [],
   "source": [
    "# Grayscale flatted images\n",
    "# flatten the images\n",
    "x_train_gray_flat = tf.reshape(x_train_gray, [train_gray_size, img_dim * img_dim])\n",
    "x_test_gray_flat = tf.reshape(x_test_gray, [test_gray_size, img_dim * img_dim])\n",
    "x_valid_gray_flat = tf.reshape(x_valid_gray, [valid_gray_size, img_dim * img_dim])\n",
    "\n",
    "# rescale the flatted images in [0,1]\n",
    "x_train_gray_flat = tf.cast(x_train_gray_flat, tf.float32) / max_value\n",
    "x_valid_gray_flat = tf.cast(x_valid_gray_flat, tf.float32) / max_value\n",
    "x_test_gray_flat = tf.cast(x_test_gray_flat, tf.float32) / max_value"
   ]
  },
  {
   "cell_type": "code",
   "execution_count": 41,
   "metadata": {},
   "outputs": [
    {
     "name": "stdout",
     "output_type": "stream",
     "text": [
      "(4440, 4096) (4440, 6) (1110, 4096) (1110, 6)\n"
     ]
    }
   ],
   "source": [
    "print(x_train_gray_flat.shape, y_train_hot.shape, x_test_gray_flat.shape, y_test_hot.shape)"
   ]
  },
  {
   "cell_type": "markdown",
   "metadata": {},
   "source": [
    "# Feed-forward neural networks"
   ]
  },
  {
   "cell_type": "markdown",
   "metadata": {},
   "source": [
    "To build an image classifier we proceed as follows:\n",
    "- convert RGB images in grayscale,\n",
    "- flatten the images;\n",
    "- build a feed-forward neural network;\n",
    "- tune the network to improve the accuracy.\n",
    "\n",
    "We also modify the visualization of the labels of the test set."
   ]
  },
  {
   "cell_type": "code",
   "execution_count": 42,
   "metadata": {},
   "outputs": [],
   "source": [
    "y_test_orig=[]\n",
    "for elem in y_test:\n",
    "    y_test_orig.append(elem[0])"
   ]
  },
  {
   "cell_type": "markdown",
   "metadata": {},
   "source": [
    "We then test a one layer feed-forward neural network."
   ]
  },
  {
   "cell_type": "code",
   "execution_count": 43,
   "metadata": {},
   "outputs": [],
   "source": [
    "batch_size=64\n",
    "epochs=10"
   ]
  },
  {
   "cell_type": "code",
   "execution_count": 44,
   "metadata": {},
   "outputs": [
    {
     "name": "stdout",
     "output_type": "stream",
     "text": [
      "Model: \"sequential\"\n",
      "_________________________________________________________________\n",
      "Layer (type)                 Output Shape              Param #   \n",
      "=================================================================\n",
      "flatten (Flatten)            (None, 4096)              0         \n",
      "_________________________________________________________________\n",
      "dense (Dense)                (None, 100)               409700    \n",
      "_________________________________________________________________\n",
      "dense_1 (Dense)              (None, 6)                 606       \n",
      "=================================================================\n",
      "Total params: 410,306\n",
      "Trainable params: 410,306\n",
      "Non-trainable params: 0\n",
      "_________________________________________________________________\n"
     ]
    }
   ],
   "source": [
    "model_one_layer = tf.keras.Sequential([\n",
    "    tf.keras.layers.Flatten(input_shape=(64*64,)),\n",
    "    tf.keras.layers.Dense(100, activation='relu'),\n",
    "    tf.keras.layers.Dense(6, activation='softmax')\n",
    "])\n",
    "\n",
    "model_one_layer.compile(loss = 'binary_crossentropy',\n",
    "              optimizer = 'adam',\n",
    "              metrics = ['accuracy'])\n",
    "model_one_layer.summary()"
   ]
  },
  {
   "cell_type": "code",
   "execution_count": 45,
   "metadata": {},
   "outputs": [
    {
     "name": "stdout",
     "output_type": "stream",
     "text": [
      "Epoch 1/10\n",
      "70/70 [==============================] - 1s 10ms/step - loss: 0.4494 - accuracy: 0.1926 - val_loss: 0.4459 - val_accuracy: 0.3281\n",
      "Epoch 2/10\n",
      "70/70 [==============================] - 0s 6ms/step - loss: 0.4439 - accuracy: 0.2775 - val_loss: 0.4422 - val_accuracy: 0.3594\n",
      "Epoch 3/10\n",
      "70/70 [==============================] - 0s 5ms/step - loss: 0.4369 - accuracy: 0.2764 - val_loss: 0.4388 - val_accuracy: 0.2812\n",
      "Epoch 4/10\n",
      "70/70 [==============================] - 0s 6ms/step - loss: 0.4313 - accuracy: 0.2959 - val_loss: 0.4335 - val_accuracy: 0.3438\n",
      "Epoch 5/10\n",
      "70/70 [==============================] - 0s 6ms/step - loss: 0.4278 - accuracy: 0.2968 - val_loss: 0.4285 - val_accuracy: 0.3125\n",
      "Epoch 6/10\n",
      "70/70 [==============================] - 0s 6ms/step - loss: 0.4248 - accuracy: 0.3036 - val_loss: 0.4251 - val_accuracy: 0.3906\n",
      "Epoch 7/10\n",
      "70/70 [==============================] - 0s 6ms/step - loss: 0.4226 - accuracy: 0.3214 - val_loss: 0.4266 - val_accuracy: 0.3438\n",
      "Epoch 8/10\n",
      "70/70 [==============================] - 0s 5ms/step - loss: 0.4198 - accuracy: 0.3245 - val_loss: 0.4194 - val_accuracy: 0.3438\n",
      "Epoch 9/10\n",
      "70/70 [==============================] - 0s 6ms/step - loss: 0.4177 - accuracy: 0.3169 - val_loss: 0.4196 - val_accuracy: 0.3125\n",
      "Epoch 10/10\n",
      "70/70 [==============================] - 0s 6ms/step - loss: 0.4149 - accuracy: 0.3320 - val_loss: 0.4140 - val_accuracy: 0.3906\n"
     ]
    }
   ],
   "source": [
    "history_one_layer= model_one_layer.fit(x_train_gray_flat,\n",
    "                                       y_train_hot,\n",
    "                                       batch_size=batch_size,\n",
    "                                       epochs=epochs,\n",
    "                                       validation_data=(x_valid_gray_flat, y_valid_hot),\n",
    "                                       validation_steps=1)       "
   ]
  },
  {
   "cell_type": "code",
   "execution_count": 46,
   "metadata": {},
   "outputs": [
    {
     "name": "stdout",
     "output_type": "stream",
     "text": [
      "12/12 [==============================] - 0s 2ms/step - loss: 0.4141 - accuracy: 0.3441\n"
     ]
    }
   ],
   "source": [
    "model_predict_one_layer = model_one_layer.evaluate(x_test_gray_flat, y_test_hot, batch_size=100)"
   ]
  },
  {
   "cell_type": "code",
   "execution_count": 47,
   "metadata": {},
   "outputs": [
    {
     "name": "stdout",
     "output_type": "stream",
     "text": [
      "WARNING:tensorflow:From <ipython-input-47-079c9dfd8ee0>:1: Sequential.predict_classes (from tensorflow.python.keras.engine.sequential) is deprecated and will be removed after 2021-01-01.\n",
      "Instructions for updating:\n",
      "Please use instead:* `np.argmax(model.predict(x), axis=-1)`,   if your model does multi-class classification   (e.g. if it uses a `softmax` last-layer activation).* `(model.predict(x) > 0.5).astype(\"int32\")`,   if your model does binary classification   (e.g. if it uses a `sigmoid` last-layer activation).\n"
     ]
    }
   ],
   "source": [
    "pred_labels_one_layer=model_one_layer.predict_classes(x_test_gray_flat)"
   ]
  },
  {
   "cell_type": "code",
   "execution_count": 48,
   "metadata": {},
   "outputs": [],
   "source": [
    "y_pred_one_layer=[]\n",
    "for elem in pred_labels_one_layer:\n",
    "    y_pred_one_layer.append(elem)"
   ]
  },
  {
   "cell_type": "code",
   "execution_count": 49,
   "metadata": {},
   "outputs": [
    {
     "data": {
      "text/html": [
       "<div>\n",
       "<style scoped>\n",
       "    .dataframe tbody tr th:only-of-type {\n",
       "        vertical-align: middle;\n",
       "    }\n",
       "\n",
       "    .dataframe tbody tr th {\n",
       "        vertical-align: top;\n",
       "    }\n",
       "\n",
       "    .dataframe thead th {\n",
       "        text-align: right;\n",
       "    }\n",
       "</style>\n",
       "<table border=\"1\" class=\"dataframe\">\n",
       "  <thead>\n",
       "    <tr style=\"text-align: right;\">\n",
       "      <th></th>\n",
       "      <th>Original labels</th>\n",
       "      <th>Predicted labels</th>\n",
       "    </tr>\n",
       "  </thead>\n",
       "  <tbody>\n",
       "    <tr>\n",
       "      <th>0</th>\n",
       "      <td>5</td>\n",
       "      <td>5</td>\n",
       "    </tr>\n",
       "    <tr>\n",
       "      <th>1</th>\n",
       "      <td>5</td>\n",
       "      <td>5</td>\n",
       "    </tr>\n",
       "    <tr>\n",
       "      <th>2</th>\n",
       "      <td>5</td>\n",
       "      <td>3</td>\n",
       "    </tr>\n",
       "    <tr>\n",
       "      <th>3</th>\n",
       "      <td>4</td>\n",
       "      <td>5</td>\n",
       "    </tr>\n",
       "    <tr>\n",
       "      <th>4</th>\n",
       "      <td>0</td>\n",
       "      <td>2</td>\n",
       "    </tr>\n",
       "    <tr>\n",
       "      <th>...</th>\n",
       "      <td>...</td>\n",
       "      <td>...</td>\n",
       "    </tr>\n",
       "    <tr>\n",
       "      <th>1105</th>\n",
       "      <td>0</td>\n",
       "      <td>0</td>\n",
       "    </tr>\n",
       "    <tr>\n",
       "      <th>1106</th>\n",
       "      <td>3</td>\n",
       "      <td>3</td>\n",
       "    </tr>\n",
       "    <tr>\n",
       "      <th>1107</th>\n",
       "      <td>2</td>\n",
       "      <td>5</td>\n",
       "    </tr>\n",
       "    <tr>\n",
       "      <th>1108</th>\n",
       "      <td>2</td>\n",
       "      <td>2</td>\n",
       "    </tr>\n",
       "    <tr>\n",
       "      <th>1109</th>\n",
       "      <td>2</td>\n",
       "      <td>0</td>\n",
       "    </tr>\n",
       "  </tbody>\n",
       "</table>\n",
       "<p>1110 rows × 2 columns</p>\n",
       "</div>"
      ],
      "text/plain": [
       "      Original labels  Predicted labels\n",
       "0                   5                 5\n",
       "1                   5                 5\n",
       "2                   5                 3\n",
       "3                   4                 5\n",
       "4                   0                 2\n",
       "...               ...               ...\n",
       "1105                0                 0\n",
       "1106                3                 3\n",
       "1107                2                 5\n",
       "1108                2                 2\n",
       "1109                2                 0\n",
       "\n",
       "[1110 rows x 2 columns]"
      ]
     },
     "execution_count": 49,
     "metadata": {},
     "output_type": "execute_result"
    }
   ],
   "source": [
    "df_one_layer=pd.DataFrame({'Original labels':y_test_orig,\n",
    "                           'Predicted labels':y_pred_one_layer})\n",
    "df_one_layer"
   ]
  },
  {
   "cell_type": "code",
   "execution_count": 50,
   "metadata": {},
   "outputs": [
    {
     "data": {
      "text/plain": [
       "<matplotlib.legend.Legend at 0x1801cf83c88>"
      ]
     },
     "execution_count": 50,
     "metadata": {},
     "output_type": "execute_result"
    },
    {
     "data": {
      "image/png": "[encoded data removed]",
      "text/plain": [
       "<Figure size 432x432 with 1 Axes>"
      ]
     },
     "metadata": {},
     "output_type": "display_data"
    }
   ],
   "source": [
    "plt.plot(history_one_layer.history['loss'], label='loss')\n",
    "plt.plot(history_one_layer.history['val_loss'], label = 'val_loss')\n",
    "plt.xlabel('Epoch')\n",
    "plt.ylabel('loss')\n",
    "plt.ylim([0.0, 1.0])\n",
    "plt.legend(loc='lower right')"
   ]
  },
  {
   "cell_type": "code",
   "execution_count": 51,
   "metadata": {},
   "outputs": [
    {
     "data": {
      "text/plain": [
       "<matplotlib.legend.Legend at 0x1801ba89b88>"
      ]
     },
     "execution_count": 51,
     "metadata": {},
     "output_type": "execute_result"
    },
    {
     "data": {
      "image/png": "[encoded data removed]",
      "text/plain": [
       "<Figure size 432x432 with 1 Axes>"
      ]
     },
     "metadata": {},
     "output_type": "display_data"
    }
   ],
   "source": [
    "plt.plot(history_one_layer.history['accuracy'], label='accuracy')\n",
    "plt.plot(history_one_layer.history['val_accuracy'], label = 'val_accuracy')\n",
    "plt.xlabel('Epochs')\n",
    "plt.ylabel('Accuracy')\n",
    "plt.ylim([0.0, 1.0])\n",
    "plt.legend(loc='lower right')"
   ]
  },
  {
   "cell_type": "markdown",
   "metadata": {},
   "source": [
    "Let's try adding another layer: Two layer network."
   ]
  },
  {
   "cell_type": "code",
   "execution_count": 52,
   "metadata": {},
   "outputs": [
    {
     "name": "stdout",
     "output_type": "stream",
     "text": [
      "Model: \"sequential_1\"\n",
      "_________________________________________________________________\n",
      "Layer (type)                 Output Shape              Param #   \n",
      "=================================================================\n",
      "flatten_1 (Flatten)          (None, 4096)              0         \n",
      "_________________________________________________________________\n",
      "dense_2 (Dense)              (None, 100)               409700    \n",
      "_________________________________________________________________\n",
      "dense_3 (Dense)              (None, 64)                6464      \n",
      "_________________________________________________________________\n",
      "dense_4 (Dense)              (None, 6)                 390       \n",
      "=================================================================\n",
      "Total params: 416,554\n",
      "Trainable params: 416,554\n",
      "Non-trainable params: 0\n",
      "_________________________________________________________________\n"
     ]
    }
   ],
   "source": [
    "model_two_layer = tf.keras.Sequential([\n",
    "    tf.keras.layers.Flatten(input_shape=(64*64,)),\n",
    "    tf.keras.layers.Dense(100, activation='relu'),\n",
    "    tf.keras.layers.Dense(64, activation='relu'),\n",
    "    tf.keras.layers.Dense(6, activation='softmax')\n",
    "])\n",
    "\n",
    "model_two_layer.compile(loss = 'binary_crossentropy',\n",
    "              optimizer = 'adam',\n",
    "              metrics = ['accuracy'])\n",
    "model_two_layer.summary()"
   ]
  },
  {
   "cell_type": "code",
   "execution_count": 53,
   "metadata": {},
   "outputs": [
    {
     "name": "stdout",
     "output_type": "stream",
     "text": [
      "Epoch 1/10\n",
      "70/70 [==============================] - 1s 8ms/step - loss: 0.4494 - accuracy: 0.2081 - val_loss: 0.4474 - val_accuracy: 0.3125\n",
      "Epoch 2/10\n",
      "70/70 [==============================] - 0s 6ms/step - loss: 0.4409 - accuracy: 0.2586 - val_loss: 0.4339 - val_accuracy: 0.2500\n",
      "Epoch 3/10\n",
      "70/70 [==============================] - 0s 6ms/step - loss: 0.4329 - accuracy: 0.2653 - val_loss: 0.4310 - val_accuracy: 0.3281\n",
      "Epoch 4/10\n",
      "70/70 [==============================] - 0s 6ms/step - loss: 0.4280 - accuracy: 0.2944 - val_loss: 0.4283 - val_accuracy: 0.3281\n",
      "Epoch 5/10\n",
      "70/70 [==============================] - 0s 6ms/step - loss: 0.4236 - accuracy: 0.3151 - val_loss: 0.4243 - val_accuracy: 0.3438\n",
      "Epoch 6/10\n",
      "70/70 [==============================] - 0s 6ms/step - loss: 0.4191 - accuracy: 0.3300 - val_loss: 0.4183 - val_accuracy: 0.3594\n",
      "Epoch 7/10\n",
      "70/70 [==============================] - 0s 6ms/step - loss: 0.4155 - accuracy: 0.3331 - val_loss: 0.4137 - val_accuracy: 0.3281\n",
      "Epoch 8/10\n",
      "70/70 [==============================] - 0s 6ms/step - loss: 0.4114 - accuracy: 0.3432 - val_loss: 0.4110 - val_accuracy: 0.3594\n",
      "Epoch 9/10\n",
      "70/70 [==============================] - 0s 6ms/step - loss: 0.4067 - accuracy: 0.3655 - val_loss: 0.4137 - val_accuracy: 0.3281\n",
      "Epoch 10/10\n",
      "70/70 [==============================] - 0s 6ms/step - loss: 0.4047 - accuracy: 0.3694 - val_loss: 0.4115 - val_accuracy: 0.3281\n"
     ]
    }
   ],
   "source": [
    "history_two_layer= model_two_layer.fit(x_train_gray_flat,\n",
    "                                       y_train_hot,\n",
    "                                       batch_size=batch_size,\n",
    "                                       epochs=epochs,\n",
    "                                       validation_data=(x_valid_gray_flat, y_valid_hot),\n",
    "                                       validation_steps=1)      "
   ]
  },
  {
   "cell_type": "markdown",
   "metadata": {},
   "source": [
    "There is a slight improvement in accuracy."
   ]
  },
  {
   "cell_type": "code",
   "execution_count": 54,
   "metadata": {},
   "outputs": [
    {
     "name": "stdout",
     "output_type": "stream",
     "text": [
      "12/12 [==============================] - 0s 2ms/step - loss: 0.4043 - accuracy: 0.3865\n"
     ]
    }
   ],
   "source": [
    "model_predict_two_layer = model_two_layer.evaluate(x_test_gray_flat,\n",
    "                                                   y_test_hot,\n",
    "                                                   batch_size=100)"
   ]
  },
  {
   "cell_type": "code",
   "execution_count": 55,
   "metadata": {},
   "outputs": [],
   "source": [
    "pred_labels_two_layer=model_two_layer.predict_classes(x_test_gray_flat)"
   ]
  },
  {
   "cell_type": "code",
   "execution_count": 56,
   "metadata": {},
   "outputs": [],
   "source": [
    "y_pred_two_layer=[]\n",
    "for elem in pred_labels_two_layer:\n",
    "    y_pred_two_layer.append(elem)"
   ]
  },
  {
   "cell_type": "code",
   "execution_count": 57,
   "metadata": {},
   "outputs": [
    {
     "data": {
      "text/html": [
       "<div>\n",
       "<style scoped>\n",
       "    .dataframe tbody tr th:only-of-type {\n",
       "        vertical-align: middle;\n",
       "    }\n",
       "\n",
       "    .dataframe tbody tr th {\n",
       "        vertical-align: top;\n",
       "    }\n",
       "\n",
       "    .dataframe thead th {\n",
       "        text-align: right;\n",
       "    }\n",
       "</style>\n",
       "<table border=\"1\" class=\"dataframe\">\n",
       "  <thead>\n",
       "    <tr style=\"text-align: right;\">\n",
       "      <th></th>\n",
       "      <th>Original labels</th>\n",
       "      <th>Predicted labels</th>\n",
       "    </tr>\n",
       "  </thead>\n",
       "  <tbody>\n",
       "    <tr>\n",
       "      <th>0</th>\n",
       "      <td>5</td>\n",
       "      <td>5</td>\n",
       "    </tr>\n",
       "    <tr>\n",
       "      <th>1</th>\n",
       "      <td>5</td>\n",
       "      <td>5</td>\n",
       "    </tr>\n",
       "    <tr>\n",
       "      <th>2</th>\n",
       "      <td>5</td>\n",
       "      <td>2</td>\n",
       "    </tr>\n",
       "    <tr>\n",
       "      <th>3</th>\n",
       "      <td>4</td>\n",
       "      <td>4</td>\n",
       "    </tr>\n",
       "    <tr>\n",
       "      <th>4</th>\n",
       "      <td>0</td>\n",
       "      <td>0</td>\n",
       "    </tr>\n",
       "    <tr>\n",
       "      <th>...</th>\n",
       "      <td>...</td>\n",
       "      <td>...</td>\n",
       "    </tr>\n",
       "    <tr>\n",
       "      <th>1105</th>\n",
       "      <td>0</td>\n",
       "      <td>0</td>\n",
       "    </tr>\n",
       "    <tr>\n",
       "      <th>1106</th>\n",
       "      <td>3</td>\n",
       "      <td>3</td>\n",
       "    </tr>\n",
       "    <tr>\n",
       "      <th>1107</th>\n",
       "      <td>2</td>\n",
       "      <td>4</td>\n",
       "    </tr>\n",
       "    <tr>\n",
       "      <th>1108</th>\n",
       "      <td>2</td>\n",
       "      <td>0</td>\n",
       "    </tr>\n",
       "    <tr>\n",
       "      <th>1109</th>\n",
       "      <td>2</td>\n",
       "      <td>0</td>\n",
       "    </tr>\n",
       "  </tbody>\n",
       "</table>\n",
       "<p>1110 rows × 2 columns</p>\n",
       "</div>"
      ],
      "text/plain": [
       "      Original labels  Predicted labels\n",
       "0                   5                 5\n",
       "1                   5                 5\n",
       "2                   5                 2\n",
       "3                   4                 4\n",
       "4                   0                 0\n",
       "...               ...               ...\n",
       "1105                0                 0\n",
       "1106                3                 3\n",
       "1107                2                 4\n",
       "1108                2                 0\n",
       "1109                2                 0\n",
       "\n",
       "[1110 rows x 2 columns]"
      ]
     },
     "execution_count": 57,
     "metadata": {},
     "output_type": "execute_result"
    }
   ],
   "source": [
    "df_two_layer=pd.DataFrame({'Original labels':y_test_orig,\n",
    "                           'Predicted labels':y_pred_two_layer})\n",
    "df_two_layer"
   ]
  },
  {
   "cell_type": "code",
   "execution_count": 58,
   "metadata": {},
   "outputs": [
    {
     "data": {
      "text/plain": [
       "<matplotlib.legend.Legend at 0x1801d00b748>"
      ]
     },
     "execution_count": 58,
     "metadata": {},
     "output_type": "execute_result"
    },
    {
     "data": {
      "image/png": "[encoded data removed]",
      "text/plain": [
       "<Figure size 432x432 with 1 Axes>"
      ]
     },
     "metadata": {},
     "output_type": "display_data"
    }
   ],
   "source": [
    "plt.plot(history_two_layer.history['loss'], label='loss')\n",
    "plt.plot(history_two_layer.history['val_loss'], label = 'val_loss')\n",
    "plt.xlabel('Epoch')\n",
    "plt.ylabel('loss')\n",
    "plt.ylim([0.0, 1.0])\n",
    "plt.legend(loc='lower right')"
   ]
  },
  {
   "cell_type": "code",
   "execution_count": 59,
   "metadata": {},
   "outputs": [
    {
     "data": {
      "text/plain": [
       "<matplotlib.legend.Legend at 0x1802b37cd08>"
      ]
     },
     "execution_count": 59,
     "metadata": {},
     "output_type": "execute_result"
    },
    {
     "data": {
      "image/png": "[encoded data removed]",
      "text/plain": [
       "<Figure size 432x432 with 1 Axes>"
      ]
     },
     "metadata": {},
     "output_type": "display_data"
    }
   ],
   "source": [
    "plt.plot(history_two_layer.history['accuracy'], label='accuracy')\n",
    "plt.plot(history_two_layer.history['val_accuracy'], label = 'val_accuracy')\n",
    "plt.xlabel('Epochs')\n",
    "plt.ylabel('Accuracy')\n",
    "plt.ylim([0.0, 1.0])\n",
    "plt.legend(loc='lower right')"
   ]
  },
  {
   "cell_type": "markdown",
   "metadata": {},
   "source": [
    "Adding dropout since there seems to be overfitting"
   ]
  },
  {
   "cell_type": "code",
   "execution_count": 60,
   "metadata": {},
   "outputs": [
    {
     "name": "stdout",
     "output_type": "stream",
     "text": [
      "Model: \"sequential_2\"\n",
      "_________________________________________________________________\n",
      "Layer (type)                 Output Shape              Param #   \n",
      "=================================================================\n",
      "flatten_2 (Flatten)          (None, 4096)              0         \n",
      "_________________________________________________________________\n",
      "dense_5 (Dense)              (None, 100)               409700    \n",
      "_________________________________________________________________\n",
      "dropout (Dropout)            (None, 100)               0         \n",
      "_________________________________________________________________\n",
      "dense_6 (Dense)              (None, 64)                6464      \n",
      "_________________________________________________________________\n",
      "dropout_1 (Dropout)          (None, 64)                0         \n",
      "_________________________________________________________________\n",
      "dense_7 (Dense)              (None, 6)                 390       \n",
      "=================================================================\n",
      "Total params: 416,554\n",
      "Trainable params: 416,554\n",
      "Non-trainable params: 0\n",
      "_________________________________________________________________\n"
     ]
    }
   ],
   "source": [
    "ff_two_drop = tf.keras.Sequential([\n",
    "    tf.keras.layers.Flatten(input_shape=(64*64,)),\n",
    "    tf.keras.layers.Dense(100, activation='relu'),\n",
    "    tf.keras.layers.Dropout(0.25),\n",
    "    tf.keras.layers.Dense(64, activation='relu'),\n",
    "    tf.keras.layers.Dropout(0.25),\n",
    "    tf.keras.layers.Dense(6, activation='softmax')\n",
    "])\n",
    "\n",
    "ff_two_drop.compile(loss = 'binary_crossentropy',\n",
    "              optimizer = 'adam',\n",
    "              metrics = ['accuracy'])\n",
    "\n",
    "ff_two_drop.summary()"
   ]
  },
  {
   "cell_type": "code",
   "execution_count": 61,
   "metadata": {},
   "outputs": [
    {
     "name": "stdout",
     "output_type": "stream",
     "text": [
      "Epoch 1/20\n",
      "70/70 [==============================] - 1s 9ms/step - loss: 0.4495 - accuracy: 0.2043 - val_loss: 0.4481 - val_accuracy: 0.2344\n",
      "Epoch 2/20\n",
      "70/70 [==============================] - 0s 6ms/step - loss: 0.4434 - accuracy: 0.2430 - val_loss: 0.4414 - val_accuracy: 0.2656\n",
      "Epoch 3/20\n",
      "70/70 [==============================] - 0s 6ms/step - loss: 0.4369 - accuracy: 0.2541 - val_loss: 0.4354 - val_accuracy: 0.2812\n",
      "Epoch 4/20\n",
      "70/70 [==============================] - 0s 6ms/step - loss: 0.4328 - accuracy: 0.2745 - val_loss: 0.4323 - val_accuracy: 0.2656\n",
      "Epoch 5/20\n",
      "70/70 [==============================] - 0s 5ms/step - loss: 0.4303 - accuracy: 0.2885 - val_loss: 0.4277 - val_accuracy: 0.3750\n",
      "Epoch 6/20\n",
      "70/70 [==============================] - 0s 6ms/step - loss: 0.4276 - accuracy: 0.3081 - val_loss: 0.4252 - val_accuracy: 0.3438\n",
      "Epoch 7/20\n",
      "70/70 [==============================] - 0s 6ms/step - loss: 0.4250 - accuracy: 0.3113 - val_loss: 0.4212 - val_accuracy: 0.4062\n",
      "Epoch 8/20\n",
      "70/70 [==============================] - 0s 6ms/step - loss: 0.4220 - accuracy: 0.3196 - val_loss: 0.4200 - val_accuracy: 0.3281\n",
      "Epoch 9/20\n",
      "70/70 [==============================] - 0s 6ms/step - loss: 0.4182 - accuracy: 0.3194 - val_loss: 0.4113 - val_accuracy: 0.3906\n",
      "Epoch 10/20\n",
      "70/70 [==============================] - 0s 6ms/step - loss: 0.4138 - accuracy: 0.3471 - val_loss: 0.4097 - val_accuracy: 0.3594\n",
      "Epoch 11/20\n",
      "70/70 [==============================] - 0s 6ms/step - loss: 0.4098 - accuracy: 0.3590 - val_loss: 0.4022 - val_accuracy: 0.3906\n",
      "Epoch 12/20\n",
      "70/70 [==============================] - 0s 6ms/step - loss: 0.4054 - accuracy: 0.3671 - val_loss: 0.3993 - val_accuracy: 0.3594\n",
      "Epoch 13/20\n",
      "70/70 [==============================] - 0s 7ms/step - loss: 0.4006 - accuracy: 0.3707 - val_loss: 0.3912 - val_accuracy: 0.4062\n",
      "Epoch 14/20\n",
      "70/70 [==============================] - 0s 6ms/step - loss: 0.3990 - accuracy: 0.3752 - val_loss: 0.3864 - val_accuracy: 0.3906\n",
      "Epoch 15/20\n",
      "70/70 [==============================] - 0s 7ms/step - loss: 0.3933 - accuracy: 0.3930 - val_loss: 0.3866 - val_accuracy: 0.3906\n",
      "Epoch 16/20\n",
      "70/70 [==============================] - 0s 7ms/step - loss: 0.3886 - accuracy: 0.4097 - val_loss: 0.3888 - val_accuracy: 0.4062\n",
      "Epoch 17/20\n",
      "70/70 [==============================] - 0s 6ms/step - loss: 0.3858 - accuracy: 0.4101 - val_loss: 0.3838 - val_accuracy: 0.4062\n",
      "Epoch 18/20\n",
      "70/70 [==============================] - 0s 7ms/step - loss: 0.3811 - accuracy: 0.4243 - val_loss: 0.3699 - val_accuracy: 0.4531\n",
      "Epoch 19/20\n",
      "70/70 [==============================] - 0s 7ms/step - loss: 0.3797 - accuracy: 0.4304 - val_loss: 0.3721 - val_accuracy: 0.4062\n",
      "Epoch 20/20\n",
      "70/70 [==============================] - 0s 7ms/step - loss: 0.3730 - accuracy: 0.4378 - val_loss: 0.3624 - val_accuracy: 0.4844\n"
     ]
    }
   ],
   "source": [
    "history_ff_two_drop= ff_two_drop.fit(x_train_gray_flat,\n",
    "                                       y_train_hot,\n",
    "                                       batch_size=batch_size,\n",
    "                                       epochs=20,\n",
    "                                       validation_data=(x_valid_gray_flat, y_valid_hot),\n",
    "                                       validation_steps=1)      "
   ]
  },
  {
   "cell_type": "code",
   "execution_count": 62,
   "metadata": {},
   "outputs": [
    {
     "name": "stdout",
     "output_type": "stream",
     "text": [
      "12/12 [==============================] - 0s 2ms/step - loss: 0.3697 - accuracy: 0.4514\n"
     ]
    }
   ],
   "source": [
    "model_predict_ff_two_drop = ff_two_drop.evaluate(x_test_gray_flat,\n",
    "                                                   y_test_hot,\n",
    "                                                   batch_size=100)\n"
   ]
  },
  {
   "cell_type": "code",
   "execution_count": 63,
   "metadata": {},
   "outputs": [],
   "source": [
    "pred_labels_ff_two_drop=ff_two_drop.predict_classes(x_test_gray_flat)"
   ]
  },
  {
   "cell_type": "code",
   "execution_count": 64,
   "metadata": {},
   "outputs": [],
   "source": [
    "y_pred_ff_two_drop=[]\n",
    "for elem in pred_labels_ff_two_drop:\n",
    "    y_pred_ff_two_drop.append(elem)"
   ]
  },
  {
   "cell_type": "code",
   "execution_count": 65,
   "metadata": {},
   "outputs": [
    {
     "data": {
      "text/html": [
       "<div>\n",
       "<style scoped>\n",
       "    .dataframe tbody tr th:only-of-type {\n",
       "        vertical-align: middle;\n",
       "    }\n",
       "\n",
       "    .dataframe tbody tr th {\n",
       "        vertical-align: top;\n",
       "    }\n",
       "\n",
       "    .dataframe thead th {\n",
       "        text-align: right;\n",
       "    }\n",
       "</style>\n",
       "<table border=\"1\" class=\"dataframe\">\n",
       "  <thead>\n",
       "    <tr style=\"text-align: right;\">\n",
       "      <th></th>\n",
       "      <th>Original labels</th>\n",
       "      <th>Predicted labels</th>\n",
       "    </tr>\n",
       "  </thead>\n",
       "  <tbody>\n",
       "    <tr>\n",
       "      <th>0</th>\n",
       "      <td>5</td>\n",
       "      <td>5</td>\n",
       "    </tr>\n",
       "    <tr>\n",
       "      <th>1</th>\n",
       "      <td>5</td>\n",
       "      <td>5</td>\n",
       "    </tr>\n",
       "    <tr>\n",
       "      <th>2</th>\n",
       "      <td>5</td>\n",
       "      <td>1</td>\n",
       "    </tr>\n",
       "    <tr>\n",
       "      <th>3</th>\n",
       "      <td>4</td>\n",
       "      <td>1</td>\n",
       "    </tr>\n",
       "    <tr>\n",
       "      <th>4</th>\n",
       "      <td>0</td>\n",
       "      <td>2</td>\n",
       "    </tr>\n",
       "    <tr>\n",
       "      <th>...</th>\n",
       "      <td>...</td>\n",
       "      <td>...</td>\n",
       "    </tr>\n",
       "    <tr>\n",
       "      <th>1105</th>\n",
       "      <td>0</td>\n",
       "      <td>0</td>\n",
       "    </tr>\n",
       "    <tr>\n",
       "      <th>1106</th>\n",
       "      <td>3</td>\n",
       "      <td>3</td>\n",
       "    </tr>\n",
       "    <tr>\n",
       "      <th>1107</th>\n",
       "      <td>2</td>\n",
       "      <td>1</td>\n",
       "    </tr>\n",
       "    <tr>\n",
       "      <th>1108</th>\n",
       "      <td>2</td>\n",
       "      <td>0</td>\n",
       "    </tr>\n",
       "    <tr>\n",
       "      <th>1109</th>\n",
       "      <td>2</td>\n",
       "      <td>0</td>\n",
       "    </tr>\n",
       "  </tbody>\n",
       "</table>\n",
       "<p>1110 rows × 2 columns</p>\n",
       "</div>"
      ],
      "text/plain": [
       "      Original labels  Predicted labels\n",
       "0                   5                 5\n",
       "1                   5                 5\n",
       "2                   5                 1\n",
       "3                   4                 1\n",
       "4                   0                 2\n",
       "...               ...               ...\n",
       "1105                0                 0\n",
       "1106                3                 3\n",
       "1107                2                 1\n",
       "1108                2                 0\n",
       "1109                2                 0\n",
       "\n",
       "[1110 rows x 2 columns]"
      ]
     },
     "execution_count": 65,
     "metadata": {},
     "output_type": "execute_result"
    }
   ],
   "source": [
    "df_ff_two_drop=pd.DataFrame({'Original labels':y_test_orig,\n",
    "                           'Predicted labels':y_pred_ff_two_drop})\n",
    "df_ff_two_drop"
   ]
  },
  {
   "cell_type": "code",
   "execution_count": 66,
   "metadata": {},
   "outputs": [
    {
     "data": {
      "text/plain": [
       "<matplotlib.legend.Legend at 0x1801b81c088>"
      ]
     },
     "execution_count": 66,
     "metadata": {},
     "output_type": "execute_result"
    },
    {
     "data": {
      "image/png": "[encoded data removed]",
      "text/plain": [
       "<Figure size 432x432 with 1 Axes>"
      ]
     },
     "metadata": {},
     "output_type": "display_data"
    }
   ],
   "source": [
    "plt.plot(history_ff_two_drop.history['loss'], label='loss')\n",
    "plt.plot(history_ff_two_drop.history['val_loss'], label = 'val_loss')\n",
    "plt.xlabel('Epoch')\n",
    "plt.ylabel('loss')\n",
    "plt.ylim([0.0, 1.0])\n",
    "plt.legend(loc='lower right')"
   ]
  },
  {
   "cell_type": "code",
   "execution_count": 67,
   "metadata": {},
   "outputs": [
    {
     "data": {
      "text/plain": [
       "<matplotlib.legend.Legend at 0x1801b2cae48>"
      ]
     },
     "execution_count": 67,
     "metadata": {},
     "output_type": "execute_result"
    },
    {
     "data": {
      "image/png": "[encoded data removed]",
      "text/plain": [
       "<Figure size 432x432 with 1 Axes>"
      ]
     },
     "metadata": {},
     "output_type": "display_data"
    }
   ],
   "source": [
    "plt.plot(history_ff_two_drop.history['accuracy'], label='accuracy')\n",
    "plt.plot(history_ff_two_drop.history['val_accuracy'], label = 'val_accuracy')\n",
    "plt.xlabel('Epochs')\n",
    "plt.ylabel('Accuracy')\n",
    "plt.ylim([0.0, 1.0])\n",
    "plt.legend(loc='lower right')"
   ]
  },
  {
   "cell_type": "markdown",
   "metadata": {},
   "source": [
    "Let's try adding a third layer: Three layer network"
   ]
  },
  {
   "cell_type": "code",
   "execution_count": 69,
   "metadata": {},
   "outputs": [
    {
     "name": "stdout",
     "output_type": "stream",
     "text": [
      "Model: \"sequential_4\"\n",
      "_________________________________________________________________\n",
      "Layer (type)                 Output Shape              Param #   \n",
      "=================================================================\n",
      "flatten_4 (Flatten)          (None, 4096)              0         \n",
      "_________________________________________________________________\n",
      "dense_12 (Dense)             (None, 100)               409700    \n",
      "_________________________________________________________________\n",
      "dropout_2 (Dropout)          (None, 100)               0         \n",
      "_________________________________________________________________\n",
      "dense_13 (Dense)             (None, 64)                6464      \n",
      "_________________________________________________________________\n",
      "dropout_3 (Dropout)          (None, 64)                0         \n",
      "_________________________________________________________________\n",
      "dense_14 (Dense)             (None, 16)                1040      \n",
      "_________________________________________________________________\n",
      "dropout_4 (Dropout)          (None, 16)                0         \n",
      "_________________________________________________________________\n",
      "dense_15 (Dense)             (None, 6)                 102       \n",
      "=================================================================\n",
      "Total params: 417,306\n",
      "Trainable params: 417,306\n",
      "Non-trainable params: 0\n",
      "_________________________________________________________________\n"
     ]
    }
   ],
   "source": [
    "model_three_layer = tf.keras.Sequential([\n",
    "    tf.keras.layers.Flatten(input_shape=(4096,)),\n",
    "    tf.keras.layers.Dense(100, activation='relu'),\n",
    "    tf.keras.layers.Dropout(0.25),\n",
    "    tf.keras.layers.Dense(64, activation='relu'),\n",
    "    tf.keras.layers.Dropout(0.25),\n",
    "    tf.keras.layers.Dense(16, activation='relu'),\n",
    "    tf.keras.layers.Dropout(0.25),\n",
    "    tf.keras.layers.Dense(6, activation='softmax')\n",
    "])\n",
    "\n",
    "model_three_layer.compile(loss = 'binary_crossentropy',\n",
    "              optimizer = 'adam',\n",
    "              metrics = ['accuracy'])\n",
    "model_three_layer.summary()"
   ]
  },
  {
   "cell_type": "code",
   "execution_count": 70,
   "metadata": {},
   "outputs": [
    {
     "name": "stdout",
     "output_type": "stream",
     "text": [
      "Epoch 1/10\n",
      "70/70 [==============================] - 1s 9ms/step - loss: 0.4507 - accuracy: 0.1705 - val_loss: 0.4510 - val_accuracy: 0.1094\n",
      "Epoch 2/10\n",
      "70/70 [==============================] - 0s 6ms/step - loss: 0.4501 - accuracy: 0.1764 - val_loss: 0.4503 - val_accuracy: 0.1094\n",
      "Epoch 3/10\n",
      "70/70 [==============================] - 0s 7ms/step - loss: 0.4473 - accuracy: 0.2097 - val_loss: 0.4451 - val_accuracy: 0.2344\n",
      "Epoch 4/10\n",
      "70/70 [==============================] - 1s 7ms/step - loss: 0.4398 - accuracy: 0.2563 - val_loss: 0.4383 - val_accuracy: 0.2188\n",
      "Epoch 5/10\n",
      "70/70 [==============================] - 0s 7ms/step - loss: 0.4354 - accuracy: 0.2664 - val_loss: 0.4345 - val_accuracy: 0.3125\n",
      "Epoch 6/10\n",
      "70/70 [==============================] - 0s 7ms/step - loss: 0.4311 - accuracy: 0.2860 - val_loss: 0.4265 - val_accuracy: 0.3438\n",
      "Epoch 7/10\n",
      "70/70 [==============================] - 0s 7ms/step - loss: 0.4287 - accuracy: 0.2903 - val_loss: 0.4193 - val_accuracy: 0.3438\n",
      "Epoch 8/10\n",
      "70/70 [==============================] - 0s 6ms/step - loss: 0.4232 - accuracy: 0.3081 - val_loss: 0.4126 - val_accuracy: 0.3125\n",
      "Epoch 9/10\n",
      "70/70 [==============================] - 0s 6ms/step - loss: 0.4219 - accuracy: 0.3117 - val_loss: 0.4059 - val_accuracy: 0.3750\n",
      "Epoch 10/10\n",
      "70/70 [==============================] - 0s 6ms/step - loss: 0.4158 - accuracy: 0.3284 - val_loss: 0.3990 - val_accuracy: 0.3438\n"
     ]
    }
   ],
   "source": [
    "history_three_layer= model_three_layer.fit(x_train_gray_flat,\n",
    "                                           y_train_hot,\n",
    "                                           batch_size=batch_size,\n",
    "                                           epochs=epochs,\n",
    "                                           validation_data=(x_valid_gray_flat, y_valid_hot),\n",
    "                                           validation_steps=1)       "
   ]
  },
  {
   "cell_type": "markdown",
   "metadata": {},
   "source": [
    "We get back to the performances of the one layer network."
   ]
  },
  {
   "cell_type": "code",
   "execution_count": 71,
   "metadata": {},
   "outputs": [
    {
     "name": "stdout",
     "output_type": "stream",
     "text": [
      "12/12 [==============================] - 0s 2ms/step - loss: 0.4061 - accuracy: 0.3640\n"
     ]
    }
   ],
   "source": [
    "model_predict_three_layer = model_three_layer.evaluate(x_test_gray_flat,\n",
    "                                                       y_test_hot,\n",
    "                                                       batch_size=100)"
   ]
  },
  {
   "cell_type": "code",
   "execution_count": 72,
   "metadata": {},
   "outputs": [],
   "source": [
    "pred_labels_three_layer = model_three_layer.predict_classes(x_test_gray_flat)"
   ]
  },
  {
   "cell_type": "code",
   "execution_count": 73,
   "metadata": {},
   "outputs": [],
   "source": [
    "y_pred_three_layer=[]\n",
    "for elem in pred_labels_three_layer:\n",
    "    y_pred_three_layer.append(elem)"
   ]
  },
  {
   "cell_type": "code",
   "execution_count": 74,
   "metadata": {},
   "outputs": [
    {
     "data": {
      "text/html": [
       "<div>\n",
       "<style scoped>\n",
       "    .dataframe tbody tr th:only-of-type {\n",
       "        vertical-align: middle;\n",
       "    }\n",
       "\n",
       "    .dataframe tbody tr th {\n",
       "        vertical-align: top;\n",
       "    }\n",
       "\n",
       "    .dataframe thead th {\n",
       "        text-align: right;\n",
       "    }\n",
       "</style>\n",
       "<table border=\"1\" class=\"dataframe\">\n",
       "  <thead>\n",
       "    <tr style=\"text-align: right;\">\n",
       "      <th></th>\n",
       "      <th>Original labels</th>\n",
       "      <th>Predicted labels</th>\n",
       "    </tr>\n",
       "  </thead>\n",
       "  <tbody>\n",
       "    <tr>\n",
       "      <th>0</th>\n",
       "      <td>5</td>\n",
       "      <td>5</td>\n",
       "    </tr>\n",
       "    <tr>\n",
       "      <th>1</th>\n",
       "      <td>5</td>\n",
       "      <td>5</td>\n",
       "    </tr>\n",
       "    <tr>\n",
       "      <th>2</th>\n",
       "      <td>5</td>\n",
       "      <td>3</td>\n",
       "    </tr>\n",
       "    <tr>\n",
       "      <th>3</th>\n",
       "      <td>4</td>\n",
       "      <td>5</td>\n",
       "    </tr>\n",
       "    <tr>\n",
       "      <th>4</th>\n",
       "      <td>0</td>\n",
       "      <td>2</td>\n",
       "    </tr>\n",
       "    <tr>\n",
       "      <th>...</th>\n",
       "      <td>...</td>\n",
       "      <td>...</td>\n",
       "    </tr>\n",
       "    <tr>\n",
       "      <th>1105</th>\n",
       "      <td>0</td>\n",
       "      <td>0</td>\n",
       "    </tr>\n",
       "    <tr>\n",
       "      <th>1106</th>\n",
       "      <td>3</td>\n",
       "      <td>3</td>\n",
       "    </tr>\n",
       "    <tr>\n",
       "      <th>1107</th>\n",
       "      <td>2</td>\n",
       "      <td>5</td>\n",
       "    </tr>\n",
       "    <tr>\n",
       "      <th>1108</th>\n",
       "      <td>2</td>\n",
       "      <td>3</td>\n",
       "    </tr>\n",
       "    <tr>\n",
       "      <th>1109</th>\n",
       "      <td>2</td>\n",
       "      <td>0</td>\n",
       "    </tr>\n",
       "  </tbody>\n",
       "</table>\n",
       "<p>1110 rows × 2 columns</p>\n",
       "</div>"
      ],
      "text/plain": [
       "      Original labels  Predicted labels\n",
       "0                   5                 5\n",
       "1                   5                 5\n",
       "2                   5                 3\n",
       "3                   4                 5\n",
       "4                   0                 2\n",
       "...               ...               ...\n",
       "1105                0                 0\n",
       "1106                3                 3\n",
       "1107                2                 5\n",
       "1108                2                 3\n",
       "1109                2                 0\n",
       "\n",
       "[1110 rows x 2 columns]"
      ]
     },
     "execution_count": 74,
     "metadata": {},
     "output_type": "execute_result"
    }
   ],
   "source": [
    "df_three_layer=pd.DataFrame({'Original labels':y_test_orig,\n",
    "                             'Predicted labels':y_pred_three_layer})\n",
    "df_three_layer"
   ]
  },
  {
   "cell_type": "code",
   "execution_count": 75,
   "metadata": {},
   "outputs": [
    {
     "data": {
      "text/plain": [
       "<matplotlib.legend.Legend at 0x1801ab00788>"
      ]
     },
     "execution_count": 75,
     "metadata": {},
     "output_type": "execute_result"
    },
    {
     "data": {
      "image/png": "[encoded data removed]",
      "text/plain": [
       "<Figure size 432x432 with 1 Axes>"
      ]
     },
     "metadata": {},
     "output_type": "display_data"
    }
   ],
   "source": [
    "plt.plot(history_three_layer.history['loss'], label='loss')\n",
    "plt.plot(history_three_layer.history['val_loss'], label = 'val_loss')\n",
    "plt.xlabel('Epoch')\n",
    "plt.ylabel('loss')\n",
    "plt.ylim([0.0, 1.0])\n",
    "plt.legend(loc='lower right')"
   ]
  },
  {
   "cell_type": "code",
   "execution_count": 76,
   "metadata": {},
   "outputs": [
    {
     "data": {
      "text/plain": [
       "<matplotlib.legend.Legend at 0x1801b2842c8>"
      ]
     },
     "execution_count": 76,
     "metadata": {},
     "output_type": "execute_result"
    },
    {
     "data": {
      "image/png": "[encoded data removed]",
      "text/plain": [
       "<Figure size 432x432 with 1 Axes>"
      ]
     },
     "metadata": {},
     "output_type": "display_data"
    }
   ],
   "source": [
    "plt.plot(history_three_layer.history['accuracy'], label='accuracy')\n",
    "plt.plot(history_three_layer.history['val_accuracy'], label = 'val_accuracy')\n",
    "plt.xlabel('Epochs')\n",
    "plt.ylabel('Accuracy')\n",
    "plt.ylim([0.0, 1.0])\n",
    "plt.legend(loc='lower right')"
   ]
  },
  {
   "cell_type": "markdown",
   "metadata": {},
   "source": [
    "Learning rate"
   ]
  },
  {
   "cell_type": "code",
   "execution_count": 77,
   "metadata": {},
   "outputs": [],
   "source": [
    "import math\n",
    "def lr_decay(epoch):\n",
    "    return 0.01 * math.pow(0.6, epoch)\n",
    "\n",
    "# lr schedule callback\n",
    "lr_decay_callback = tf.keras.callbacks.LearningRateScheduler(lr_decay, verbose=True)"
   ]
  },
  {
   "cell_type": "markdown",
   "metadata": {},
   "source": [
    "Two layer model"
   ]
  },
  {
   "cell_type": "code",
   "execution_count": 78,
   "metadata": {},
   "outputs": [
    {
     "name": "stdout",
     "output_type": "stream",
     "text": [
      "Model: \"sequential_5\"\n",
      "_________________________________________________________________\n",
      "Layer (type)                 Output Shape              Param #   \n",
      "=================================================================\n",
      "flatten_5 (Flatten)          (None, 4096)              0         \n",
      "_________________________________________________________________\n",
      "dense_16 (Dense)             (None, 100)               409700    \n",
      "_________________________________________________________________\n",
      "dropout_5 (Dropout)          (None, 100)               0         \n",
      "_________________________________________________________________\n",
      "dense_17 (Dense)             (None, 64)                6464      \n",
      "_________________________________________________________________\n",
      "dropout_6 (Dropout)          (None, 64)                0         \n",
      "_________________________________________________________________\n",
      "dense_18 (Dense)             (None, 6)                 390       \n",
      "=================================================================\n",
      "Total params: 416,554\n",
      "Trainable params: 416,554\n",
      "Non-trainable params: 0\n",
      "_________________________________________________________________\n"
     ]
    }
   ],
   "source": [
    "model_two_layer_lr = tf.keras.Sequential([\n",
    "    tf.keras.layers.Flatten(input_shape=(64*64,)),\n",
    "    tf.keras.layers.Dense(100, activation='relu'),\n",
    "    tf.keras.layers.Dropout(0.25),\n",
    "    tf.keras.layers.Dense(64, activation='relu'),\n",
    "    tf.keras.layers.Dropout(0.25),\n",
    "    tf.keras.layers.Dense(6, activation='softmax')\n",
    "])\n",
    "\n",
    "model_two_layer_lr.compile(loss = 'binary_crossentropy',\n",
    "              optimizer = tf.keras.optimizers.Adam(lr=0.01),\n",
    "              metrics = ['accuracy'])\n",
    "model_two_layer_lr.summary()"
   ]
  },
  {
   "cell_type": "code",
   "execution_count": 79,
   "metadata": {},
   "outputs": [
    {
     "name": "stdout",
     "output_type": "stream",
     "text": [
      "\n",
      "Epoch 00001: LearningRateScheduler reducing learning rate to 0.01.\n",
      "Epoch 1/20\n",
      "70/70 [==============================] - 1s 9ms/step - loss: 0.4478 - accuracy: 0.2128 - val_loss: 0.4391 - val_accuracy: 0.2812\n",
      "\n",
      "Epoch 00002: LearningRateScheduler reducing learning rate to 0.006.\n",
      "Epoch 2/20\n",
      "70/70 [==============================] - 0s 6ms/step - loss: 0.4355 - accuracy: 0.2574 - val_loss: 0.4360 - val_accuracy: 0.2812\n",
      "\n",
      "Epoch 00003: LearningRateScheduler reducing learning rate to 0.0036.\n",
      "Epoch 3/20\n",
      "70/70 [==============================] - 0s 7ms/step - loss: 0.4309 - accuracy: 0.2745 - val_loss: 0.4286 - val_accuracy: 0.3594\n",
      "\n",
      "Epoch 00004: LearningRateScheduler reducing learning rate to 0.0021599999999999996.\n",
      "Epoch 4/20\n",
      "70/70 [==============================] - 0s 7ms/step - loss: 0.4283 - accuracy: 0.3014 - val_loss: 0.4282 - val_accuracy: 0.3281\n",
      "\n",
      "Epoch 00005: LearningRateScheduler reducing learning rate to 0.001296.\n",
      "Epoch 5/20\n",
      "70/70 [==============================] - 0s 7ms/step - loss: 0.4245 - accuracy: 0.3083 - val_loss: 0.4203 - val_accuracy: 0.4219\n",
      "\n",
      "Epoch 00006: LearningRateScheduler reducing learning rate to 0.0007775999999999998.\n",
      "Epoch 6/20\n",
      "70/70 [==============================] - 1s 7ms/step - loss: 0.4232 - accuracy: 0.3070 - val_loss: 0.4185 - val_accuracy: 0.4375\n",
      "\n",
      "Epoch 00007: LearningRateScheduler reducing learning rate to 0.0004665599999999999.\n",
      "Epoch 7/20\n",
      "70/70 [==============================] - 0s 7ms/step - loss: 0.4210 - accuracy: 0.3128 - val_loss: 0.4169 - val_accuracy: 0.4375\n",
      "\n",
      "Epoch 00008: LearningRateScheduler reducing learning rate to 0.00027993599999999994.\n",
      "Epoch 8/20\n",
      "70/70 [==============================] - 1s 8ms/step - loss: 0.4204 - accuracy: 0.3160 - val_loss: 0.4168 - val_accuracy: 0.3906\n",
      "\n",
      "Epoch 00009: LearningRateScheduler reducing learning rate to 0.00016796159999999993.\n",
      "Epoch 9/20\n",
      "70/70 [==============================] - 0s 7ms/step - loss: 0.4200 - accuracy: 0.3086 - val_loss: 0.4158 - val_accuracy: 0.3906\n",
      "\n",
      "Epoch 00010: LearningRateScheduler reducing learning rate to 0.00010077695999999997.\n",
      "Epoch 10/20\n",
      "70/70 [==============================] - 1s 7ms/step - loss: 0.4190 - accuracy: 0.3167 - val_loss: 0.4156 - val_accuracy: 0.3906\n",
      "\n",
      "Epoch 00011: LearningRateScheduler reducing learning rate to 6.0466175999999974e-05.\n",
      "Epoch 11/20\n",
      "70/70 [==============================] - 0s 7ms/step - loss: 0.4193 - accuracy: 0.3151 - val_loss: 0.4155 - val_accuracy: 0.3906\n",
      "\n",
      "Epoch 00012: LearningRateScheduler reducing learning rate to 3.627970559999999e-05.\n",
      "Epoch 12/20\n",
      "70/70 [==============================] - 0s 7ms/step - loss: 0.4192 - accuracy: 0.3128 - val_loss: 0.4154 - val_accuracy: 0.3906\n",
      "\n",
      "Epoch 00013: LearningRateScheduler reducing learning rate to 2.1767823359999992e-05.\n",
      "Epoch 13/20\n",
      "70/70 [==============================] - 0s 7ms/step - loss: 0.4202 - accuracy: 0.3079 - val_loss: 0.4153 - val_accuracy: 0.3906\n",
      "\n",
      "Epoch 00014: LearningRateScheduler reducing learning rate to 1.3060694015999994e-05.\n",
      "Epoch 14/20\n",
      "70/70 [==============================] - 0s 7ms/step - loss: 0.4183 - accuracy: 0.3282 - val_loss: 0.4152 - val_accuracy: 0.3906\n",
      "\n",
      "Epoch 00015: LearningRateScheduler reducing learning rate to 7.836416409599996e-06.\n",
      "Epoch 15/20\n",
      "70/70 [==============================] - 0s 7ms/step - loss: 0.4195 - accuracy: 0.3169 - val_loss: 0.4152 - val_accuracy: 0.3906\n",
      "\n",
      "Epoch 00016: LearningRateScheduler reducing learning rate to 4.701849845759998e-06.\n",
      "Epoch 16/20\n",
      "70/70 [==============================] - 0s 6ms/step - loss: 0.4194 - accuracy: 0.3169 - val_loss: 0.4151 - val_accuracy: 0.4062\n",
      "\n",
      "Epoch 00017: LearningRateScheduler reducing learning rate to 2.8211099074559985e-06.\n",
      "Epoch 17/20\n",
      "70/70 [==============================] - 0s 6ms/step - loss: 0.4188 - accuracy: 0.3203 - val_loss: 0.4151 - val_accuracy: 0.4062\n",
      "\n",
      "Epoch 00018: LearningRateScheduler reducing learning rate to 1.6926659444735988e-06.\n",
      "Epoch 18/20\n",
      "70/70 [==============================] - 0s 6ms/step - loss: 0.4188 - accuracy: 0.3178 - val_loss: 0.4151 - val_accuracy: 0.4062\n",
      "\n",
      "Epoch 00019: LearningRateScheduler reducing learning rate to 1.0155995666841593e-06.\n",
      "Epoch 19/20\n",
      "70/70 [==============================] - 0s 7ms/step - loss: 0.4191 - accuracy: 0.3187 - val_loss: 0.4151 - val_accuracy: 0.4062\n",
      "\n",
      "Epoch 00020: LearningRateScheduler reducing learning rate to 6.093597400104956e-07.\n",
      "Epoch 20/20\n",
      "70/70 [==============================] - 0s 6ms/step - loss: 0.4190 - accuracy: 0.3194 - val_loss: 0.4151 - val_accuracy: 0.4062\n"
     ]
    }
   ],
   "source": [
    "history_two_layer_lr= model_two_layer_lr.fit(x_train_gray_flat,\n",
    "                                       y_train_hot,\n",
    "                                       batch_size=batch_size,\n",
    "                                       epochs=20,\n",
    "                                       validation_data=(x_valid_gray_flat, y_valid_hot),\n",
    "                                       validation_steps=1,\n",
    "                                       callbacks=[lr_decay_callback])      "
   ]
  },
  {
   "cell_type": "code",
   "execution_count": 80,
   "metadata": {},
   "outputs": [
    {
     "name": "stdout",
     "output_type": "stream",
     "text": [
      "12/12 [==============================] - 0s 2ms/step - loss: 0.4150 - accuracy: 0.3423\n"
     ]
    }
   ],
   "source": [
    "model_predict_two_layer_lr = model_two_layer_lr.evaluate(x_test_gray_flat,\n",
    "                                                       y_test_hot,\n",
    "                                                       batch_size=100)"
   ]
  },
  {
   "cell_type": "code",
   "execution_count": 81,
   "metadata": {},
   "outputs": [],
   "source": [
    "pred_labels_two_layer_lr = model_two_layer_lr.predict_classes(x_test_gray_flat)"
   ]
  },
  {
   "cell_type": "code",
   "execution_count": 82,
   "metadata": {},
   "outputs": [],
   "source": [
    "y_pred_two_layer_lr=[]\n",
    "for elem in pred_labels_two_layer_lr:\n",
    "    y_pred_two_layer_lr.append(elem)"
   ]
  },
  {
   "cell_type": "code",
   "execution_count": 83,
   "metadata": {},
   "outputs": [
    {
     "data": {
      "text/html": [
       "<div>\n",
       "<style scoped>\n",
       "    .dataframe tbody tr th:only-of-type {\n",
       "        vertical-align: middle;\n",
       "    }\n",
       "\n",
       "    .dataframe tbody tr th {\n",
       "        vertical-align: top;\n",
       "    }\n",
       "\n",
       "    .dataframe thead th {\n",
       "        text-align: right;\n",
       "    }\n",
       "</style>\n",
       "<table border=\"1\" class=\"dataframe\">\n",
       "  <thead>\n",
       "    <tr style=\"text-align: right;\">\n",
       "      <th></th>\n",
       "      <th>Original labels</th>\n",
       "      <th>Predicted labels</th>\n",
       "    </tr>\n",
       "  </thead>\n",
       "  <tbody>\n",
       "    <tr>\n",
       "      <th>0</th>\n",
       "      <td>5</td>\n",
       "      <td>5</td>\n",
       "    </tr>\n",
       "    <tr>\n",
       "      <th>1</th>\n",
       "      <td>5</td>\n",
       "      <td>5</td>\n",
       "    </tr>\n",
       "    <tr>\n",
       "      <th>2</th>\n",
       "      <td>5</td>\n",
       "      <td>3</td>\n",
       "    </tr>\n",
       "    <tr>\n",
       "      <th>3</th>\n",
       "      <td>4</td>\n",
       "      <td>5</td>\n",
       "    </tr>\n",
       "    <tr>\n",
       "      <th>4</th>\n",
       "      <td>0</td>\n",
       "      <td>2</td>\n",
       "    </tr>\n",
       "    <tr>\n",
       "      <th>...</th>\n",
       "      <td>...</td>\n",
       "      <td>...</td>\n",
       "    </tr>\n",
       "    <tr>\n",
       "      <th>1105</th>\n",
       "      <td>0</td>\n",
       "      <td>0</td>\n",
       "    </tr>\n",
       "    <tr>\n",
       "      <th>1106</th>\n",
       "      <td>3</td>\n",
       "      <td>3</td>\n",
       "    </tr>\n",
       "    <tr>\n",
       "      <th>1107</th>\n",
       "      <td>2</td>\n",
       "      <td>5</td>\n",
       "    </tr>\n",
       "    <tr>\n",
       "      <th>1108</th>\n",
       "      <td>2</td>\n",
       "      <td>0</td>\n",
       "    </tr>\n",
       "    <tr>\n",
       "      <th>1109</th>\n",
       "      <td>2</td>\n",
       "      <td>0</td>\n",
       "    </tr>\n",
       "  </tbody>\n",
       "</table>\n",
       "<p>1110 rows × 2 columns</p>\n",
       "</div>"
      ],
      "text/plain": [
       "      Original labels  Predicted labels\n",
       "0                   5                 5\n",
       "1                   5                 5\n",
       "2                   5                 3\n",
       "3                   4                 5\n",
       "4                   0                 2\n",
       "...               ...               ...\n",
       "1105                0                 0\n",
       "1106                3                 3\n",
       "1107                2                 5\n",
       "1108                2                 0\n",
       "1109                2                 0\n",
       "\n",
       "[1110 rows x 2 columns]"
      ]
     },
     "execution_count": 83,
     "metadata": {},
     "output_type": "execute_result"
    }
   ],
   "source": [
    "df_two_layer_lr=pd.DataFrame({'Original labels':y_test_orig,\n",
    "                             'Predicted labels':y_pred_two_layer_lr})\n",
    "df_two_layer_lr"
   ]
  },
  {
   "cell_type": "code",
   "execution_count": 84,
   "metadata": {},
   "outputs": [
    {
     "data": {
      "text/plain": [
       "<matplotlib.legend.Legend at 0x1801a797ac8>"
      ]
     },
     "execution_count": 84,
     "metadata": {},
     "output_type": "execute_result"
    },
    {
     "data": {
      "image/png": "[encoded data removed]",
      "text/plain": [
       "<Figure size 432x432 with 1 Axes>"
      ]
     },
     "metadata": {},
     "output_type": "display_data"
    }
   ],
   "source": [
    "plt.plot(history_two_layer_lr.history['loss'], label='loss')\n",
    "plt.plot(history_two_layer_lr.history['val_loss'], label = 'val_loss')\n",
    "plt.xlabel('Epoch')\n",
    "plt.ylabel('loss')\n",
    "plt.ylim([0.0, 1.0])\n",
    "plt.legend(loc='lower right')"
   ]
  },
  {
   "cell_type": "code",
   "execution_count": 85,
   "metadata": {},
   "outputs": [
    {
     "data": {
      "text/plain": [
       "<matplotlib.legend.Legend at 0x1802bba9548>"
      ]
     },
     "execution_count": 85,
     "metadata": {},
     "output_type": "execute_result"
    },
    {
     "data": {
      "image/png": "[encoded data removed]",
      "text/plain": [
       "<Figure size 432x432 with 1 Axes>"
      ]
     },
     "metadata": {},
     "output_type": "display_data"
    }
   ],
   "source": [
    "plt.plot(history_two_layer_lr.history['accuracy'], label='accuracy')\n",
    "plt.plot(history_two_layer_lr.history['val_accuracy'], label = 'val_accuracy')\n",
    "plt.xlabel('Epochs')\n",
    "plt.ylabel('Accuracy')\n",
    "plt.ylim([0.0, 1.0])\n",
    "plt.legend(loc='lower right')"
   ]
  },
  {
   "cell_type": "markdown",
   "metadata": {},
   "source": [
    "Three layer network"
   ]
  },
  {
   "cell_type": "code",
   "execution_count": 86,
   "metadata": {},
   "outputs": [
    {
     "name": "stdout",
     "output_type": "stream",
     "text": [
      "Model: \"sequential_6\"\n",
      "_________________________________________________________________\n",
      "Layer (type)                 Output Shape              Param #   \n",
      "=================================================================\n",
      "flatten_6 (Flatten)          (None, 4096)              0         \n",
      "_________________________________________________________________\n",
      "dense_19 (Dense)             (None, 100)               409700    \n",
      "_________________________________________________________________\n",
      "dropout_7 (Dropout)          (None, 100)               0         \n",
      "_________________________________________________________________\n",
      "dense_20 (Dense)             (None, 64)                6464      \n",
      "_________________________________________________________________\n",
      "dropout_8 (Dropout)          (None, 64)                0         \n",
      "_________________________________________________________________\n",
      "dense_21 (Dense)             (None, 16)                1040      \n",
      "_________________________________________________________________\n",
      "dropout_9 (Dropout)          (None, 16)                0         \n",
      "_________________________________________________________________\n",
      "dense_22 (Dense)             (None, 6)                 102       \n",
      "=================================================================\n",
      "Total params: 417,306\n",
      "Trainable params: 417,306\n",
      "Non-trainable params: 0\n",
      "_________________________________________________________________\n"
     ]
    }
   ],
   "source": [
    "model_three_layer_lr = tf.keras.Sequential([\n",
    "    tf.keras.layers.Flatten(input_shape=(4096,)),\n",
    "    tf.keras.layers.Dense(100, activation='relu'),\n",
    "    tf.keras.layers.Dropout(0.25),\n",
    "    tf.keras.layers.Dense(64, activation='relu'),\n",
    "    tf.keras.layers.Dropout(0.25),\n",
    "    tf.keras.layers.Dense(16, activation='relu'),\n",
    "    tf.keras.layers.Dropout(0.25),\n",
    "    tf.keras.layers.Dense(6, activation='softmax')\n",
    "])\n",
    "\n",
    "model_three_layer_lr.compile(loss = 'binary_crossentropy',\n",
    "              optimizer = tf.keras.optimizers.Adam(lr=0.01),\n",
    "              metrics = ['accuracy'])\n",
    "\n",
    "model_three_layer_lr.summary()"
   ]
  },
  {
   "cell_type": "code",
   "execution_count": 87,
   "metadata": {},
   "outputs": [
    {
     "name": "stdout",
     "output_type": "stream",
     "text": [
      "\n",
      "Epoch 00001: LearningRateScheduler reducing learning rate to 0.01.\n",
      "Epoch 1/10\n",
      "70/70 [==============================] - 1s 9ms/step - loss: 0.4476 - accuracy: 0.1937 - val_loss: 0.4340 - val_accuracy: 0.2344\n",
      "\n",
      "Epoch 00002: LearningRateScheduler reducing learning rate to 0.006.\n",
      "Epoch 2/10\n",
      "70/70 [==============================] - 0s 6ms/step - loss: 0.4378 - accuracy: 0.2428 - val_loss: 0.4308 - val_accuracy: 0.3281\n",
      "\n",
      "Epoch 00003: LearningRateScheduler reducing learning rate to 0.0036.\n",
      "Epoch 3/10\n",
      "70/70 [==============================] - 0s 7ms/step - loss: 0.4344 - accuracy: 0.2491 - val_loss: 0.4285 - val_accuracy: 0.3125\n",
      "\n",
      "Epoch 00004: LearningRateScheduler reducing learning rate to 0.0021599999999999996.\n",
      "Epoch 4/10\n",
      "70/70 [==============================] - 1s 7ms/step - loss: 0.4292 - accuracy: 0.2694 - val_loss: 0.4264 - val_accuracy: 0.3125\n",
      "\n",
      "Epoch 00005: LearningRateScheduler reducing learning rate to 0.001296.\n",
      "Epoch 5/10\n",
      "70/70 [==============================] - 0s 7ms/step - loss: 0.4281 - accuracy: 0.2732 - val_loss: 0.4246 - val_accuracy: 0.3438\n",
      "\n",
      "Epoch 00006: LearningRateScheduler reducing learning rate to 0.0007775999999999998.\n",
      "Epoch 6/10\n",
      "70/70 [==============================] - 0s 7ms/step - loss: 0.4259 - accuracy: 0.2698 - val_loss: 0.4228 - val_accuracy: 0.3281\n",
      "\n",
      "Epoch 00007: LearningRateScheduler reducing learning rate to 0.0004665599999999999.\n",
      "Epoch 7/10\n",
      "70/70 [==============================] - 0s 7ms/step - loss: 0.4249 - accuracy: 0.2736 - val_loss: 0.4212 - val_accuracy: 0.3281\n",
      "\n",
      "Epoch 00008: LearningRateScheduler reducing learning rate to 0.00027993599999999994.\n",
      "Epoch 8/10\n",
      "70/70 [==============================] - 0s 6ms/step - loss: 0.4243 - accuracy: 0.2734 - val_loss: 0.4208 - val_accuracy: 0.3125\n",
      "\n",
      "Epoch 00009: LearningRateScheduler reducing learning rate to 0.00016796159999999993.\n",
      "Epoch 9/10\n",
      "70/70 [==============================] - 0s 7ms/step - loss: 0.4238 - accuracy: 0.2718 - val_loss: 0.4202 - val_accuracy: 0.2969\n",
      "\n",
      "Epoch 00010: LearningRateScheduler reducing learning rate to 0.00010077695999999997.\n",
      "Epoch 10/10\n",
      "70/70 [==============================] - 0s 7ms/step - loss: 0.4237 - accuracy: 0.2730 - val_loss: 0.4198 - val_accuracy: 0.2969\n"
     ]
    }
   ],
   "source": [
    "history_three_layer_lr= model_three_layer_lr.fit(x_train_gray_flat,\n",
    "                                       y_train_hot,\n",
    "                                       batch_size=batch_size,\n",
    "                                       epochs=epochs,\n",
    "                                       validation_data=(x_valid_gray_flat, y_valid_hot),\n",
    "                                       validation_steps=1,\n",
    "                                       callbacks=[lr_decay_callback])      "
   ]
  },
  {
   "cell_type": "code",
   "execution_count": 88,
   "metadata": {},
   "outputs": [
    {
     "name": "stdout",
     "output_type": "stream",
     "text": [
      "12/12 [==============================] - 0s 2ms/step - loss: 0.4181 - accuracy: 0.3063\n"
     ]
    }
   ],
   "source": [
    "model_predict_three_layer_lr = model_three_layer_lr.evaluate(x_test_gray_flat,\n",
    "                                                       y_test_hot,\n",
    "                                                       batch_size=100)\n",
    "\n",
    "pred_labels_three_layer_lr = model_three_layer_lr.predict_classes(x_test_gray_flat)"
   ]
  },
  {
   "cell_type": "code",
   "execution_count": 89,
   "metadata": {},
   "outputs": [],
   "source": [
    "y_pred_three_layer_lr=[]\n",
    "for elem in pred_labels_three_layer_lr:\n",
    "    y_pred_three_layer_lr.append(elem)"
   ]
  },
  {
   "cell_type": "code",
   "execution_count": 90,
   "metadata": {},
   "outputs": [
    {
     "data": {
      "text/html": [
       "<div>\n",
       "<style scoped>\n",
       "    .dataframe tbody tr th:only-of-type {\n",
       "        vertical-align: middle;\n",
       "    }\n",
       "\n",
       "    .dataframe tbody tr th {\n",
       "        vertical-align: top;\n",
       "    }\n",
       "\n",
       "    .dataframe thead th {\n",
       "        text-align: right;\n",
       "    }\n",
       "</style>\n",
       "<table border=\"1\" class=\"dataframe\">\n",
       "  <thead>\n",
       "    <tr style=\"text-align: right;\">\n",
       "      <th></th>\n",
       "      <th>Original labels</th>\n",
       "      <th>Predicted labels</th>\n",
       "    </tr>\n",
       "  </thead>\n",
       "  <tbody>\n",
       "    <tr>\n",
       "      <th>0</th>\n",
       "      <td>5</td>\n",
       "      <td>5</td>\n",
       "    </tr>\n",
       "    <tr>\n",
       "      <th>1</th>\n",
       "      <td>5</td>\n",
       "      <td>5</td>\n",
       "    </tr>\n",
       "    <tr>\n",
       "      <th>2</th>\n",
       "      <td>5</td>\n",
       "      <td>3</td>\n",
       "    </tr>\n",
       "    <tr>\n",
       "      <th>3</th>\n",
       "      <td>4</td>\n",
       "      <td>5</td>\n",
       "    </tr>\n",
       "    <tr>\n",
       "      <th>4</th>\n",
       "      <td>0</td>\n",
       "      <td>3</td>\n",
       "    </tr>\n",
       "    <tr>\n",
       "      <th>...</th>\n",
       "      <td>...</td>\n",
       "      <td>...</td>\n",
       "    </tr>\n",
       "    <tr>\n",
       "      <th>1105</th>\n",
       "      <td>0</td>\n",
       "      <td>3</td>\n",
       "    </tr>\n",
       "    <tr>\n",
       "      <th>1106</th>\n",
       "      <td>3</td>\n",
       "      <td>3</td>\n",
       "    </tr>\n",
       "    <tr>\n",
       "      <th>1107</th>\n",
       "      <td>2</td>\n",
       "      <td>4</td>\n",
       "    </tr>\n",
       "    <tr>\n",
       "      <th>1108</th>\n",
       "      <td>2</td>\n",
       "      <td>3</td>\n",
       "    </tr>\n",
       "    <tr>\n",
       "      <th>1109</th>\n",
       "      <td>2</td>\n",
       "      <td>3</td>\n",
       "    </tr>\n",
       "  </tbody>\n",
       "</table>\n",
       "<p>1110 rows × 2 columns</p>\n",
       "</div>"
      ],
      "text/plain": [
       "      Original labels  Predicted labels\n",
       "0                   5                 5\n",
       "1                   5                 5\n",
       "2                   5                 3\n",
       "3                   4                 5\n",
       "4                   0                 3\n",
       "...               ...               ...\n",
       "1105                0                 3\n",
       "1106                3                 3\n",
       "1107                2                 4\n",
       "1108                2                 3\n",
       "1109                2                 3\n",
       "\n",
       "[1110 rows x 2 columns]"
      ]
     },
     "execution_count": 90,
     "metadata": {},
     "output_type": "execute_result"
    }
   ],
   "source": [
    "df_three_layer_lr=pd.DataFrame({'Original labels':y_test_orig,\n",
    "                             'Predicted labels':y_pred_three_layer_lr})\n",
    "df_three_layer_lr"
   ]
  },
  {
   "cell_type": "code",
   "execution_count": 91,
   "metadata": {},
   "outputs": [
    {
     "data": {
      "text/plain": [
       "<matplotlib.legend.Legend at 0x1802fe78dc8>"
      ]
     },
     "execution_count": 91,
     "metadata": {},
     "output_type": "execute_result"
    },
    {
     "data": {
      "image/png": "[encoded data removed]",
      "text/plain": [
       "<Figure size 432x432 with 1 Axes>"
      ]
     },
     "metadata": {},
     "output_type": "display_data"
    }
   ],
   "source": [
    "plt.plot(history_three_layer_lr.history['loss'], label='loss')\n",
    "plt.plot(history_three_layer_lr.history['val_loss'], label = 'val_loss')\n",
    "plt.xlabel('Epoch')\n",
    "plt.ylabel('loss')\n",
    "plt.ylim([0.0, 1.0])\n",
    "plt.legend(loc='lower right')"
   ]
  },
  {
   "cell_type": "code",
   "execution_count": 92,
   "metadata": {},
   "outputs": [
    {
     "data": {
      "text/plain": [
       "<matplotlib.legend.Legend at 0x18031ab2888>"
      ]
     },
     "execution_count": 92,
     "metadata": {},
     "output_type": "execute_result"
    },
    {
     "data": {
      "image/png": "[encoded data removed]",
      "text/plain": [
       "<Figure size 432x432 with 1 Axes>"
      ]
     },
     "metadata": {},
     "output_type": "display_data"
    }
   ],
   "source": [
    "plt.plot(history_three_layer_lr.history['accuracy'], label='accuracy')\n",
    "plt.plot(history_three_layer_lr.history['val_accuracy'], label = 'val_accuracy')\n",
    "plt.xlabel('Epochs')\n",
    "plt.ylabel('Accuracy')\n",
    "plt.ylim([0.0, 1.0])\n",
    "plt.legend(loc='lower right')"
   ]
  },
  {
   "cell_type": "markdown",
   "metadata": {},
   "source": [
    "# CNN with RGB images\n",
    "\n",
    "In order to avoid the loss of shape information especially important with image classification we try with convolutional neural network."
   ]
  },
  {
   "cell_type": "markdown",
   "metadata": {},
   "source": [
    "One VGG block"
   ]
  },
  {
   "cell_type": "code",
   "execution_count": 93,
   "metadata": {},
   "outputs": [
    {
     "name": "stdout",
     "output_type": "stream",
     "text": [
      "Model: \"sequential_7\"\n",
      "_________________________________________________________________\n",
      "Layer (type)                 Output Shape              Param #   \n",
      "=================================================================\n",
      "conv2d (Conv2D)              (None, 64, 64, 64)        1792      \n",
      "_________________________________________________________________\n",
      "conv2d_1 (Conv2D)            (None, 64, 64, 32)        18464     \n",
      "_________________________________________________________________\n",
      "max_pooling2d (MaxPooling2D) (None, 32, 32, 32)        0         \n",
      "_________________________________________________________________\n",
      "flatten_7 (Flatten)          (None, 32768)             0         \n",
      "_________________________________________________________________\n",
      "dense_23 (Dense)             (None, 64)                2097216   \n",
      "_________________________________________________________________\n",
      "dense_24 (Dense)             (None, 6)                 390       \n",
      "=================================================================\n",
      "Total params: 2,117,862\n",
      "Trainable params: 2,117,862\n",
      "Non-trainable params: 0\n",
      "_________________________________________________________________\n"
     ]
    }
   ],
   "source": [
    "model_one_vgg = tf.keras.Sequential([\n",
    "    tf.keras.layers.Conv2D(64, (3, 3), padding = \"same\", activation='relu', input_shape = (64, 64, 3)),\n",
    "    tf.keras.layers.Conv2D(32, (3, 3), padding = \"same\", activation='relu'),\n",
    "    tf.keras.layers.MaxPooling2D(pool_size = (2, 2)),\n",
    "    tf.keras.layers.Flatten(),\n",
    "    tf.keras.layers.Dense(64, activation = 'relu'),\n",
    "    tf.keras.layers.Dense(6, activation = 'softmax')\n",
    "])\n",
    "\n",
    "model_one_vgg.compile(optimizer = \"adam\",\n",
    "                      loss='binary_crossentropy',\n",
    "                      metrics=['accuracy'])\n",
    "\n",
    "model_one_vgg.summary()"
   ]
  },
  {
   "cell_type": "code",
   "execution_count": 94,
   "metadata": {},
   "outputs": [
    {
     "name": "stdout",
     "output_type": "stream",
     "text": [
      "Epoch 1/10\n",
      "70/70 [==============================] - 41s 587ms/step - loss: 0.4070 - accuracy: 0.3750 - val_loss: 0.2609 - val_accuracy: 0.6562\n",
      "Epoch 2/10\n",
      "70/70 [==============================] - 42s 595ms/step - loss: 0.1959 - accuracy: 0.7577 - val_loss: 0.1253 - val_accuracy: 0.8750\n",
      "Epoch 3/10\n",
      "70/70 [==============================] - 41s 590ms/step - loss: 0.1112 - accuracy: 0.8730 - val_loss: 0.1789 - val_accuracy: 0.8125\n",
      "Epoch 4/10\n",
      "70/70 [==============================] - 41s 591ms/step - loss: 0.0766 - accuracy: 0.9173 - val_loss: 0.0874 - val_accuracy: 0.8750\n",
      "Epoch 5/10\n",
      "70/70 [==============================] - 42s 593ms/step - loss: 0.0388 - accuracy: 0.9619 - val_loss: 0.0311 - val_accuracy: 0.9688\n",
      "Epoch 6/10\n",
      "70/70 [==============================] - 42s 593ms/step - loss: 0.0202 - accuracy: 0.9818 - val_loss: 0.0216 - val_accuracy: 0.9844\n",
      "Epoch 7/10\n",
      "70/70 [==============================] - 41s 593ms/step - loss: 0.0130 - accuracy: 0.9896 - val_loss: 0.0292 - val_accuracy: 0.9688\n",
      "Epoch 8/10\n",
      "70/70 [==============================] - 42s 594ms/step - loss: 0.0095 - accuracy: 0.9944 - val_loss: 0.0141 - val_accuracy: 1.0000\n",
      "Epoch 9/10\n",
      "70/70 [==============================] - 42s 595ms/step - loss: 0.0048 - accuracy: 0.9975 - val_loss: 0.0103 - val_accuracy: 0.9844\n",
      "Epoch 10/10\n",
      "70/70 [==============================] - 42s 593ms/step - loss: 0.0038 - accuracy: 0.9986 - val_loss: 0.0047 - val_accuracy: 1.0000\n"
     ]
    }
   ],
   "source": [
    "train_one_vgg = model_one_vgg.fit(x_train,\n",
    "                                  y_train_hot,\n",
    "                                  epochs=epochs,\n",
    "                                  batch_size=batch_size,\n",
    "                                  validation_data=(x_valid, y_valid_hot),\n",
    "                                  validation_steps=1)\n",
    "\n",
    "test_one_vgg = model_one_vgg.evaluate(x_test,\n",
    "                                      y_test_hot,\n",
    "                                      verbose=0)       "
   ]
  },
  {
   "cell_type": "code",
   "execution_count": 95,
   "metadata": {},
   "outputs": [],
   "source": [
    "pred_labels_one_vgg = model_one_vgg.predict_classes(x_test)"
   ]
  },
  {
   "cell_type": "code",
   "execution_count": 96,
   "metadata": {},
   "outputs": [],
   "source": [
    "y_pred_one_vgg=[]\n",
    "for elem in pred_labels_one_vgg:\n",
    "    y_pred_one_vgg.append(elem)"
   ]
  },
  {
   "cell_type": "code",
   "execution_count": 97,
   "metadata": {},
   "outputs": [
    {
     "data": {
      "text/html": [
       "<div>\n",
       "<style scoped>\n",
       "    .dataframe tbody tr th:only-of-type {\n",
       "        vertical-align: middle;\n",
       "    }\n",
       "\n",
       "    .dataframe tbody tr th {\n",
       "        vertical-align: top;\n",
       "    }\n",
       "\n",
       "    .dataframe thead th {\n",
       "        text-align: right;\n",
       "    }\n",
       "</style>\n",
       "<table border=\"1\" class=\"dataframe\">\n",
       "  <thead>\n",
       "    <tr style=\"text-align: right;\">\n",
       "      <th></th>\n",
       "      <th>Original labels</th>\n",
       "      <th>Predicted labels</th>\n",
       "    </tr>\n",
       "  </thead>\n",
       "  <tbody>\n",
       "    <tr>\n",
       "      <th>0</th>\n",
       "      <td>5</td>\n",
       "      <td>5</td>\n",
       "    </tr>\n",
       "    <tr>\n",
       "      <th>1</th>\n",
       "      <td>5</td>\n",
       "      <td>5</td>\n",
       "    </tr>\n",
       "    <tr>\n",
       "      <th>2</th>\n",
       "      <td>5</td>\n",
       "      <td>5</td>\n",
       "    </tr>\n",
       "    <tr>\n",
       "      <th>3</th>\n",
       "      <td>4</td>\n",
       "      <td>4</td>\n",
       "    </tr>\n",
       "    <tr>\n",
       "      <th>4</th>\n",
       "      <td>0</td>\n",
       "      <td>0</td>\n",
       "    </tr>\n",
       "    <tr>\n",
       "      <th>...</th>\n",
       "      <td>...</td>\n",
       "      <td>...</td>\n",
       "    </tr>\n",
       "    <tr>\n",
       "      <th>1105</th>\n",
       "      <td>0</td>\n",
       "      <td>0</td>\n",
       "    </tr>\n",
       "    <tr>\n",
       "      <th>1106</th>\n",
       "      <td>3</td>\n",
       "      <td>3</td>\n",
       "    </tr>\n",
       "    <tr>\n",
       "      <th>1107</th>\n",
       "      <td>2</td>\n",
       "      <td>2</td>\n",
       "    </tr>\n",
       "    <tr>\n",
       "      <th>1108</th>\n",
       "      <td>2</td>\n",
       "      <td>2</td>\n",
       "    </tr>\n",
       "    <tr>\n",
       "      <th>1109</th>\n",
       "      <td>2</td>\n",
       "      <td>2</td>\n",
       "    </tr>\n",
       "  </tbody>\n",
       "</table>\n",
       "<p>1110 rows × 2 columns</p>\n",
       "</div>"
      ],
      "text/plain": [
       "      Original labels  Predicted labels\n",
       "0                   5                 5\n",
       "1                   5                 5\n",
       "2                   5                 5\n",
       "3                   4                 4\n",
       "4                   0                 0\n",
       "...               ...               ...\n",
       "1105                0                 0\n",
       "1106                3                 3\n",
       "1107                2                 2\n",
       "1108                2                 2\n",
       "1109                2                 2\n",
       "\n",
       "[1110 rows x 2 columns]"
      ]
     },
     "execution_count": 97,
     "metadata": {},
     "output_type": "execute_result"
    }
   ],
   "source": [
    "df_one_vgg=pd.DataFrame({'Original labels':y_test_orig,\n",
    "                         'Predicted labels':y_pred_one_vgg})\n",
    "df_one_vgg"
   ]
  },
  {
   "cell_type": "code",
   "execution_count": 98,
   "metadata": {},
   "outputs": [
    {
     "data": {
      "text/plain": [
       "<matplotlib.legend.Legend at 0x180314b8c48>"
      ]
     },
     "execution_count": 98,
     "metadata": {},
     "output_type": "execute_result"
    },
    {
     "data": {
      "image/png": "[encoded data removed]",
      "text/plain": [
       "<Figure size 432x432 with 1 Axes>"
      ]
     },
     "metadata": {},
     "output_type": "display_data"
    }
   ],
   "source": [
    "plt.plot(train_one_vgg.history['loss'], label='loss')\n",
    "plt.plot(train_one_vgg.history['val_loss'], label = 'val_loss')\n",
    "plt.xlabel('Epoch')\n",
    "plt.ylabel('loss')\n",
    "plt.ylim([-0.1, 0.5])\n",
    "plt.legend(loc='lower right')"
   ]
  },
  {
   "cell_type": "code",
   "execution_count": 99,
   "metadata": {},
   "outputs": [
    {
     "data": {
      "text/plain": [
       "<matplotlib.legend.Legend at 0x1801b4c2f08>"
      ]
     },
     "execution_count": 99,
     "metadata": {},
     "output_type": "execute_result"
    },
    {
     "data": {
      "image/png": "[encoded data removed]",
      "text/plain": [
       "<Figure size 432x432 with 1 Axes>"
      ]
     },
     "metadata": {},
     "output_type": "display_data"
    }
   ],
   "source": [
    "plt.plot(train_one_vgg.history['accuracy'], label='accuracy')\n",
    "plt.plot(train_one_vgg.history['val_accuracy'], label = 'val_accuracy')\n",
    "plt.xlabel('Epochs')\n",
    "plt.ylabel('Accuracy')\n",
    "plt.ylim([0.0, 1.2])\n",
    "plt.legend(loc='lower right')"
   ]
  },
  {
   "cell_type": "markdown",
   "metadata": {},
   "source": [
    "VGG with two layers"
   ]
  },
  {
   "cell_type": "code",
   "execution_count": 187,
   "metadata": {},
   "outputs": [
    {
     "name": "stdout",
     "output_type": "stream",
     "text": [
      "Model: \"sequential_27\"\n",
      "_________________________________________________________________\n",
      "Layer (type)                 Output Shape              Param #   \n",
      "=================================================================\n",
      "conv2d_62 (Conv2D)           (None, 64, 64, 64)        1792      \n",
      "_________________________________________________________________\n",
      "conv2d_63 (Conv2D)           (None, 64, 64, 64)        36928     \n",
      "_________________________________________________________________\n",
      "max_pooling2d_31 (MaxPooling (None, 32, 32, 64)        0         \n",
      "_________________________________________________________________\n",
      "conv2d_64 (Conv2D)           (None, 32, 32, 128)       73856     \n",
      "_________________________________________________________________\n",
      "conv2d_65 (Conv2D)           (None, 32, 32, 128)       147584    \n",
      "_________________________________________________________________\n",
      "max_pooling2d_32 (MaxPooling (None, 16, 16, 128)       0         \n",
      "_________________________________________________________________\n",
      "flatten_25 (Flatten)         (None, 32768)             0         \n",
      "_________________________________________________________________\n",
      "dense_67 (Dense)             (None, 128)               4194432   \n",
      "_________________________________________________________________\n",
      "dense_68 (Dense)             (None, 6)                 774       \n",
      "=================================================================\n",
      "Total params: 4,455,366\n",
      "Trainable params: 4,455,366\n",
      "Non-trainable params: 0\n",
      "_________________________________________________________________\n"
     ]
    }
   ],
   "source": [
    "model_two_vgg = tf.keras.Sequential([\n",
    "    tf.keras.layers.Conv2D(64, (3, 3), padding = \"same\", activation='relu', input_shape = (64, 64, 3)),\n",
    "    tf.keras.layers.Conv2D(64, (3, 3), padding = \"same\", activation='relu'),\n",
    "    tf.keras.layers.MaxPooling2D(pool_size = (2, 2)),\n",
    "    tf.keras.layers.Conv2D(128, (3, 3), padding = \"same\", activation='relu'),\n",
    "    tf.keras.layers.Conv2D(128, (3, 3), padding = \"same\", activation='relu'),\n",
    "    tf.keras.layers.MaxPooling2D(pool_size = (2, 2)),\n",
    "    tf.keras.layers.Flatten(),\n",
    "    tf.keras.layers.Dense(128, activation = 'relu'),\n",
    "    tf.keras.layers.Dense(6, activation = 'softmax')\n",
    "])\n",
    "\n",
    "model_two_vgg.compile(optimizer = \"adam\",\n",
    "                      loss='binary_crossentropy',\n",
    "                      metrics=['accuracy'])\n",
    "\n",
    "model_two_vgg.summary()"
   ]
  },
  {
   "cell_type": "code",
   "execution_count": 188,
   "metadata": {},
   "outputs": [
    {
     "name": "stdout",
     "output_type": "stream",
     "text": [
      "Epoch 1/10\n",
      "70/70 [==============================] - 78s 1s/step - loss: 0.3430 - accuracy: 0.4788 - val_loss: 0.2352 - val_accuracy: 0.7344\n",
      "Epoch 2/10\n",
      "70/70 [==============================] - 81s 1s/step - loss: 0.1369 - accuracy: 0.8315 - val_loss: 0.0715 - val_accuracy: 0.9219\n",
      "Epoch 3/10\n",
      "70/70 [==============================] - 86s 1s/step - loss: 0.0683 - accuracy: 0.9250 - val_loss: 0.0344 - val_accuracy: 0.9688\n",
      "Epoch 4/10\n",
      "70/70 [==============================] - 81s 1s/step - loss: 0.0305 - accuracy: 0.9716 - val_loss: 0.0307 - val_accuracy: 0.9531\n",
      "Epoch 5/10\n",
      "70/70 [==============================] - 79s 1s/step - loss: 0.0311 - accuracy: 0.9671 - val_loss: 0.0076 - val_accuracy: 1.0000\n",
      "Epoch 6/10\n",
      "70/70 [==============================] - 81s 1s/step - loss: 0.0156 - accuracy: 0.9858 - val_loss: 0.0256 - val_accuracy: 0.9844\n",
      "Epoch 7/10\n",
      "70/70 [==============================] - 79s 1s/step - loss: 0.0132 - accuracy: 0.9876 - val_loss: 0.3052 - val_accuracy: 0.7344\n",
      "Epoch 8/10\n",
      "70/70 [==============================] - 79s 1s/step - loss: 0.0398 - accuracy: 0.9653 - val_loss: 0.0136 - val_accuracy: 0.9844\n",
      "Epoch 9/10\n",
      "70/70 [==============================] - 87s 1s/step - loss: 0.0115 - accuracy: 0.9878 - val_loss: 0.0061 - val_accuracy: 1.0000\n",
      "Epoch 10/10\n",
      "70/70 [==============================] - 82s 1s/step - loss: 0.0101 - accuracy: 0.9901 - val_loss: 0.0181 - val_accuracy: 0.9844\n"
     ]
    }
   ],
   "source": [
    "train_two_vgg = model_two_vgg.fit(x_train,\n",
    "                                  y_train_hot,\n",
    "                                  epochs=epochs,\n",
    "                                  batch_size=batch_size,\n",
    "                                  validation_data=(x_valid, y_valid_hot),\n",
    "                                  validation_steps=1)\n",
    "\n",
    "test_two_vgg = model_two_vgg.evaluate(x_test,\n",
    "                                      y_test_hot,\n",
    "                                      verbose=0)       "
   ]
  },
  {
   "cell_type": "code",
   "execution_count": 102,
   "metadata": {},
   "outputs": [],
   "source": [
    "pred_labels_two_vgg = model_two_vgg.predict_classes(x_test)"
   ]
  },
  {
   "cell_type": "code",
   "execution_count": 103,
   "metadata": {},
   "outputs": [],
   "source": [
    "y_pred_two_vgg=[]\n",
    "for elem in pred_labels_two_vgg:\n",
    "    y_pred_two_vgg.append(elem)"
   ]
  },
  {
   "cell_type": "code",
   "execution_count": 104,
   "metadata": {},
   "outputs": [
    {
     "data": {
      "text/html": [
       "<div>\n",
       "<style scoped>\n",
       "    .dataframe tbody tr th:only-of-type {\n",
       "        vertical-align: middle;\n",
       "    }\n",
       "\n",
       "    .dataframe tbody tr th {\n",
       "        vertical-align: top;\n",
       "    }\n",
       "\n",
       "    .dataframe thead th {\n",
       "        text-align: right;\n",
       "    }\n",
       "</style>\n",
       "<table border=\"1\" class=\"dataframe\">\n",
       "  <thead>\n",
       "    <tr style=\"text-align: right;\">\n",
       "      <th></th>\n",
       "      <th>Original labels</th>\n",
       "      <th>Predicted labels</th>\n",
       "    </tr>\n",
       "  </thead>\n",
       "  <tbody>\n",
       "    <tr>\n",
       "      <th>0</th>\n",
       "      <td>5</td>\n",
       "      <td>5</td>\n",
       "    </tr>\n",
       "    <tr>\n",
       "      <th>1</th>\n",
       "      <td>5</td>\n",
       "      <td>5</td>\n",
       "    </tr>\n",
       "    <tr>\n",
       "      <th>2</th>\n",
       "      <td>5</td>\n",
       "      <td>5</td>\n",
       "    </tr>\n",
       "    <tr>\n",
       "      <th>3</th>\n",
       "      <td>4</td>\n",
       "      <td>4</td>\n",
       "    </tr>\n",
       "    <tr>\n",
       "      <th>4</th>\n",
       "      <td>0</td>\n",
       "      <td>0</td>\n",
       "    </tr>\n",
       "    <tr>\n",
       "      <th>...</th>\n",
       "      <td>...</td>\n",
       "      <td>...</td>\n",
       "    </tr>\n",
       "    <tr>\n",
       "      <th>1105</th>\n",
       "      <td>0</td>\n",
       "      <td>0</td>\n",
       "    </tr>\n",
       "    <tr>\n",
       "      <th>1106</th>\n",
       "      <td>3</td>\n",
       "      <td>3</td>\n",
       "    </tr>\n",
       "    <tr>\n",
       "      <th>1107</th>\n",
       "      <td>2</td>\n",
       "      <td>2</td>\n",
       "    </tr>\n",
       "    <tr>\n",
       "      <th>1108</th>\n",
       "      <td>2</td>\n",
       "      <td>2</td>\n",
       "    </tr>\n",
       "    <tr>\n",
       "      <th>1109</th>\n",
       "      <td>2</td>\n",
       "      <td>2</td>\n",
       "    </tr>\n",
       "  </tbody>\n",
       "</table>\n",
       "<p>1110 rows × 2 columns</p>\n",
       "</div>"
      ],
      "text/plain": [
       "      Original labels  Predicted labels\n",
       "0                   5                 5\n",
       "1                   5                 5\n",
       "2                   5                 5\n",
       "3                   4                 4\n",
       "4                   0                 0\n",
       "...               ...               ...\n",
       "1105                0                 0\n",
       "1106                3                 3\n",
       "1107                2                 2\n",
       "1108                2                 2\n",
       "1109                2                 2\n",
       "\n",
       "[1110 rows x 2 columns]"
      ]
     },
     "execution_count": 104,
     "metadata": {},
     "output_type": "execute_result"
    }
   ],
   "source": [
    "df_two_vgg=pd.DataFrame({'Original labels':y_test_orig,\n",
    "                         'Predicted labels':y_pred_two_vgg})\n",
    "df_two_vgg"
   ]
  },
  {
   "cell_type": "code",
   "execution_count": 105,
   "metadata": {},
   "outputs": [
    {
     "data": {
      "text/plain": [
       "<matplotlib.legend.Legend at 0x18031595548>"
      ]
     },
     "execution_count": 105,
     "metadata": {},
     "output_type": "execute_result"
    },
    {
     "data": {
      "image/png": "[encoded data removed]",
      "text/plain": [
       "<Figure size 432x432 with 1 Axes>"
      ]
     },
     "metadata": {},
     "output_type": "display_data"
    }
   ],
   "source": [
    "plt.plot(train_two_vgg.history['loss'], label='loss')\n",
    "plt.plot(train_two_vgg.history['val_loss'], label = 'val_loss')\n",
    "plt.xlabel('Epoch')\n",
    "plt.ylabel('loss')\n",
    "plt.ylim([-0.2, 0.5])\n",
    "plt.legend(loc='lower right')"
   ]
  },
  {
   "cell_type": "code",
   "execution_count": 106,
   "metadata": {},
   "outputs": [
    {
     "data": {
      "text/plain": [
       "<matplotlib.legend.Legend at 0x180315fae48>"
      ]
     },
     "execution_count": 106,
     "metadata": {},
     "output_type": "execute_result"
    },
    {
     "data": {
      "image/png": "[encoded data removed]",
      "text/plain": [
       "<Figure size 432x432 with 1 Axes>"
      ]
     },
     "metadata": {},
     "output_type": "display_data"
    }
   ],
   "source": [
    "plt.plot(train_two_vgg.history['accuracy'], label='accuracy')\n",
    "plt.plot(train_two_vgg.history['val_accuracy'], label = 'val_accuracy')\n",
    "plt.xlabel('Epochs')\n",
    "plt.ylabel('Accuracy')\n",
    "plt.ylim([0.0, 1.2])\n",
    "plt.legend(loc='lower right')"
   ]
  },
  {
   "cell_type": "markdown",
   "metadata": {},
   "source": [
    "The addition of an adaptive learning rate doesn't seem to bring any improvement in the performance. In the previous 2-layers model dropout will be added although there doesn't seem to be any sign of overfitting."
   ]
  },
  {
   "cell_type": "code",
   "execution_count": 107,
   "metadata": {},
   "outputs": [
    {
     "name": "stdout",
     "output_type": "stream",
     "text": [
      "Model: \"sequential_9\"\n",
      "_________________________________________________________________\n",
      "Layer (type)                 Output Shape              Param #   \n",
      "=================================================================\n",
      "conv2d_6 (Conv2D)            (None, 64, 64, 64)        1792      \n",
      "_________________________________________________________________\n",
      "conv2d_7 (Conv2D)            (None, 64, 64, 64)        36928     \n",
      "_________________________________________________________________\n",
      "max_pooling2d_3 (MaxPooling2 (None, 32, 32, 64)        0         \n",
      "_________________________________________________________________\n",
      "dropout_10 (Dropout)         (None, 32, 32, 64)        0         \n",
      "_________________________________________________________________\n",
      "conv2d_8 (Conv2D)            (None, 32, 32, 128)       73856     \n",
      "_________________________________________________________________\n",
      "conv2d_9 (Conv2D)            (None, 32, 32, 128)       147584    \n",
      "_________________________________________________________________\n",
      "max_pooling2d_4 (MaxPooling2 (None, 16, 16, 128)       0         \n",
      "_________________________________________________________________\n",
      "dropout_11 (Dropout)         (None, 16, 16, 128)       0         \n",
      "_________________________________________________________________\n",
      "flatten_9 (Flatten)          (None, 32768)             0         \n",
      "_________________________________________________________________\n",
      "dense_27 (Dense)             (None, 128)               4194432   \n",
      "_________________________________________________________________\n",
      "dropout_12 (Dropout)         (None, 128)               0         \n",
      "_________________________________________________________________\n",
      "dense_28 (Dense)             (None, 6)                 774       \n",
      "=================================================================\n",
      "Total params: 4,455,366\n",
      "Trainable params: 4,455,366\n",
      "Non-trainable params: 0\n",
      "_________________________________________________________________\n"
     ]
    }
   ],
   "source": [
    "model_two_vgg_drop = tf.keras.Sequential([\n",
    "    tf.keras.layers.Conv2D(64, (3, 3), padding = \"same\", activation='relu', input_shape = (64, 64, 3)),\n",
    "    tf.keras.layers.Conv2D(64, (3, 3), padding = \"same\", activation='relu'),\n",
    "    tf.keras.layers.MaxPooling2D(pool_size = (2, 2)),\n",
    "    tf.keras.layers.Dropout(0.2),\n",
    "    tf.keras.layers.Conv2D(128, (3, 3), padding = \"same\", activation='relu'),\n",
    "    tf.keras.layers.Conv2D(128, (3, 3), padding = \"same\", activation='relu'),\n",
    "    tf.keras.layers.MaxPooling2D(pool_size = (2, 2)),\n",
    "    tf.keras.layers.Dropout(0.2),\n",
    "    tf.keras.layers.Flatten(),\n",
    "    tf.keras.layers.Dense(128, activation = 'relu'),\n",
    "    tf.keras.layers.Dropout(0.2),\n",
    "    tf.keras.layers.Dense(6, activation = 'softmax')\n",
    "])\n",
    "\n",
    "model_two_vgg_drop.compile(optimizer = \"adam\",\n",
    "                      loss='binary_crossentropy',\n",
    "                      metrics=['accuracy'])\n",
    "\n",
    "model_two_vgg_drop.summary()"
   ]
  },
  {
   "cell_type": "code",
   "execution_count": 108,
   "metadata": {
    "scrolled": true
   },
   "outputs": [
    {
     "name": "stdout",
     "output_type": "stream",
     "text": [
      "Epoch 1/10\n",
      "70/70 [==============================] - 116s 2s/step - loss: 0.4508 - accuracy: 0.2423 - val_loss: 0.4235 - val_accuracy: 0.2656\n",
      "Epoch 2/10\n",
      "70/70 [==============================] - 117s 2s/step - loss: 0.2914 - accuracy: 0.5829 - val_loss: 0.2385 - val_accuracy: 0.6875\n",
      "Epoch 3/10\n",
      "70/70 [==============================] - 117s 2s/step - loss: 0.1790 - accuracy: 0.7687 - val_loss: 0.1655 - val_accuracy: 0.8281\n",
      "Epoch 4/10\n",
      "70/70 [==============================] - 117s 2s/step - loss: 0.1167 - accuracy: 0.8624 - val_loss: 0.1215 - val_accuracy: 0.8438\n",
      "Epoch 5/10\n",
      "70/70 [==============================] - 117s 2s/step - loss: 0.0812 - accuracy: 0.9054 - val_loss: 0.0527 - val_accuracy: 0.9219\n",
      "Epoch 6/10\n",
      "70/70 [==============================] - 117s 2s/step - loss: 0.0615 - accuracy: 0.9345 - val_loss: 0.0579 - val_accuracy: 0.9219\n",
      "Epoch 7/10\n",
      "70/70 [==============================] - 118s 2s/step - loss: 0.0454 - accuracy: 0.9514 - val_loss: 0.0377 - val_accuracy: 0.9375\n",
      "Epoch 8/10\n",
      "70/70 [==============================] - 118s 2s/step - loss: 0.0556 - accuracy: 0.9383 - val_loss: 0.0240 - val_accuracy: 0.9844\n",
      "Epoch 9/10\n",
      "70/70 [==============================] - 111s 2s/step - loss: 0.0509 - accuracy: 0.9471 - val_loss: 0.0240 - val_accuracy: 0.9844\n",
      "Epoch 10/10\n",
      "70/70 [==============================] - 113s 2s/step - loss: 0.0321 - accuracy: 0.9676 - val_loss: 0.0079 - val_accuracy: 1.0000\n"
     ]
    }
   ],
   "source": [
    "train_two_vgg_drop = model_two_vgg_drop.fit(x_train,\n",
    "                                            y_train_hot,\n",
    "                                            epochs=epochs,\n",
    "                                            batch_size=batch_size,\n",
    "                                            validation_data=(x_valid, y_valid_hot),\n",
    "                                            validation_steps=1)\n",
    "\n",
    "test_two_vgg_drop = model_two_vgg_drop.evaluate(x_test,\n",
    "                                                y_test_hot,\n",
    "                                                verbose=0)  \n",
    "\n",
    "pred_labels_two_vgg_drop = model_two_vgg_drop.predict_classes(x_test)"
   ]
  },
  {
   "cell_type": "code",
   "execution_count": 109,
   "metadata": {},
   "outputs": [],
   "source": [
    "y_pred_two_vgg_drop = []\n",
    "for elem in pred_labels_two_vgg_drop:\n",
    "    y_pred_two_vgg_drop.append(elem)"
   ]
  },
  {
   "cell_type": "code",
   "execution_count": 110,
   "metadata": {},
   "outputs": [
    {
     "data": {
      "text/html": [
       "<div>\n",
       "<style scoped>\n",
       "    .dataframe tbody tr th:only-of-type {\n",
       "        vertical-align: middle;\n",
       "    }\n",
       "\n",
       "    .dataframe tbody tr th {\n",
       "        vertical-align: top;\n",
       "    }\n",
       "\n",
       "    .dataframe thead th {\n",
       "        text-align: right;\n",
       "    }\n",
       "</style>\n",
       "<table border=\"1\" class=\"dataframe\">\n",
       "  <thead>\n",
       "    <tr style=\"text-align: right;\">\n",
       "      <th></th>\n",
       "      <th>Original labels</th>\n",
       "      <th>Predicted labels</th>\n",
       "    </tr>\n",
       "  </thead>\n",
       "  <tbody>\n",
       "    <tr>\n",
       "      <th>0</th>\n",
       "      <td>5</td>\n",
       "      <td>5</td>\n",
       "    </tr>\n",
       "    <tr>\n",
       "      <th>1</th>\n",
       "      <td>5</td>\n",
       "      <td>5</td>\n",
       "    </tr>\n",
       "    <tr>\n",
       "      <th>2</th>\n",
       "      <td>5</td>\n",
       "      <td>5</td>\n",
       "    </tr>\n",
       "    <tr>\n",
       "      <th>3</th>\n",
       "      <td>4</td>\n",
       "      <td>4</td>\n",
       "    </tr>\n",
       "    <tr>\n",
       "      <th>4</th>\n",
       "      <td>0</td>\n",
       "      <td>0</td>\n",
       "    </tr>\n",
       "    <tr>\n",
       "      <th>...</th>\n",
       "      <td>...</td>\n",
       "      <td>...</td>\n",
       "    </tr>\n",
       "    <tr>\n",
       "      <th>1105</th>\n",
       "      <td>0</td>\n",
       "      <td>0</td>\n",
       "    </tr>\n",
       "    <tr>\n",
       "      <th>1106</th>\n",
       "      <td>3</td>\n",
       "      <td>3</td>\n",
       "    </tr>\n",
       "    <tr>\n",
       "      <th>1107</th>\n",
       "      <td>2</td>\n",
       "      <td>2</td>\n",
       "    </tr>\n",
       "    <tr>\n",
       "      <th>1108</th>\n",
       "      <td>2</td>\n",
       "      <td>2</td>\n",
       "    </tr>\n",
       "    <tr>\n",
       "      <th>1109</th>\n",
       "      <td>2</td>\n",
       "      <td>2</td>\n",
       "    </tr>\n",
       "  </tbody>\n",
       "</table>\n",
       "<p>1110 rows × 2 columns</p>\n",
       "</div>"
      ],
      "text/plain": [
       "      Original labels  Predicted labels\n",
       "0                   5                 5\n",
       "1                   5                 5\n",
       "2                   5                 5\n",
       "3                   4                 4\n",
       "4                   0                 0\n",
       "...               ...               ...\n",
       "1105                0                 0\n",
       "1106                3                 3\n",
       "1107                2                 2\n",
       "1108                2                 2\n",
       "1109                2                 2\n",
       "\n",
       "[1110 rows x 2 columns]"
      ]
     },
     "execution_count": 110,
     "metadata": {},
     "output_type": "execute_result"
    }
   ],
   "source": [
    "df_two_vgg_drop=pd.DataFrame({'Original labels':y_test_orig,\n",
    "                              'Predicted labels':y_pred_two_vgg_drop})\n",
    "df_two_vgg_drop"
   ]
  },
  {
   "cell_type": "code",
   "execution_count": 111,
   "metadata": {},
   "outputs": [
    {
     "data": {
      "text/plain": [
       "<matplotlib.legend.Legend at 0x180319e6d48>"
      ]
     },
     "execution_count": 111,
     "metadata": {},
     "output_type": "execute_result"
    },
    {
     "data": {
      "image/png": "[encoded data removed]",
      "text/plain": [
       "<Figure size 432x432 with 1 Axes>"
      ]
     },
     "metadata": {},
     "output_type": "display_data"
    }
   ],
   "source": [
    "plt.plot(train_two_vgg_drop.history['loss'], label='loss')\n",
    "plt.plot(train_two_vgg_drop.history['val_loss'], label = 'val_loss')\n",
    "plt.xlabel('Epoch')\n",
    "plt.ylabel('loss')\n",
    "plt.ylim([-0.5, 0.5])\n",
    "plt.legend(loc='lower right')"
   ]
  },
  {
   "cell_type": "code",
   "execution_count": 112,
   "metadata": {},
   "outputs": [
    {
     "data": {
      "text/plain": [
       "<matplotlib.legend.Legend at 0x1803196c2c8>"
      ]
     },
     "execution_count": 112,
     "metadata": {},
     "output_type": "execute_result"
    },
    {
     "data": {
      "image/png": "[encoded data removed]",
      "text/plain": [
       "<Figure size 432x432 with 1 Axes>"
      ]
     },
     "metadata": {},
     "output_type": "display_data"
    }
   ],
   "source": [
    "plt.plot(train_two_vgg_drop.history['accuracy'], label='accuracy')\n",
    "plt.plot(train_two_vgg_drop.history['val_accuracy'], label = 'val_accuracy')\n",
    "plt.xlabel('Epochs')\n",
    "plt.ylabel('Accuracy')\n",
    "plt.ylim([0.0, 1.2])\n",
    "plt.legend(loc='lower right')"
   ]
  },
  {
   "cell_type": "markdown",
   "metadata": {},
   "source": [
    "Two VGG blocks with Dropout and BatchNormalization"
   ]
  },
  {
   "cell_type": "code",
   "execution_count": 113,
   "metadata": {},
   "outputs": [
    {
     "name": "stdout",
     "output_type": "stream",
     "text": [
      "Model: \"sequential_10\"\n",
      "_________________________________________________________________\n",
      "Layer (type)                 Output Shape              Param #   \n",
      "=================================================================\n",
      "conv2d_10 (Conv2D)           (None, 64, 64, 64)        1792      \n",
      "_________________________________________________________________\n",
      "batch_normalization (BatchNo (None, 64, 64, 64)        256       \n",
      "_________________________________________________________________\n",
      "conv2d_11 (Conv2D)           (None, 64, 64, 64)        36928     \n",
      "_________________________________________________________________\n",
      "batch_normalization_1 (Batch (None, 64, 64, 64)        256       \n",
      "_________________________________________________________________\n",
      "max_pooling2d_5 (MaxPooling2 (None, 32, 32, 64)        0         \n",
      "_________________________________________________________________\n",
      "dropout_13 (Dropout)         (None, 32, 32, 64)        0         \n",
      "_________________________________________________________________\n",
      "conv2d_12 (Conv2D)           (None, 32, 32, 128)       73856     \n",
      "_________________________________________________________________\n",
      "batch_normalization_2 (Batch (None, 32, 32, 128)       512       \n",
      "_________________________________________________________________\n",
      "conv2d_13 (Conv2D)           (None, 32, 32, 128)       147584    \n",
      "_________________________________________________________________\n",
      "batch_normalization_3 (Batch (None, 32, 32, 128)       512       \n",
      "_________________________________________________________________\n",
      "max_pooling2d_6 (MaxPooling2 (None, 16, 16, 128)       0         \n",
      "_________________________________________________________________\n",
      "dropout_14 (Dropout)         (None, 16, 16, 128)       0         \n",
      "_________________________________________________________________\n",
      "flatten_10 (Flatten)         (None, 32768)             0         \n",
      "_________________________________________________________________\n",
      "dense_29 (Dense)             (None, 128)               4194432   \n",
      "_________________________________________________________________\n",
      "batch_normalization_4 (Batch (None, 128)               512       \n",
      "_________________________________________________________________\n",
      "dropout_15 (Dropout)         (None, 128)               0         \n",
      "_________________________________________________________________\n",
      "dense_30 (Dense)             (None, 6)                 774       \n",
      "=================================================================\n",
      "Total params: 4,457,414\n",
      "Trainable params: 4,456,390\n",
      "Non-trainable params: 1,024\n",
      "_________________________________________________________________\n"
     ]
    }
   ],
   "source": [
    "model_two_vgg_drop_batch = tf.keras.Sequential([\n",
    "    tf.keras.layers.Conv2D(64, (3, 3), padding = \"same\", activation='relu', input_shape = (64, 64, 3)),\n",
    "    tf.keras.layers.BatchNormalization(),\n",
    "    tf.keras.layers.Conv2D(64, (3, 3), padding = \"same\", activation='relu'),\n",
    "    tf.keras.layers.BatchNormalization(),\n",
    "    tf.keras.layers.MaxPooling2D(pool_size = (2, 2)),\n",
    "    tf.keras.layers.Dropout(0.2),\n",
    "    tf.keras.layers.Conv2D(128, (3, 3), padding = \"same\", activation='relu'),\n",
    "    tf.keras.layers.BatchNormalization(),\n",
    "    tf.keras.layers.Conv2D(128, (3, 3), padding = \"same\", activation='relu'),\n",
    "    tf.keras.layers.BatchNormalization(),\n",
    "    tf.keras.layers.MaxPooling2D(pool_size = (2, 2)),\n",
    "    tf.keras.layers.Dropout(0.2),\n",
    "    tf.keras.layers.Flatten(),\n",
    "    tf.keras.layers.Dense(128, activation = 'relu'),\n",
    "    tf.keras.layers.BatchNormalization(),\n",
    "    tf.keras.layers.Dropout(0.2),\n",
    "    tf.keras.layers.Dense(6, activation = 'softmax')\n",
    "])\n",
    "\n",
    "model_two_vgg_drop_batch.compile(optimizer = \"adam\",\n",
    "                      loss='binary_crossentropy',\n",
    "                      metrics=['accuracy'])\n",
    "\n",
    "model_two_vgg_drop_batch.summary()"
   ]
  },
  {
   "cell_type": "code",
   "execution_count": 114,
   "metadata": {},
   "outputs": [
    {
     "name": "stdout",
     "output_type": "stream",
     "text": [
      "Epoch 1/10\n",
      "70/70 [==============================] - 194s 3s/step - loss: 0.1496 - accuracy: 0.8266 - val_loss: 0.5668 - val_accuracy: 0.2500\n",
      "Epoch 2/10\n",
      "70/70 [==============================] - 194s 3s/step - loss: 0.0357 - accuracy: 0.9631 - val_loss: 1.6605 - val_accuracy: 0.2500\n",
      "Epoch 3/10\n",
      "70/70 [==============================] - 194s 3s/step - loss: 0.0171 - accuracy: 0.9842 - val_loss: 0.5232 - val_accuracy: 0.3281\n",
      "Epoch 4/10\n",
      "70/70 [==============================] - 194s 3s/step - loss: 0.0086 - accuracy: 0.9926 - val_loss: 0.8616 - val_accuracy: 0.2031\n",
      "Epoch 5/10\n",
      "70/70 [==============================] - 194s 3s/step - loss: 0.0142 - accuracy: 0.9872 - val_loss: 0.4903 - val_accuracy: 0.4062\n",
      "Epoch 6/10\n",
      "70/70 [==============================] - 194s 3s/step - loss: 0.0050 - accuracy: 0.9957 - val_loss: 0.4370 - val_accuracy: 0.4219\n",
      "Epoch 7/10\n",
      "70/70 [==============================] - 323s 5s/step - loss: 0.0050 - accuracy: 0.9964 - val_loss: 0.4471 - val_accuracy: 0.4531\n",
      "Epoch 8/10\n",
      "70/70 [==============================] - 196s 3s/step - loss: 0.0017 - accuracy: 0.9991 - val_loss: 0.1304 - val_accuracy: 0.8594\n",
      "Epoch 9/10\n",
      "70/70 [==============================] - 2668s 38s/step - loss: 8.3177e-04 - accuracy: 1.0000 - val_loss: 0.0241 - val_accuracy: 0.9688\n",
      "Epoch 10/10\n",
      "70/70 [==============================] - 195s 3s/step - loss: 4.2618e-04 - accuracy: 1.0000 - val_loss: 0.0052 - val_accuracy: 1.0000\n"
     ]
    }
   ],
   "source": [
    "startTimeCNN = timer()\n",
    "train_two_vgg_drop_batch = model_two_vgg_drop_batch.fit(x_train,\n",
    "                                                        y_train_hot,\n",
    "                                                        epochs=epochs,\n",
    "                                                        batch_size=batch_size,\n",
    "                                                        validation_data=(x_valid, y_valid_hot),\n",
    "                                                        validation_steps=1)\n",
    "\n",
    "endTimeCNN = timer()"
   ]
  },
  {
   "cell_type": "code",
   "execution_count": 115,
   "metadata": {},
   "outputs": [
    {
     "name": "stdout",
     "output_type": "stream",
     "text": [
      "Time needed to run the CNN is: 76.0 minutes and 16.3 seconds\n"
     ]
    }
   ],
   "source": [
    "print(\"Time needed to run the CNN is: {} minutes and {:.1f} seconds\".format((endTimeCNN - startTimeCNN)//60, (endTimeCNN - startTimeCNN)%60))"
   ]
  },
  {
   "cell_type": "code",
   "execution_count": 116,
   "metadata": {},
   "outputs": [],
   "source": [
    "test_two_vgg_drop_batch = model_two_vgg_drop_batch.evaluate(x_test, y_test_hot, verbose=0)  \n",
    "\n",
    "pred_labels_two_vgg_drop_batch = model_two_vgg_drop_batch.predict_classes(x_test)"
   ]
  },
  {
   "cell_type": "code",
   "execution_count": 117,
   "metadata": {},
   "outputs": [],
   "source": [
    "y_pred_two_vgg_drop_batch = []\n",
    "for elem in pred_labels_two_vgg_drop_batch:\n",
    "    y_pred_two_vgg_drop_batch.append(elem)"
   ]
  },
  {
   "cell_type": "code",
   "execution_count": 118,
   "metadata": {},
   "outputs": [
    {
     "data": {
      "text/html": [
       "<div>\n",
       "<style scoped>\n",
       "    .dataframe tbody tr th:only-of-type {\n",
       "        vertical-align: middle;\n",
       "    }\n",
       "\n",
       "    .dataframe tbody tr th {\n",
       "        vertical-align: top;\n",
       "    }\n",
       "\n",
       "    .dataframe thead th {\n",
       "        text-align: right;\n",
       "    }\n",
       "</style>\n",
       "<table border=\"1\" class=\"dataframe\">\n",
       "  <thead>\n",
       "    <tr style=\"text-align: right;\">\n",
       "      <th></th>\n",
       "      <th>Original labels</th>\n",
       "      <th>Predicted labels</th>\n",
       "    </tr>\n",
       "  </thead>\n",
       "  <tbody>\n",
       "    <tr>\n",
       "      <th>0</th>\n",
       "      <td>5</td>\n",
       "      <td>5</td>\n",
       "    </tr>\n",
       "    <tr>\n",
       "      <th>1</th>\n",
       "      <td>5</td>\n",
       "      <td>5</td>\n",
       "    </tr>\n",
       "    <tr>\n",
       "      <th>2</th>\n",
       "      <td>5</td>\n",
       "      <td>5</td>\n",
       "    </tr>\n",
       "    <tr>\n",
       "      <th>3</th>\n",
       "      <td>4</td>\n",
       "      <td>4</td>\n",
       "    </tr>\n",
       "    <tr>\n",
       "      <th>4</th>\n",
       "      <td>0</td>\n",
       "      <td>0</td>\n",
       "    </tr>\n",
       "    <tr>\n",
       "      <th>...</th>\n",
       "      <td>...</td>\n",
       "      <td>...</td>\n",
       "    </tr>\n",
       "    <tr>\n",
       "      <th>1105</th>\n",
       "      <td>0</td>\n",
       "      <td>0</td>\n",
       "    </tr>\n",
       "    <tr>\n",
       "      <th>1106</th>\n",
       "      <td>3</td>\n",
       "      <td>3</td>\n",
       "    </tr>\n",
       "    <tr>\n",
       "      <th>1107</th>\n",
       "      <td>2</td>\n",
       "      <td>2</td>\n",
       "    </tr>\n",
       "    <tr>\n",
       "      <th>1108</th>\n",
       "      <td>2</td>\n",
       "      <td>2</td>\n",
       "    </tr>\n",
       "    <tr>\n",
       "      <th>1109</th>\n",
       "      <td>2</td>\n",
       "      <td>2</td>\n",
       "    </tr>\n",
       "  </tbody>\n",
       "</table>\n",
       "<p>1110 rows × 2 columns</p>\n",
       "</div>"
      ],
      "text/plain": [
       "      Original labels  Predicted labels\n",
       "0                   5                 5\n",
       "1                   5                 5\n",
       "2                   5                 5\n",
       "3                   4                 4\n",
       "4                   0                 0\n",
       "...               ...               ...\n",
       "1105                0                 0\n",
       "1106                3                 3\n",
       "1107                2                 2\n",
       "1108                2                 2\n",
       "1109                2                 2\n",
       "\n",
       "[1110 rows x 2 columns]"
      ]
     },
     "execution_count": 118,
     "metadata": {},
     "output_type": "execute_result"
    }
   ],
   "source": [
    "df_two_vgg_drop_batch=pd.DataFrame({'Original labels':y_test_orig,\n",
    "                                    'Predicted labels':y_pred_two_vgg_drop_batch})\n",
    "df_two_vgg_drop_batch"
   ]
  },
  {
   "cell_type": "code",
   "execution_count": 119,
   "metadata": {},
   "outputs": [
    {
     "data": {
      "text/plain": [
       "<matplotlib.legend.Legend at 0x1803ee590c8>"
      ]
     },
     "execution_count": 119,
     "metadata": {},
     "output_type": "execute_result"
    },
    {
     "data": {
      "image/png": "[encoded data removed]",
      "text/plain": [
       "<Figure size 432x432 with 1 Axes>"
      ]
     },
     "metadata": {},
     "output_type": "display_data"
    }
   ],
   "source": [
    "plt.plot(train_two_vgg_drop_batch.history['loss'], label='loss')\n",
    "plt.plot(train_two_vgg_drop_batch.history['val_loss'], label = 'val_loss')\n",
    "plt.xlabel('Epoch')\n",
    "plt.ylabel('loss')\n",
    "plt.ylim([-1, 4])\n",
    "plt.legend(loc='lower right')"
   ]
  },
  {
   "cell_type": "code",
   "execution_count": 120,
   "metadata": {},
   "outputs": [
    {
     "data": {
      "text/plain": [
       "<matplotlib.legend.Legend at 0x1803ee72148>"
      ]
     },
     "execution_count": 120,
     "metadata": {},
     "output_type": "execute_result"
    },
    {
     "data": {
      "image/png": "[encoded data removed]",
      "text/plain": [
       "<Figure size 432x432 with 1 Axes>"
      ]
     },
     "metadata": {},
     "output_type": "display_data"
    }
   ],
   "source": [
    "plt.plot(train_two_vgg_drop_batch.history['accuracy'], label='accuracy')\n",
    "plt.plot(train_two_vgg_drop_batch.history['val_accuracy'], label = 'val_accuracy')\n",
    "plt.xlabel('Epochs')\n",
    "plt.ylabel('Accuracy')\n",
    "plt.ylim([0.0, 1.2])\n",
    "plt.legend(loc='lower right')"
   ]
  },
  {
   "cell_type": "markdown",
   "metadata": {},
   "source": [
    "2 VGG blocks with adaptive learning rate"
   ]
  },
  {
   "cell_type": "code",
   "execution_count": 121,
   "metadata": {},
   "outputs": [
    {
     "name": "stdout",
     "output_type": "stream",
     "text": [
      "Model: \"sequential_11\"\n",
      "_________________________________________________________________\n",
      "Layer (type)                 Output Shape              Param #   \n",
      "=================================================================\n",
      "conv2d_14 (Conv2D)           (None, 64, 64, 64)        1792      \n",
      "_________________________________________________________________\n",
      "batch_normalization_5 (Batch (None, 64, 64, 64)        256       \n",
      "_________________________________________________________________\n",
      "conv2d_15 (Conv2D)           (None, 64, 64, 64)        36928     \n",
      "_________________________________________________________________\n",
      "batch_normalization_6 (Batch (None, 64, 64, 64)        256       \n",
      "_________________________________________________________________\n",
      "max_pooling2d_7 (MaxPooling2 (None, 32, 32, 64)        0         \n",
      "_________________________________________________________________\n",
      "dropout_16 (Dropout)         (None, 32, 32, 64)        0         \n",
      "_________________________________________________________________\n",
      "conv2d_16 (Conv2D)           (None, 32, 32, 128)       73856     \n",
      "_________________________________________________________________\n",
      "batch_normalization_7 (Batch (None, 32, 32, 128)       512       \n",
      "_________________________________________________________________\n",
      "conv2d_17 (Conv2D)           (None, 32, 32, 128)       147584    \n",
      "_________________________________________________________________\n",
      "batch_normalization_8 (Batch (None, 32, 32, 128)       512       \n",
      "_________________________________________________________________\n",
      "max_pooling2d_8 (MaxPooling2 (None, 16, 16, 128)       0         \n",
      "_________________________________________________________________\n",
      "dropout_17 (Dropout)         (None, 16, 16, 128)       0         \n",
      "_________________________________________________________________\n",
      "flatten_11 (Flatten)         (None, 32768)             0         \n",
      "_________________________________________________________________\n",
      "dense_31 (Dense)             (None, 128)               4194432   \n",
      "_________________________________________________________________\n",
      "batch_normalization_9 (Batch (None, 128)               512       \n",
      "_________________________________________________________________\n",
      "dropout_18 (Dropout)         (None, 128)               0         \n",
      "_________________________________________________________________\n",
      "dense_32 (Dense)             (None, 6)                 774       \n",
      "=================================================================\n",
      "Total params: 4,457,414\n",
      "Trainable params: 4,456,390\n",
      "Non-trainable params: 1,024\n",
      "_________________________________________________________________\n"
     ]
    }
   ],
   "source": [
    "model_two_vgg_lr = tf.keras.Sequential([\n",
    "    tf.keras.layers.Conv2D(64, (3, 3), padding = \"same\", activation='relu', input_shape = (64, 64, 3)),\n",
    "    tf.keras.layers.BatchNormalization(),\n",
    "    tf.keras.layers.Conv2D(64, (3, 3), padding = \"same\", activation='relu'),\n",
    "    tf.keras.layers.BatchNormalization(),\n",
    "    tf.keras.layers.MaxPooling2D(pool_size = (2, 2)),\n",
    "    tf.keras.layers.Dropout(0.2),\n",
    "    tf.keras.layers.Conv2D(128, (3, 3), padding = \"same\", activation='relu'),\n",
    "    tf.keras.layers.BatchNormalization(),\n",
    "    tf.keras.layers.Conv2D(128, (3, 3), padding = \"same\", activation='relu'),\n",
    "    tf.keras.layers.BatchNormalization(),\n",
    "    tf.keras.layers.MaxPooling2D(pool_size = (2, 2)),\n",
    "    tf.keras.layers.Dropout(0.2),\n",
    "    tf.keras.layers.Flatten(),\n",
    "    tf.keras.layers.Dense(128, activation = 'relu'),\n",
    "    tf.keras.layers.BatchNormalization(),\n",
    "    tf.keras.layers.Dropout(0.2),\n",
    "    tf.keras.layers.Dense(6, activation = 'softmax')\n",
    "])\n",
    "\n",
    "model_two_vgg_lr.compile(optimizer=tf.keras.optimizers.Adam(lr=0.01),\n",
    "                      loss='binary_crossentropy',\n",
    "                      metrics=['accuracy'])\n",
    "\n",
    "model_two_vgg_lr.summary()"
   ]
  },
  {
   "cell_type": "code",
   "execution_count": 122,
   "metadata": {},
   "outputs": [
    {
     "name": "stdout",
     "output_type": "stream",
     "text": [
      "\n",
      "Epoch 00001: LearningRateScheduler reducing learning rate to 0.01.\n",
      "Epoch 1/10\n",
      "70/70 [==============================] - 154s 2s/step - loss: 0.2347 - accuracy: 0.6995 - val_loss: 0.9865 - val_accuracy: 0.3594\n",
      "\n",
      "Epoch 00002: LearningRateScheduler reducing learning rate to 0.006.\n",
      "Epoch 2/10\n",
      "70/70 [==============================] - 134s 2s/step - loss: 0.0466 - accuracy: 0.9491 - val_loss: 0.8640 - val_accuracy: 0.4062\n",
      "\n",
      "Epoch 00003: LearningRateScheduler reducing learning rate to 0.0036.\n",
      "Epoch 3/10\n",
      "70/70 [==============================] - 134s 2s/step - loss: 0.0193 - accuracy: 0.9818 - val_loss: 0.5240 - val_accuracy: 0.4062\n",
      "\n",
      "Epoch 00004: LearningRateScheduler reducing learning rate to 0.0021599999999999996.\n",
      "Epoch 4/10\n",
      "70/70 [==============================] - 134s 2s/step - loss: 0.0099 - accuracy: 0.9921 - val_loss: 0.4934 - val_accuracy: 0.4531\n",
      "\n",
      "Epoch 00005: LearningRateScheduler reducing learning rate to 0.001296.\n",
      "Epoch 5/10\n",
      "70/70 [==============================] - 135s 2s/step - loss: 0.0057 - accuracy: 0.9975 - val_loss: 0.3783 - val_accuracy: 0.5781\n",
      "\n",
      "Epoch 00006: LearningRateScheduler reducing learning rate to 0.0007775999999999998.\n",
      "Epoch 6/10\n",
      "70/70 [==============================] - 137s 2s/step - loss: 0.0042 - accuracy: 0.9977 - val_loss: 0.1638 - val_accuracy: 0.7969\n",
      "\n",
      "Epoch 00007: LearningRateScheduler reducing learning rate to 0.0004665599999999999.\n",
      "Epoch 7/10\n",
      "70/70 [==============================] - 137s 2s/step - loss: 0.0043 - accuracy: 0.9968 - val_loss: 0.0641 - val_accuracy: 0.9375\n",
      "\n",
      "Epoch 00008: LearningRateScheduler reducing learning rate to 0.00027993599999999994.\n",
      "Epoch 8/10\n",
      "70/70 [==============================] - 147s 2s/step - loss: 0.0032 - accuracy: 0.9991 - val_loss: 0.0121 - val_accuracy: 1.0000\n",
      "\n",
      "Epoch 00009: LearningRateScheduler reducing learning rate to 0.00016796159999999993.\n",
      "Epoch 9/10\n",
      "70/70 [==============================] - 142s 2s/step - loss: 0.0031 - accuracy: 0.9991 - val_loss: 0.0039 - val_accuracy: 1.0000\n",
      "\n",
      "Epoch 00010: LearningRateScheduler reducing learning rate to 0.00010077695999999997.\n",
      "Epoch 10/10\n",
      "70/70 [==============================] - 142s 2s/step - loss: 0.0036 - accuracy: 0.9980 - val_loss: 0.0016 - val_accuracy: 1.0000\n"
     ]
    }
   ],
   "source": [
    "train_two_vgg_lr = model_two_vgg_lr.fit(x_train,\n",
    "                                  y_train_hot,\n",
    "                                  epochs=epochs,\n",
    "                                  batch_size=batch_size,\n",
    "                                  validation_data=(x_valid, y_valid_hot),\n",
    "                                  validation_steps=1,\n",
    "                                  callbacks=[lr_decay_callback])\n"
   ]
  },
  {
   "cell_type": "markdown",
   "metadata": {},
   "source": [
    "There is no improvement in adding ad adaptive learning rate: acutally the model performance decreases."
   ]
  },
  {
   "cell_type": "code",
   "execution_count": 123,
   "metadata": {},
   "outputs": [
    {
     "data": {
      "text/plain": [
       "<matplotlib.legend.Legend at 0x180318b0b88>"
      ]
     },
     "execution_count": 123,
     "metadata": {},
     "output_type": "execute_result"
    },
    {
     "data": {
      "image/png": "[encoded data removed]",
      "text/plain": [
       "<Figure size 432x432 with 1 Axes>"
      ]
     },
     "metadata": {},
     "output_type": "display_data"
    }
   ],
   "source": [
    "plt.plot(train_two_vgg_lr.history['loss'], label='loss')\n",
    "plt.plot(train_two_vgg_lr.history['val_loss'], label = 'val_loss')\n",
    "plt.xlabel('Epoch')\n",
    "plt.ylabel('loss')\n",
    "plt.ylim([-0.2, 0.5])\n",
    "plt.legend(loc='lower right')"
   ]
  },
  {
   "cell_type": "code",
   "execution_count": 124,
   "metadata": {},
   "outputs": [
    {
     "data": {
      "text/plain": [
       "<matplotlib.legend.Legend at 0x1803f2de448>"
      ]
     },
     "execution_count": 124,
     "metadata": {},
     "output_type": "execute_result"
    },
    {
     "data": {
      "image/png": "[encoded data removed]",
      "text/plain": [
       "<Figure size 432x432 with 1 Axes>"
      ]
     },
     "metadata": {},
     "output_type": "display_data"
    }
   ],
   "source": [
    "plt.plot(train_two_vgg_lr.history['accuracy'], label='accuracy')\n",
    "plt.plot(train_two_vgg_lr.history['val_accuracy'], label = 'val_accuracy')\n",
    "plt.xlabel('Epochs')\n",
    "plt.ylabel('Accuracy')\n",
    "plt.ylim([0.0, 1.2])\n",
    "plt.legend(loc='lower right')"
   ]
  },
  {
   "cell_type": "markdown",
   "metadata": {},
   "source": [
    "Grayscale images"
   ]
  },
  {
   "cell_type": "code",
   "execution_count": 125,
   "metadata": {},
   "outputs": [
    {
     "name": "stdout",
     "output_type": "stream",
     "text": [
      "Model: \"sequential_12\"\n",
      "_________________________________________________________________\n",
      "Layer (type)                 Output Shape              Param #   \n",
      "=================================================================\n",
      "conv2d_18 (Conv2D)           (None, 64, 64, 64)        640       \n",
      "_________________________________________________________________\n",
      "batch_normalization_10 (Batc (None, 64, 64, 64)        256       \n",
      "_________________________________________________________________\n",
      "conv2d_19 (Conv2D)           (None, 64, 64, 64)        36928     \n",
      "_________________________________________________________________\n",
      "batch_normalization_11 (Batc (None, 64, 64, 64)        256       \n",
      "_________________________________________________________________\n",
      "max_pooling2d_9 (MaxPooling2 (None, 32, 32, 64)        0         \n",
      "_________________________________________________________________\n",
      "dropout_19 (Dropout)         (None, 32, 32, 64)        0         \n",
      "_________________________________________________________________\n",
      "conv2d_20 (Conv2D)           (None, 32, 32, 128)       73856     \n",
      "_________________________________________________________________\n",
      "batch_normalization_12 (Batc (None, 32, 32, 128)       512       \n",
      "_________________________________________________________________\n",
      "conv2d_21 (Conv2D)           (None, 32, 32, 128)       147584    \n",
      "_________________________________________________________________\n",
      "batch_normalization_13 (Batc (None, 32, 32, 128)       512       \n",
      "_________________________________________________________________\n",
      "max_pooling2d_10 (MaxPooling (None, 16, 16, 128)       0         \n",
      "_________________________________________________________________\n",
      "dropout_20 (Dropout)         (None, 16, 16, 128)       0         \n",
      "_________________________________________________________________\n",
      "flatten_12 (Flatten)         (None, 32768)             0         \n",
      "_________________________________________________________________\n",
      "dense_33 (Dense)             (None, 128)               4194432   \n",
      "_________________________________________________________________\n",
      "batch_normalization_14 (Batc (None, 128)               512       \n",
      "_________________________________________________________________\n",
      "dropout_21 (Dropout)         (None, 128)               0         \n",
      "_________________________________________________________________\n",
      "dense_34 (Dense)             (None, 6)                 774       \n",
      "=================================================================\n",
      "Total params: 4,456,262\n",
      "Trainable params: 4,455,238\n",
      "Non-trainable params: 1,024\n",
      "_________________________________________________________________\n"
     ]
    }
   ],
   "source": [
    "model_gray = tf.keras.Sequential([\n",
    "    tf.keras.layers.Conv2D(64, (3, 3), padding = \"same\", activation='relu', input_shape = (64, 64, 1)),\n",
    "    tf.keras.layers.BatchNormalization(),\n",
    "    tf.keras.layers.Conv2D(64, (3, 3), padding = \"same\", activation='relu'),\n",
    "    tf.keras.layers.BatchNormalization(),\n",
    "    tf.keras.layers.MaxPooling2D(pool_size = (2, 2)),\n",
    "    tf.keras.layers.Dropout(0.2),\n",
    "    tf.keras.layers.Conv2D(128, (3, 3), padding = \"same\", activation='relu'),\n",
    "    tf.keras.layers.BatchNormalization(),\n",
    "    tf.keras.layers.Conv2D(128, (3, 3), padding = \"same\", activation='relu'),\n",
    "    tf.keras.layers.BatchNormalization(),\n",
    "    tf.keras.layers.MaxPooling2D(pool_size = (2, 2)),\n",
    "    tf.keras.layers.Dropout(0.2),\n",
    "    tf.keras.layers.Flatten(),\n",
    "    tf.keras.layers.Dense(128, activation = 'relu'),\n",
    "    tf.keras.layers.BatchNormalization(),\n",
    "    tf.keras.layers.Dropout(0.2),\n",
    "    tf.keras.layers.Dense(6, activation = 'softmax')\n",
    "])\n",
    "\n",
    "model_gray.compile(optimizer = \"adam\",\n",
    "                      loss='binary_crossentropy',\n",
    "                      metrics=['accuracy'])\n",
    "\n",
    "model_gray.summary()"
   ]
  },
  {
   "cell_type": "code",
   "execution_count": 126,
   "metadata": {},
   "outputs": [
    {
     "name": "stdout",
     "output_type": "stream",
     "text": [
      "Epoch 1/10\n",
      "444/444 [==============================] - 143s 322ms/step - loss: 0.4306 - accuracy: 0.3836 - val_loss: 0.4247 - val_accuracy: 0.3267\n",
      "Epoch 2/10\n",
      "444/444 [==============================] - 147s 332ms/step - loss: 0.3490 - accuracy: 0.5151 - val_loss: 0.3019 - val_accuracy: 0.5778\n",
      "Epoch 3/10\n",
      "444/444 [==============================] - 153s 343ms/step - loss: 0.2643 - accuracy: 0.6527 - val_loss: 0.2287 - val_accuracy: 0.7022\n",
      "Epoch 4/10\n",
      "444/444 [==============================] - 152s 342ms/step - loss: 0.1968 - accuracy: 0.7599 - val_loss: 0.2112 - val_accuracy: 0.7133\n",
      "Epoch 5/10\n",
      "444/444 [==============================] - 153s 345ms/step - loss: 0.1592 - accuracy: 0.8113 - val_loss: 0.1643 - val_accuracy: 0.7978\n",
      "Epoch 6/10\n",
      "444/444 [==============================] - 154s 347ms/step - loss: 0.1144 - accuracy: 0.8646 - val_loss: 0.2870 - val_accuracy: 0.6933\n",
      "Epoch 7/10\n",
      "444/444 [==============================] - 153s 345ms/step - loss: 0.0913 - accuracy: 0.8982 - val_loss: 0.1489 - val_accuracy: 0.8178\n",
      "Epoch 8/10\n",
      "444/444 [==============================] - 153s 345ms/step - loss: 0.0824 - accuracy: 0.9083 - val_loss: 0.7819 - val_accuracy: 0.3889\n",
      "Epoch 9/10\n",
      "444/444 [==============================] - 156s 351ms/step - loss: 0.0803 - accuracy: 0.9099 - val_loss: 0.0742 - val_accuracy: 0.9178\n",
      "Epoch 10/10\n",
      "444/444 [==============================] - 154s 348ms/step - loss: 0.0647 - accuracy: 0.9286 - val_loss: 0.0952 - val_accuracy: 0.8933\n"
     ]
    }
   ],
   "source": [
    "train_gray = model_gray.fit(x_train_gray, y_train_hot,\n",
    "                                    epochs=epochs,\n",
    "                                    batch_size=batch_size,\n",
    "                                    validation_data=(x_valid_gray, y_valid_hot))\n",
    "\n",
    "test_gray = model_gray.evaluate(x_test_gray, y_test_hot, verbose=0)  \n",
    "\n",
    "pred_labels_gray = model_gray.predict_classes(x_test_gray)"
   ]
  },
  {
   "cell_type": "code",
   "execution_count": 127,
   "metadata": {},
   "outputs": [],
   "source": [
    "y_pred_gray = []\n",
    "for elem in pred_labels_gray:\n",
    "    y_pred_gray.append(elem)"
   ]
  },
  {
   "cell_type": "code",
   "execution_count": 128,
   "metadata": {},
   "outputs": [
    {
     "data": {
      "text/html": [
       "<div>\n",
       "<style scoped>\n",
       "    .dataframe tbody tr th:only-of-type {\n",
       "        vertical-align: middle;\n",
       "    }\n",
       "\n",
       "    .dataframe tbody tr th {\n",
       "        vertical-align: top;\n",
       "    }\n",
       "\n",
       "    .dataframe thead th {\n",
       "        text-align: right;\n",
       "    }\n",
       "</style>\n",
       "<table border=\"1\" class=\"dataframe\">\n",
       "  <thead>\n",
       "    <tr style=\"text-align: right;\">\n",
       "      <th></th>\n",
       "      <th>Original labels</th>\n",
       "      <th>Predicted labels</th>\n",
       "    </tr>\n",
       "  </thead>\n",
       "  <tbody>\n",
       "    <tr>\n",
       "      <th>0</th>\n",
       "      <td>5</td>\n",
       "      <td>5</td>\n",
       "    </tr>\n",
       "    <tr>\n",
       "      <th>1</th>\n",
       "      <td>5</td>\n",
       "      <td>5</td>\n",
       "    </tr>\n",
       "    <tr>\n",
       "      <th>2</th>\n",
       "      <td>5</td>\n",
       "      <td>0</td>\n",
       "    </tr>\n",
       "    <tr>\n",
       "      <th>3</th>\n",
       "      <td>4</td>\n",
       "      <td>4</td>\n",
       "    </tr>\n",
       "    <tr>\n",
       "      <th>4</th>\n",
       "      <td>0</td>\n",
       "      <td>0</td>\n",
       "    </tr>\n",
       "    <tr>\n",
       "      <th>...</th>\n",
       "      <td>...</td>\n",
       "      <td>...</td>\n",
       "    </tr>\n",
       "    <tr>\n",
       "      <th>1105</th>\n",
       "      <td>0</td>\n",
       "      <td>0</td>\n",
       "    </tr>\n",
       "    <tr>\n",
       "      <th>1106</th>\n",
       "      <td>3</td>\n",
       "      <td>3</td>\n",
       "    </tr>\n",
       "    <tr>\n",
       "      <th>1107</th>\n",
       "      <td>2</td>\n",
       "      <td>2</td>\n",
       "    </tr>\n",
       "    <tr>\n",
       "      <th>1108</th>\n",
       "      <td>2</td>\n",
       "      <td>2</td>\n",
       "    </tr>\n",
       "    <tr>\n",
       "      <th>1109</th>\n",
       "      <td>2</td>\n",
       "      <td>2</td>\n",
       "    </tr>\n",
       "  </tbody>\n",
       "</table>\n",
       "<p>1110 rows × 2 columns</p>\n",
       "</div>"
      ],
      "text/plain": [
       "      Original labels  Predicted labels\n",
       "0                   5                 5\n",
       "1                   5                 5\n",
       "2                   5                 0\n",
       "3                   4                 4\n",
       "4                   0                 0\n",
       "...               ...               ...\n",
       "1105                0                 0\n",
       "1106                3                 3\n",
       "1107                2                 2\n",
       "1108                2                 2\n",
       "1109                2                 2\n",
       "\n",
       "[1110 rows x 2 columns]"
      ]
     },
     "execution_count": 128,
     "metadata": {},
     "output_type": "execute_result"
    }
   ],
   "source": [
    "df_gray=pd.DataFrame({'Original labels':y_test_orig,\n",
    "                      'Predicted labels':y_pred_gray})\n",
    "df_gray"
   ]
  },
  {
   "cell_type": "code",
   "execution_count": 130,
   "metadata": {},
   "outputs": [
    {
     "data": {
      "text/plain": [
       "<matplotlib.legend.Legend at 0x1803f786fc8>"
      ]
     },
     "execution_count": 130,
     "metadata": {},
     "output_type": "execute_result"
    },
    {
     "data": {
      "image/png": "[encoded data removed]",
      "text/plain": [
       "<Figure size 432x432 with 1 Axes>"
      ]
     },
     "metadata": {},
     "output_type": "display_data"
    }
   ],
   "source": [
    "plt.plot(train_gray.history['loss'], label='loss')\n",
    "plt.plot(train_gray.history['val_loss'], label = 'val_loss')\n",
    "plt.xlabel('Epoch')\n",
    "plt.ylabel('Loss')\n",
    "plt.ylim([-1, 2])\n",
    "plt.legend(loc='lower right')"
   ]
  },
  {
   "cell_type": "code",
   "execution_count": 129,
   "metadata": {},
   "outputs": [
    {
     "data": {
      "text/plain": [
       "<matplotlib.legend.Legend at 0x1803f765108>"
      ]
     },
     "execution_count": 129,
     "metadata": {},
     "output_type": "execute_result"
    },
    {
     "data": {
      "image/png": "[encoded data removed]",
      "text/plain": [
       "<Figure size 432x432 with 1 Axes>"
      ]
     },
     "metadata": {},
     "output_type": "display_data"
    }
   ],
   "source": [
    "plt.plot(train_gray.history['accuracy'], label='accuracy')\n",
    "plt.plot(train_gray.history['val_accuracy'], label = 'val_accuracy')\n",
    "plt.xlabel('Epoch')\n",
    "plt.ylabel('Accuracy')\n",
    "plt.ylim([-1, 2])\n",
    "plt.legend(loc='lower right')"
   ]
  },
  {
   "cell_type": "markdown",
   "metadata": {},
   "source": [
    "# PCA"
   ]
  },
  {
   "cell_type": "code",
   "execution_count": 132,
   "metadata": {},
   "outputs": [],
   "source": [
    "from sklearn.metrics import confusion_matrix\n",
    "from sklearn.decomposition import PCA\n",
    "from sklearn.model_selection import train_test_split\n",
    "from sklearn.preprocessing import StandardScaler"
   ]
  },
  {
   "cell_type": "code",
   "execution_count": 191,
   "metadata": {
    "scrolled": true
   },
   "outputs": [
    {
     "data": {
      "image/png": "[encoded data removed]",
      "text/plain": [
       "<Figure size 432x432 with 1 Axes>"
      ]
     },
     "metadata": {},
     "output_type": "display_data"
    }
   ],
   "source": [
    "startTime_PCA = timer()\n",
    "\n",
    "x_pca=PCA().fit(x_train_flat)\n",
    "plt.plot(np.cumsum(x_pca.explained_variance_ratio_))\n",
    "plt.xlabel('number of components')\n",
    "plt.ylabel('cumulative explained variance');\n",
    "\n",
    "endTime_PCA = timer()"
   ]
  },
  {
   "cell_type": "code",
   "execution_count": 186,
   "metadata": {},
   "outputs": [
    {
     "name": "stdout",
     "output_type": "stream",
     "text": [
      "Time to convert the features is: 1.0 minutes and 6.7 seconds\n"
     ]
    }
   ],
   "source": [
    "print(\"Time to convert the features is: {} minutes and {:.1f} seconds\".format((endTime_PCA - startTime_PCA)//60, (endTime_PCA - startTime_PCA)%60))"
   ]
  },
  {
   "cell_type": "code",
   "execution_count": 134,
   "metadata": {},
   "outputs": [],
   "source": [
    "pca_rgb = PCA(0.9)"
   ]
  },
  {
   "cell_type": "code",
   "execution_count": 135,
   "metadata": {},
   "outputs": [],
   "source": [
    "train_rgb = pca_rgb.fit(x_train_flat)\n",
    "valid_rgb = pca_rgb.fit(x_valid_flat)\n",
    "test_rgb = pca_rgb.fit(x_test_flat)"
   ]
  },
  {
   "cell_type": "code",
   "execution_count": 136,
   "metadata": {},
   "outputs": [
    {
     "data": {
      "text/plain": [
       "58"
      ]
     },
     "execution_count": 136,
     "metadata": {},
     "output_type": "execute_result"
    }
   ],
   "source": [
    "pca_rgb.n_components_"
   ]
  },
  {
   "cell_type": "code",
   "execution_count": 137,
   "metadata": {},
   "outputs": [],
   "source": [
    "train_pca = pca_rgb.transform(x_train_flat)\n",
    "valid_pca = pca_rgb.transform(x_valid_flat)\n",
    "test_pca = pca_rgb.transform(x_test_flat)"
   ]
  },
  {
   "cell_type": "code",
   "execution_count": 172,
   "metadata": {},
   "outputs": [
    {
     "data": {
      "text/plain": [
       "(4440, 58)"
      ]
     },
     "execution_count": 172,
     "metadata": {},
     "output_type": "execute_result"
    }
   ],
   "source": [
    "train_pca.shape, valida_pca"
   ]
  },
  {
   "cell_type": "markdown",
   "metadata": {},
   "source": [
    "# Feed-Forward NN on PCA components"
   ]
  },
  {
   "cell_type": "markdown",
   "metadata": {},
   "source": [
    "Feed-Forward NN for PCA"
   ]
  },
  {
   "cell_type": "code",
   "execution_count": 177,
   "metadata": {},
   "outputs": [
    {
     "name": "stdout",
     "output_type": "stream",
     "text": [
      "Model: \"sequential_26\"\n",
      "_________________________________________________________________\n",
      "Layer (type)                 Output Shape              Param #   \n",
      "=================================================================\n",
      "flatten_24 (Flatten)         (None, 58)                0         \n",
      "_________________________________________________________________\n",
      "dense_64 (Dense)             (None, 100)               5900      \n",
      "_________________________________________________________________\n",
      "dropout_54 (Dropout)         (None, 100)               0         \n",
      "_________________________________________________________________\n",
      "dense_65 (Dense)             (None, 64)                6464      \n",
      "_________________________________________________________________\n",
      "dropout_55 (Dropout)         (None, 64)                0         \n",
      "_________________________________________________________________\n",
      "dense_66 (Dense)             (None, 6)                 390       \n",
      "=================================================================\n",
      "Total params: 12,754\n",
      "Trainable params: 12,754\n",
      "Non-trainable params: 0\n",
      "_________________________________________________________________\n"
     ]
    }
   ],
   "source": [
    "model_pca = tf.keras.Sequential([\n",
    "    tf.keras.layers.Flatten(input_shape=(pca_rgb.n_components_,)),\n",
    "    tf.keras.layers.Dense(100, activation='relu'),\n",
    "    tf.keras.layers.Dropout(0.25),\n",
    "    tf.keras.layers.Dense(64, activation='relu'),\n",
    "    tf.keras.layers.Dropout(0.25),\n",
    "    tf.keras.layers.Dense(6, activation='softmax')\n",
    "])\n",
    "\n",
    "model_pca.compile(optimizer='adam',\n",
    "              loss='binary_crossentropy',\n",
    "              metrics=['accuracy'])\n",
    "\n",
    "# print model layers\n",
    "model_pca.summary()"
   ]
  },
  {
   "cell_type": "code",
   "execution_count": 178,
   "metadata": {},
   "outputs": [
    {
     "name": "stdout",
     "output_type": "stream",
     "text": [
      "Epoch 1/30\n",
      "70/70 [==============================] - 0s 3ms/step - loss: 0.4488 - accuracy: 0.2158 - val_loss: 0.4457 - val_accuracy: 0.2969\n",
      "Epoch 2/30\n",
      "70/70 [==============================] - 0s 2ms/step - loss: 0.4377 - accuracy: 0.3171 - val_loss: 0.4296 - val_accuracy: 0.2969\n",
      "Epoch 3/30\n",
      "70/70 [==============================] - 0s 2ms/step - loss: 0.4150 - accuracy: 0.3698 - val_loss: 0.4057 - val_accuracy: 0.3750\n",
      "Epoch 4/30\n",
      "70/70 [==============================] - 0s 2ms/step - loss: 0.3867 - accuracy: 0.4318 - val_loss: 0.3775 - val_accuracy: 0.4531\n",
      "Epoch 5/30\n",
      "70/70 [==============================] - 0s 2ms/step - loss: 0.3515 - accuracy: 0.5153 - val_loss: 0.3404 - val_accuracy: 0.5469\n",
      "Epoch 6/30\n",
      "70/70 [==============================] - 0s 2ms/step - loss: 0.3188 - accuracy: 0.5818 - val_loss: 0.3079 - val_accuracy: 0.6094\n",
      "Epoch 7/30\n",
      "70/70 [==============================] - 0s 2ms/step - loss: 0.2895 - accuracy: 0.6288 - val_loss: 0.2815 - val_accuracy: 0.6250\n",
      "Epoch 8/30\n",
      "70/70 [==============================] - 0s 2ms/step - loss: 0.2648 - accuracy: 0.6572 - val_loss: 0.2631 - val_accuracy: 0.6094\n",
      "Epoch 9/30\n",
      "70/70 [==============================] - 0s 2ms/step - loss: 0.2499 - accuracy: 0.6764 - val_loss: 0.2520 - val_accuracy: 0.6719\n",
      "Epoch 10/30\n",
      "70/70 [==============================] - 0s 2ms/step - loss: 0.2393 - accuracy: 0.6842 - val_loss: 0.2436 - val_accuracy: 0.7188\n",
      "Epoch 11/30\n",
      "70/70 [==============================] - 0s 2ms/step - loss: 0.2301 - accuracy: 0.7070 - val_loss: 0.2361 - val_accuracy: 0.7188\n",
      "Epoch 12/30\n",
      "70/70 [==============================] - 0s 2ms/step - loss: 0.2227 - accuracy: 0.7178 - val_loss: 0.2273 - val_accuracy: 0.7500\n",
      "Epoch 13/30\n",
      "70/70 [==============================] - 0s 2ms/step - loss: 0.2157 - accuracy: 0.7223 - val_loss: 0.2284 - val_accuracy: 0.7188\n",
      "Epoch 14/30\n",
      "70/70 [==============================] - 0s 2ms/step - loss: 0.2130 - accuracy: 0.7327 - val_loss: 0.2276 - val_accuracy: 0.7500\n",
      "Epoch 15/30\n",
      "70/70 [==============================] - 0s 2ms/step - loss: 0.2048 - accuracy: 0.7394 - val_loss: 0.2264 - val_accuracy: 0.7656\n",
      "Epoch 16/30\n",
      "70/70 [==============================] - 0s 2ms/step - loss: 0.2034 - accuracy: 0.7450 - val_loss: 0.2180 - val_accuracy: 0.7344\n",
      "Epoch 17/30\n",
      "70/70 [==============================] - 0s 2ms/step - loss: 0.1960 - accuracy: 0.7556 - val_loss: 0.2166 - val_accuracy: 0.7344\n",
      "Epoch 18/30\n",
      "70/70 [==============================] - 0s 2ms/step - loss: 0.1934 - accuracy: 0.7572 - val_loss: 0.2130 - val_accuracy: 0.7344\n",
      "Epoch 19/30\n",
      "70/70 [==============================] - 0s 2ms/step - loss: 0.1893 - accuracy: 0.7592 - val_loss: 0.2149 - val_accuracy: 0.7656\n",
      "Epoch 20/30\n",
      "70/70 [==============================] - 0s 2ms/step - loss: 0.1854 - accuracy: 0.7707 - val_loss: 0.2121 - val_accuracy: 0.7188\n",
      "Epoch 21/30\n",
      "70/70 [==============================] - 0s 2ms/step - loss: 0.1807 - accuracy: 0.7757 - val_loss: 0.2120 - val_accuracy: 0.7656\n",
      "Epoch 22/30\n",
      "70/70 [==============================] - 0s 2ms/step - loss: 0.1779 - accuracy: 0.7847 - val_loss: 0.2018 - val_accuracy: 0.7656\n",
      "Epoch 23/30\n",
      "70/70 [==============================] - 0s 2ms/step - loss: 0.1781 - accuracy: 0.7777 - val_loss: 0.2016 - val_accuracy: 0.7500\n",
      "Epoch 24/30\n",
      "70/70 [==============================] - 0s 2ms/step - loss: 0.1710 - accuracy: 0.7865 - val_loss: 0.2014 - val_accuracy: 0.7656\n",
      "Epoch 25/30\n",
      "70/70 [==============================] - 0s 2ms/step - loss: 0.1671 - accuracy: 0.7944 - val_loss: 0.2042 - val_accuracy: 0.7344\n",
      "Epoch 26/30\n",
      "70/70 [==============================] - 0s 2ms/step - loss: 0.1637 - accuracy: 0.8119 - val_loss: 0.1951 - val_accuracy: 0.7656\n",
      "Epoch 27/30\n",
      "70/70 [==============================] - 0s 2ms/step - loss: 0.1636 - accuracy: 0.8023 - val_loss: 0.2012 - val_accuracy: 0.7500\n",
      "Epoch 28/30\n",
      "70/70 [==============================] - 0s 2ms/step - loss: 0.1597 - accuracy: 0.8113 - val_loss: 0.1918 - val_accuracy: 0.7500\n",
      "Epoch 29/30\n",
      "70/70 [==============================] - 0s 2ms/step - loss: 0.1584 - accuracy: 0.8052 - val_loss: 0.1949 - val_accuracy: 0.7344\n",
      "Epoch 30/30\n",
      "70/70 [==============================] - 0s 2ms/step - loss: 0.1568 - accuracy: 0.8122 - val_loss: 0.1862 - val_accuracy: 0.7656\n"
     ]
    }
   ],
   "source": [
    "startTime_pca = timer()\n",
    "history_pca = model_pca.fit(train_pca,\n",
    "                            y_train_hot,\n",
    "                            batch_size=batch_size,\n",
    "                            epochs=30,\n",
    "                            validation_data=(valid_pca, y_valid_hot),\n",
    "                            validation_steps=1)\n",
    "\n",
    "endTime_pca = timer()"
   ]
  },
  {
   "cell_type": "code",
   "execution_count": 179,
   "metadata": {},
   "outputs": [
    {
     "name": "stdout",
     "output_type": "stream",
     "text": [
      "Time needed to perform the CNN on the 1st PCA model is: 0.0 minutes and 5.4 seconds\n"
     ]
    }
   ],
   "source": [
    "print(\"Time needed to perform the CNN on the 1st PCA model is: {} minutes and {:.1f} seconds\".format((endTime_pca - startTime_pca)//60, (endTime_pca - startTime_pca)%60))"
   ]
  },
  {
   "cell_type": "code",
   "execution_count": 180,
   "metadata": {},
   "outputs": [],
   "source": [
    "history_test_pca = model_pca.evaluate(test_pca, y_test_hot, verbose=0)  \n",
    "\n",
    "pred_labels_pca = model_pca.predict_classes(test_pca)"
   ]
  },
  {
   "cell_type": "code",
   "execution_count": 181,
   "metadata": {},
   "outputs": [],
   "source": [
    "y_pred_pca = []\n",
    "for elem in pred_labels_pca:\n",
    "    y_pred_pca.append(elem)"
   ]
  },
  {
   "cell_type": "code",
   "execution_count": 182,
   "metadata": {},
   "outputs": [
    {
     "data": {
      "text/html": [
       "<div>\n",
       "<style scoped>\n",
       "    .dataframe tbody tr th:only-of-type {\n",
       "        vertical-align: middle;\n",
       "    }\n",
       "\n",
       "    .dataframe tbody tr th {\n",
       "        vertical-align: top;\n",
       "    }\n",
       "\n",
       "    .dataframe thead th {\n",
       "        text-align: right;\n",
       "    }\n",
       "</style>\n",
       "<table border=\"1\" class=\"dataframe\">\n",
       "  <thead>\n",
       "    <tr style=\"text-align: right;\">\n",
       "      <th></th>\n",
       "      <th>Original labels</th>\n",
       "      <th>Predicted labels</th>\n",
       "    </tr>\n",
       "  </thead>\n",
       "  <tbody>\n",
       "    <tr>\n",
       "      <th>0</th>\n",
       "      <td>5</td>\n",
       "      <td>5</td>\n",
       "    </tr>\n",
       "    <tr>\n",
       "      <th>1</th>\n",
       "      <td>5</td>\n",
       "      <td>5</td>\n",
       "    </tr>\n",
       "    <tr>\n",
       "      <th>2</th>\n",
       "      <td>5</td>\n",
       "      <td>5</td>\n",
       "    </tr>\n",
       "    <tr>\n",
       "      <th>3</th>\n",
       "      <td>4</td>\n",
       "      <td>4</td>\n",
       "    </tr>\n",
       "    <tr>\n",
       "      <th>4</th>\n",
       "      <td>0</td>\n",
       "      <td>0</td>\n",
       "    </tr>\n",
       "    <tr>\n",
       "      <th>...</th>\n",
       "      <td>...</td>\n",
       "      <td>...</td>\n",
       "    </tr>\n",
       "    <tr>\n",
       "      <th>1105</th>\n",
       "      <td>0</td>\n",
       "      <td>0</td>\n",
       "    </tr>\n",
       "    <tr>\n",
       "      <th>1106</th>\n",
       "      <td>3</td>\n",
       "      <td>3</td>\n",
       "    </tr>\n",
       "    <tr>\n",
       "      <th>1107</th>\n",
       "      <td>2</td>\n",
       "      <td>2</td>\n",
       "    </tr>\n",
       "    <tr>\n",
       "      <th>1108</th>\n",
       "      <td>2</td>\n",
       "      <td>2</td>\n",
       "    </tr>\n",
       "    <tr>\n",
       "      <th>1109</th>\n",
       "      <td>2</td>\n",
       "      <td>2</td>\n",
       "    </tr>\n",
       "  </tbody>\n",
       "</table>\n",
       "<p>1110 rows × 2 columns</p>\n",
       "</div>"
      ],
      "text/plain": [
       "      Original labels  Predicted labels\n",
       "0                   5                 5\n",
       "1                   5                 5\n",
       "2                   5                 5\n",
       "3                   4                 4\n",
       "4                   0                 0\n",
       "...               ...               ...\n",
       "1105                0                 0\n",
       "1106                3                 3\n",
       "1107                2                 2\n",
       "1108                2                 2\n",
       "1109                2                 2\n",
       "\n",
       "[1110 rows x 2 columns]"
      ]
     },
     "execution_count": 182,
     "metadata": {},
     "output_type": "execute_result"
    }
   ],
   "source": [
    "df_pca=pd.DataFrame({'Original labels':y_test_orig,\n",
    "                     'Predicted labels':y_pred_pca})\n",
    "df_pca"
   ]
  },
  {
   "cell_type": "code",
   "execution_count": 183,
   "metadata": {},
   "outputs": [
    {
     "data": {
      "text/plain": [
       "<matplotlib.legend.Legend at 0x18062d14988>"
      ]
     },
     "execution_count": 183,
     "metadata": {},
     "output_type": "execute_result"
    },
    {
     "data": {
      "image/png": "[encoded data removed]",
      "text/plain": [
       "<Figure size 432x432 with 1 Axes>"
      ]
     },
     "metadata": {},
     "output_type": "display_data"
    }
   ],
   "source": [
    "plt.plot(history_pca.history['loss'], label='loss')\n",
    "plt.plot(history_pca.history['val_loss'], label = 'val_loss')\n",
    "plt.xlabel('Epoch')\n",
    "plt.ylabel('loss')\n",
    "plt.ylim([-0.2, 1])\n",
    "plt.legend(loc='lower right')"
   ]
  },
  {
   "cell_type": "code",
   "execution_count": 184,
   "metadata": {},
   "outputs": [
    {
     "data": {
      "text/plain": [
       "<matplotlib.legend.Legend at 0x1803f462348>"
      ]
     },
     "execution_count": 184,
     "metadata": {},
     "output_type": "execute_result"
    },
    {
     "data": {
      "image/png": "[encoded data removed]",
      "text/plain": [
       "<Figure size 432x432 with 1 Axes>"
      ]
     },
     "metadata": {},
     "output_type": "display_data"
    }
   ],
   "source": [
    "plt.plot(history_pca.history['accuracy'], label='accuracy')\n",
    "plt.plot(history_pca.history['val_accuracy'], label = 'val_accuracy')\n",
    "plt.xlabel('Epoch')\n",
    "plt.ylabel('Accuracy')\n",
    "plt.ylim([-1, 2])\n",
    "plt.legend(loc='lower right')"
   ]
  }
 ],
 "metadata": {
  "kernelspec": {
   "display_name": "Python 3",
   "language": "python",
   "name": "python3"
  },
  "language_info": {
   "codemirror_mode": {
    "name": "ipython",
    "version": 3
   },
   "file_extension": ".py",
   "mimetype": "text/x-python",
   "name": "python",
   "nbconvert_exporter": "python",
   "pygments_lexer": "ipython3",
   "version": "3.7.7"
  }
 },
 "nbformat": 4,
 "nbformat_minor": 4
}
